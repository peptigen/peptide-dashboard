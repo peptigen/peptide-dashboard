{
  "nbformat": 4,
  "nbformat_minor": 0,
  "metadata": {
    "colab": {
      "name": "Peptide-sol-RNN",
      "provenance": [],
      "collapsed_sections": []
    },
    "kernelspec": {
      "name": "python3",
      "display_name": "Python 3"
    },
    "language_info": {
      "name": "python"
    },
    "accelerator": "GPU"
  },
  "cells": [
    {
      "cell_type": "code",
      "metadata": {
        "colab": {
          "base_uri": "https://localhost:8080/"
        },
        "id": "FLdQgeg6ruk5",
        "outputId": "a94cb491-73dd-4fa8-9429-f98a1e6bd6c8"
      },
      "source": [
        "!pip install -q tensorflowjs\n",
        "!nvidia-smi"
      ],
      "execution_count": 1,
      "outputs": [
        {
          "output_type": "stream",
          "name": "stdout",
          "text": [
            "Sat Jan 15 22:17:51 2022       \n",
            "+-----------------------------------------------------------------------------+\n",
            "| NVIDIA-SMI 495.46       Driver Version: 460.32.03    CUDA Version: 11.2     |\n",
            "|-------------------------------+----------------------+----------------------+\n",
            "| GPU  Name        Persistence-M| Bus-Id        Disp.A | Volatile Uncorr. ECC |\n",
            "| Fan  Temp  Perf  Pwr:Usage/Cap|         Memory-Usage | GPU-Util  Compute M. |\n",
            "|                               |                      |               MIG M. |\n",
            "|===============================+======================+======================|\n",
            "|   0  Tesla P100-PCIE...  Off  | 00000000:00:04.0 Off |                    0 |\n",
            "| N/A   40C    P0    28W / 250W |      0MiB / 16280MiB |      0%      Default |\n",
            "|                               |                      |                  N/A |\n",
            "+-------------------------------+----------------------+----------------------+\n",
            "                                                                               \n",
            "+-----------------------------------------------------------------------------+\n",
            "| Processes:                                                                  |\n",
            "|  GPU   GI   CI        PID   Type   Process name                  GPU Memory |\n",
            "|        ID   ID                                                   Usage      |\n",
            "|=============================================================================|\n",
            "|  No running processes found                                                 |\n",
            "+-----------------------------------------------------------------------------+\n"
          ]
        }
      ]
    },
    {
      "cell_type": "code",
      "metadata": {
        "id": "kN5GDHK6riEe"
      },
      "source": [
        "#@title Runtime\n",
        "use_tpu = False #@param\n"
      ],
      "execution_count": 2,
      "outputs": []
    },
    {
      "cell_type": "code",
      "metadata": {
        "id": "PW7wdIp7py9V"
      },
      "source": [
        "import matplotlib.pyplot as plt\n",
        "import matplotlib as mpl\n",
        "import numpy as np\n",
        "import os\n",
        "import tensorflow as tf\n",
        "import urllib\n",
        "from dataclasses import dataclass\n",
        "import tensorflowjs as tfjs\n",
        "import json\n",
        "np.random.seed(0)"
      ],
      "execution_count": 3,
      "outputs": []
    },
    {
      "cell_type": "code",
      "metadata": {
        "id": "-az13Rv1p6xr"
      },
      "source": [
        "urllib.request.urlretrieve(\n",
        "    \"https://github.com/ur-whitelab/peptide-dashboard/raw/master/ml/data/insoluble.npz\",\n",
        "    \"insoluble.npz\",\n",
        ")\n",
        "urllib.request.urlretrieve(\n",
        "    \"https://github.com/ur-whitelab/peptide-dashboard/raw/master/ml/data/soluble.npz\",\n",
        "    \"soluble.npz\",\n",
        ")\n",
        "with np.load(\"soluble.npz\") as r:\n",
        "    pos_data = r['arr_0']\n",
        "with np.load(\"insoluble.npz\") as r:\n",
        "    neg_data = r['arr_0']\n",
        "\n",
        "# create labels and stich it all into one\n",
        "# tensor\n",
        "labels = np.concatenate(\n",
        "    (\n",
        "        np.ones((pos_data.shape[0], 1), dtype=pos_data.dtype),\n",
        "        np.zeros((neg_data.shape[0], 1), dtype=pos_data.dtype),\n",
        "    ),\n",
        "    axis=0,\n",
        ")\n",
        "features = np.concatenate((pos_data, neg_data), axis=0)"
      ],
      "execution_count": 4,
      "outputs": []
    },
    {
      "cell_type": "code",
      "source": [
        "print('Positive data', pos_data.shape[0])\n",
        "print('Negative data', neg_data.shape[0])"
      ],
      "metadata": {
        "colab": {
          "base_uri": "https://localhost:8080/"
        },
        "id": "r6kg_YZyhQ7v",
        "outputId": "a6f16df0-5747-4285-c712-4df74b3dec3b"
      },
      "execution_count": 5,
      "outputs": [
        {
          "output_type": "stream",
          "name": "stdout",
          "text": [
            "Positive data 8785\n",
            "Negative data 9668\n"
          ]
        }
      ]
    },
    {
      "cell_type": "code",
      "metadata": {
        "id": "4o1kwH0dy_xz"
      },
      "source": [
        "@dataclass\n",
        "class Config:\n",
        "    vocab_size: int\n",
        "    example_number: int\n",
        "    batch_size: int\n",
        "    buffer_size: int\n",
        "    rnn_units: int\n",
        "    hidden_dim: int\n",
        "    embedding_dim: int\n",
        "    reg_strength: float\n",
        "    lr: float\n",
        "    drop_rate: float\n",
        "        \n",
        "config = Config(vocab_size=21, # include gap\n",
        "                example_number=len(labels), \n",
        "                batch_size=32, \n",
        "                buffer_size=10000,\n",
        "                rnn_units=64,\n",
        "                hidden_dim=64,\n",
        "                embedding_dim=48,\n",
        "                reg_strength=0,\n",
        "                lr=1e-3,\n",
        "                drop_rate=0.2\n",
        "               )\n",
        "\n"
      ],
      "execution_count": 6,
      "outputs": []
    },
    {
      "cell_type": "code",
      "metadata": {
        "id": "pC9ee3SEqxqq"
      },
      "source": [
        "def build_model(L):\n",
        "    inputs = tf.keras.Input(shape=(L,))\n",
        "\n",
        "    # make embedding and indicate that 0 should be treated as padding mask\n",
        "    e = tf.keras.layers.Embedding(input_dim=config.vocab_size, \n",
        "                                        output_dim=config.embedding_dim,\n",
        "                                        mask_zero=True)(inputs)\n",
        "    counts = tf.keras.layers.GlobalAveragePooling1D()(e)\n",
        "\n",
        "    # RNN layer\n",
        "    x = tf.keras.layers.Bidirectional(tf.keras.layers.LSTM(config.rnn_units, return_sequences=True))(e)\n",
        "    x = tf.keras.layers.Bidirectional(tf.keras.layers.LSTM(config.rnn_units))(e)\n",
        "    x = tf.keras.layers.Concatenate()([x, counts])\n",
        "    x = tf.keras.layers.LayerNormalization()(x)\n",
        "    x = tf.keras.layers.Dropout(config.drop_rate)(x)\n",
        "    # a dense hidden layer\n",
        "    x = tf.keras.layers.Dense(\n",
        "        config.hidden_dim, \n",
        "        activation='relu', \n",
        "        kernel_regularizer=tf.keras.regularizers.l2(config.reg_strength))(x)\n",
        "    x = tf.keras.layers.LayerNormalization()(x)\n",
        "    x = tf.keras.layers.Dropout(config.drop_rate)(x)\n",
        "    x = tf.keras.layers.Dense(\n",
        "        config.hidden_dim // 4, \n",
        "        activation='relu', \n",
        "        kernel_regularizer=tf.keras.regularizers.l2(config.reg_strength))(x)\n",
        "    x = tf.keras.layers.LayerNormalization()(x)\n",
        "    x = tf.keras.layers.Dropout(config.drop_rate)(x)\n",
        "    # predicting prob, so no activation\n",
        "    yhat = tf.keras.layers.Dense(1)(x)\n",
        "\n",
        "    model = tf.keras.Model(inputs=inputs, outputs=yhat, name='sol-rnn')\n",
        "    return model\n",
        "\n",
        "def build_infer_model(L):\n",
        "    inputs = tf.keras.Input(shape=(L,))\n",
        "\n",
        "    # make embedding and indicate that 0 should be treated as padding mask\n",
        "    e = tf.keras.layers.Embedding(input_dim=config.vocab_size, \n",
        "                                        output_dim=config.embedding_dim,\n",
        "                                        mask_zero=True)(inputs)\n",
        "\n",
        "    counts = tf.keras.layers.GlobalAveragePooling1D()(e)\n",
        "\n",
        "\n",
        "    # RNN layer\n",
        "    x = tf.keras.layers.Bidirectional(tf.keras.layers.LSTM(config.rnn_units, return_sequences=True))(e)\n",
        "    x = tf.keras.layers.Bidirectional(tf.keras.layers.LSTM(config.rnn_units))(e)\n",
        "    x = tf.keras.layers.Concatenate()([x, counts])\n",
        "    x = tf.keras.layers.LayerNormalization()(x)\n",
        "    # a dense hidden layer\n",
        "    x = tf.keras.layers.Dense(\n",
        "        config.hidden_dim, \n",
        "        activation='relu')(x)\n",
        "    x = tf.keras.layers.LayerNormalization()(x)\n",
        "    x = tf.keras.layers.Dense(\n",
        "        config.hidden_dim // 4, \n",
        "        activation='relu')(x)\n",
        "    x = tf.keras.layers.LayerNormalization()(x)\n",
        "    # predicting prob, so no activation\n",
        "    yhat = tf.keras.layers.Dense(1, activation='sigmoid')(x)\n",
        "\n",
        "    model = tf.keras.Model(inputs=inputs, outputs=yhat, name='sol-rnn-infer')\n",
        "    return model"
      ],
      "execution_count": 7,
      "outputs": []
    },
    {
      "cell_type": "code",
      "metadata": {
        "id": "rg4sBeamoCOO"
      },
      "source": [
        "if use_tpu:\n",
        "  tf.keras.backend.clear_session()\n",
        "\n",
        "  resolver = tf.distribute.cluster_resolver.TPUClusterResolver('grpc://' + os.environ['COLAB_TPU_ADDR'])\n",
        "  tf.config.experimental_connect_to_cluster(resolver)\n",
        "\n",
        "  # This is the TPU initialization code that has to be at the beginning.\n",
        "  tf.tpu.experimental.initialize_tpu_system(resolver)\n",
        "  print(\"All devices: \", tf.config.list_logical_devices('TPU'))\n",
        "\n",
        "  strategy = tf.distribute.experimental.TPUStrategy(resolver)\n"
      ],
      "execution_count": 8,
      "outputs": []
    },
    {
      "cell_type": "code",
      "metadata": {
        "id": "dXB1MlmMqAHT"
      },
      "source": [
        "# we now need to shuffle before creating TF dataset\n",
        "# so that our train/test/val splits are random\n",
        "i = np.arange(len(labels))\n",
        "np.random.shuffle(i)\n",
        "labels = labels[i]\n",
        "features = features[i]\n",
        "data = tf.data.Dataset.from_tensor_slices((features, labels))\n",
        "# now split into val, test, train and batch\n",
        "N = len(data)  \n",
        "L = None#features[0].shape[-1]\n",
        "split = int(0.1 * N)\n",
        "test_data = data.take(split).batch(config.batch_size)\n",
        "nontest = data.skip(split)\n",
        "val_data, train_data = nontest.take(split).batch(config.batch_size), \\\n",
        "    nontest.skip(split).shuffle(config.buffer_size).batch(config.batch_size).prefetch(tf.data.experimental.AUTOTUNE)"
      ],
      "execution_count": 9,
      "outputs": []
    },
    {
      "cell_type": "code",
      "metadata": {
        "id": "W8WI1JiDy9J2"
      },
      "source": [
        "if use_tpu:\n",
        "  with strategy.scope():\n",
        "    model = build_model(L)\n",
        "else:\n",
        "  model = build_model(L)\n",
        "\n",
        "  # 50 epochs\n",
        "  decay_steps = N  // config.batch_size * 50\n",
        "  lr_decayed_fn = tf.keras.optimizers.schedules.CosineDecay(\n",
        "      config.lr, decay_steps, alpha=1e-3)\n",
        "  opt = tf.optimizers.Adam(lr_decayed_fn)\n",
        "  model.compile(\n",
        "      opt,\n",
        "      loss=tf.keras.losses.BinaryCrossentropy(from_logits=True),\n",
        "      steps_per_execution = 60 if use_tpu else None,\n",
        "      metrics=[tf.keras.metrics.AUC(from_logits=True), tf.keras.metrics.BinaryAccuracy(threshold=0)])"
      ],
      "execution_count": 10,
      "outputs": []
    },
    {
      "cell_type": "code",
      "source": [
        "model.summary()"
      ],
      "metadata": {
        "colab": {
          "base_uri": "https://localhost:8080/"
        },
        "id": "_M60Z2MiCmw9",
        "outputId": "2c1e0300-2c60-477a-8e09-929b69f14292"
      },
      "execution_count": 11,
      "outputs": [
        {
          "output_type": "stream",
          "name": "stdout",
          "text": [
            "Model: \"sol-rnn\"\n",
            "__________________________________________________________________________________________________\n",
            " Layer (type)                   Output Shape         Param #     Connected to                     \n",
            "==================================================================================================\n",
            " input_1 (InputLayer)           [(None, None)]       0           []                               \n",
            "                                                                                                  \n",
            " embedding (Embedding)          (None, None, 48)     1008        ['input_1[0][0]']                \n",
            "                                                                                                  \n",
            " bidirectional_1 (Bidirectional  (None, 128)         57856       ['embedding[0][0]']              \n",
            " )                                                                                                \n",
            "                                                                                                  \n",
            " global_average_pooling1d (Glob  (None, 48)          0           ['embedding[0][0]']              \n",
            " alAveragePooling1D)                                                                              \n",
            "                                                                                                  \n",
            " concatenate (Concatenate)      (None, 176)          0           ['bidirectional_1[0][0]',        \n",
            "                                                                  'global_average_pooling1d[0][0]'\n",
            "                                                                 ]                                \n",
            "                                                                                                  \n",
            " layer_normalization (LayerNorm  (None, 176)         352         ['concatenate[0][0]']            \n",
            " alization)                                                                                       \n",
            "                                                                                                  \n",
            " dropout (Dropout)              (None, 176)          0           ['layer_normalization[0][0]']    \n",
            "                                                                                                  \n",
            " dense (Dense)                  (None, 64)           11328       ['dropout[0][0]']                \n",
            "                                                                                                  \n",
            " layer_normalization_1 (LayerNo  (None, 64)          128         ['dense[0][0]']                  \n",
            " rmalization)                                                                                     \n",
            "                                                                                                  \n",
            " dropout_1 (Dropout)            (None, 64)           0           ['layer_normalization_1[0][0]']  \n",
            "                                                                                                  \n",
            " dense_1 (Dense)                (None, 16)           1040        ['dropout_1[0][0]']              \n",
            "                                                                                                  \n",
            " layer_normalization_2 (LayerNo  (None, 16)          32          ['dense_1[0][0]']                \n",
            " rmalization)                                                                                     \n",
            "                                                                                                  \n",
            " dropout_2 (Dropout)            (None, 16)           0           ['layer_normalization_2[0][0]']  \n",
            "                                                                                                  \n",
            " dense_2 (Dense)                (None, 1)            17          ['dropout_2[0][0]']              \n",
            "                                                                                                  \n",
            "==================================================================================================\n",
            "Total params: 71,761\n",
            "Trainable params: 71,761\n",
            "Non-trainable params: 0\n",
            "__________________________________________________________________________________________________\n"
          ]
        }
      ]
    },
    {
      "cell_type": "code",
      "metadata": {
        "colab": {
          "base_uri": "https://localhost:8080/"
        },
        "id": "mVSlO4VizO-N",
        "outputId": "ba9d447d-b9d2-430f-a7ab-88196aa6e153"
      },
      "source": [
        "# model.fit(\n",
        "#     train_data, \n",
        "#     validation_data=val_data, \n",
        "#     callbacks=[tf.keras.callbacks.LambdaCallback(\n",
        "#         on_epoch_begin=lambda epochs,logs: print('lr =',lr_decayed_fn(opt.iterations).numpy())\n",
        "#         )],\n",
        "#     epochs=100)\n",
        "\n",
        "result = model.fit(\n",
        "    train_data, \n",
        "    validation_data=val_data, \n",
        "    callbacks=[tf.keras.callbacks.LambdaCallback(\n",
        "        on_epoch_begin=lambda epochs,logs: print('lr =',lr_decayed_fn(opt.iterations).numpy())\n",
        "        ),\n",
        "          tf.keras.callbacks.EarlyStopping(monitor='val_auc', mode='max', restore_best_weights=True, patience=6)],\n",
        "    epochs=150)\n",
        "\n"
      ],
      "execution_count": 12,
      "outputs": [
        {
          "output_type": "stream",
          "name": "stdout",
          "text": [
            "lr = 0.001\n",
            "Epoch 1/150\n",
            "462/462 [==============================] - 22s 30ms/step - loss: 0.6890 - auc: 0.5830 - binary_accuracy: 0.5675 - val_loss: 0.6434 - val_auc: 0.6707 - val_binary_accuracy: 0.6293\n",
            "lr = 0.0009993659\n",
            "Epoch 2/150\n",
            "462/462 [==============================] - 11s 25ms/step - loss: 0.6423 - auc: 0.6690 - binary_accuracy: 0.6274 - val_loss: 0.6313 - val_auc: 0.6861 - val_binary_accuracy: 0.6477\n",
            "lr = 0.000997465\n",
            "Epoch 3/150\n",
            "462/462 [==============================] - 11s 25ms/step - loss: 0.6290 - auc: 0.6821 - binary_accuracy: 0.6375 - val_loss: 0.6266 - val_auc: 0.6955 - val_binary_accuracy: 0.6439\n",
            "lr = 0.0009943021\n",
            "Epoch 4/150\n",
            "462/462 [==============================] - 12s 25ms/step - loss: 0.6211 - auc: 0.6908 - binary_accuracy: 0.6450 - val_loss: 0.6111 - val_auc: 0.7060 - val_binary_accuracy: 0.6482\n",
            "lr = 0.0009898854\n",
            "Epoch 5/150\n",
            "462/462 [==============================] - 12s 25ms/step - loss: 0.6126 - auc: 0.6992 - binary_accuracy: 0.6469 - val_loss: 0.6105 - val_auc: 0.7019 - val_binary_accuracy: 0.6331\n",
            "lr = 0.000984226\n",
            "Epoch 6/150\n",
            "462/462 [==============================] - 12s 25ms/step - loss: 0.6081 - auc: 0.7041 - binary_accuracy: 0.6514 - val_loss: 0.6075 - val_auc: 0.7053 - val_binary_accuracy: 0.6407\n",
            "lr = 0.0009773383\n",
            "Epoch 7/150\n",
            "462/462 [==============================] - 12s 25ms/step - loss: 0.6058 - auc: 0.7072 - binary_accuracy: 0.6532 - val_loss: 0.6037 - val_auc: 0.7141 - val_binary_accuracy: 0.6482\n",
            "lr = 0.0009692397\n",
            "Epoch 8/150\n",
            "462/462 [==============================] - 11s 25ms/step - loss: 0.6008 - auc: 0.7172 - binary_accuracy: 0.6593 - val_loss: 0.6006 - val_auc: 0.7161 - val_binary_accuracy: 0.6526\n",
            "lr = 0.0009599509\n",
            "Epoch 9/150\n",
            "462/462 [==============================] - 12s 25ms/step - loss: 0.5967 - auc: 0.7216 - binary_accuracy: 0.6636 - val_loss: 0.5973 - val_auc: 0.7289 - val_binary_accuracy: 0.6640\n",
            "lr = 0.0009494954\n",
            "Epoch 10/150\n",
            "462/462 [==============================] - 12s 25ms/step - loss: 0.5920 - auc: 0.7267 - binary_accuracy: 0.6640 - val_loss: 0.5990 - val_auc: 0.7187 - val_binary_accuracy: 0.6520\n",
            "lr = 0.00093789987\n",
            "Epoch 11/150\n",
            "462/462 [==============================] - 11s 25ms/step - loss: 0.5890 - auc: 0.7305 - binary_accuracy: 0.6734 - val_loss: 0.5965 - val_auc: 0.7327 - val_binary_accuracy: 0.6699\n",
            "lr = 0.0009251936\n",
            "Epoch 12/150\n",
            "462/462 [==============================] - 11s 25ms/step - loss: 0.5861 - auc: 0.7335 - binary_accuracy: 0.6682 - val_loss: 0.5930 - val_auc: 0.7327 - val_binary_accuracy: 0.6607\n",
            "lr = 0.000911409\n",
            "Epoch 13/150\n",
            "462/462 [==============================] - 12s 25ms/step - loss: 0.5833 - auc: 0.7377 - binary_accuracy: 0.6753 - val_loss: 0.5910 - val_auc: 0.7318 - val_binary_accuracy: 0.6645\n",
            "lr = 0.0008965809\n",
            "Epoch 14/150\n",
            "462/462 [==============================] - 12s 25ms/step - loss: 0.5769 - auc: 0.7448 - binary_accuracy: 0.6839 - val_loss: 0.5893 - val_auc: 0.7323 - val_binary_accuracy: 0.6678\n",
            "lr = 0.00088074716\n",
            "Epoch 15/150\n",
            "462/462 [==============================] - 11s 25ms/step - loss: 0.5758 - auc: 0.7469 - binary_accuracy: 0.6853 - val_loss: 0.5924 - val_auc: 0.7349 - val_binary_accuracy: 0.6737\n",
            "lr = 0.0008639478\n",
            "Epoch 16/150\n",
            "462/462 [==============================] - 12s 25ms/step - loss: 0.5703 - auc: 0.7537 - binary_accuracy: 0.6899 - val_loss: 0.5872 - val_auc: 0.7386 - val_binary_accuracy: 0.6764\n",
            "lr = 0.00084622554\n",
            "Epoch 17/150\n",
            "462/462 [==============================] - 12s 25ms/step - loss: 0.5682 - auc: 0.7552 - binary_accuracy: 0.6887 - val_loss: 0.5829 - val_auc: 0.7376 - val_binary_accuracy: 0.6737\n",
            "lr = 0.00082762545\n",
            "Epoch 18/150\n",
            "462/462 [==============================] - 12s 25ms/step - loss: 0.5656 - auc: 0.7594 - binary_accuracy: 0.6950 - val_loss: 0.5929 - val_auc: 0.7362 - val_binary_accuracy: 0.6699\n",
            "lr = 0.0008081946\n",
            "Epoch 19/150\n",
            "462/462 [==============================] - 12s 25ms/step - loss: 0.5607 - auc: 0.7640 - binary_accuracy: 0.6981 - val_loss: 0.5930 - val_auc: 0.7348 - val_binary_accuracy: 0.6764\n",
            "lr = 0.00078798254\n",
            "Epoch 20/150\n",
            "462/462 [==============================] - 12s 25ms/step - loss: 0.5547 - auc: 0.7702 - binary_accuracy: 0.7023 - val_loss: 0.5882 - val_auc: 0.7342 - val_binary_accuracy: 0.6732\n",
            "lr = 0.0007670405\n",
            "Epoch 21/150\n",
            "462/462 [==============================] - 12s 25ms/step - loss: 0.5497 - auc: 0.7766 - binary_accuracy: 0.7070 - val_loss: 0.5956 - val_auc: 0.7334 - val_binary_accuracy: 0.6672\n",
            "lr = 0.00074542157\n",
            "Epoch 22/150\n",
            "462/462 [==============================] - 12s 25ms/step - loss: 0.5446 - auc: 0.7819 - binary_accuracy: 0.7118 - val_loss: 0.5978 - val_auc: 0.7314 - val_binary_accuracy: 0.6705\n"
          ]
        }
      ]
    },
    {
      "cell_type": "code",
      "metadata": {
        "colab": {
          "base_uri": "https://localhost:8080/",
          "height": 284
        },
        "id": "8p0C2kHV2vrW",
        "outputId": "bf96c156-7cf2-49c4-8364-e39d6babc595"
      },
      "source": [
        "plt.plot(result.history['val_binary_accuracy'])\n",
        "test_result = model.evaluate(test_data)\n",
        "plt.show()"
      ],
      "execution_count": 13,
      "outputs": [
        {
          "output_type": "stream",
          "name": "stdout",
          "text": [
            "58/58 [==============================] - 1s 10ms/step - loss: 0.5932 - auc: 0.7361 - binary_accuracy: 0.6753\n"
          ]
        },
        {
          "output_type": "display_data",
          "data": {
            "image/png": "[encoded data removed]",
            "text/plain": [
              "<Figure size 432x288 with 1 Axes>"
            ]
          },
          "metadata": {
            "needs_background": "light"
          }
        }
      ]
    },
    {
      "cell_type": "code",
      "source": [
        "inference_model = build_infer_model(L)\n",
        "\n",
        "inference_model.set_weights(model.get_weights())"
      ],
      "metadata": {
        "id": "rOfgoKtsU1K-"
      },
      "execution_count": 14,
      "outputs": []
    },
    {
      "cell_type": "code",
      "metadata": {
        "id": "vm_yXNslzRGu",
        "colab": {
          "base_uri": "https://localhost:8080/"
        },
        "outputId": "ed752058-5b3b-43b3-d9da-50b4b1d9de60"
      },
      "source": [
        "inference_model.predict(np.array([1,1,1,0,0,0,0]).reshape(1,-1))"
      ],
      "execution_count": 15,
      "outputs": [
        {
          "output_type": "execute_result",
          "data": {
            "text/plain": [
              "array([[0.39735475]], dtype=float32)"
            ]
          },
          "metadata": {},
          "execution_count": 15
        }
      ]
    },
    {
      "cell_type": "code",
      "metadata": {
        "id": "aDvdjpMmz7UA",
        "colab": {
          "base_uri": "https://localhost:8080/"
        },
        "outputId": "45d0be92-6647-4132-ebbf-a26897957092"
      },
      "source": [
        "tfjs.converters.save_keras_model(inference_model, \"tfjs_model\")"
      ],
      "execution_count": 16,
      "outputs": [
        {
          "output_type": "stream",
          "name": "stdout",
          "text": [
            "WARNING:tensorflow:Compiled the loaded model, but the compiled metrics have yet to be built. `model.compile_metrics` will be empty until you train or evaluate the model.\n"
          ]
        }
      ]
    },
    {
      "cell_type": "markdown",
      "source": [
        "# Model Card"
      ],
      "metadata": {
        "id": "bCdM_rbZfmDQ"
      }
    },
    {
      "cell_type": "code",
      "source": [
        "model_card = {\n",
        "    'title': 'Solubility Prediction',\n",
        "    'details': 'Recurrent (GRU) neural network for predicting solubility. Developed by Andrew White using data from PROSO II database in TFJS.',\n",
        "    'use': 'Peptides or proteins expressed in E. coli that are less than 200 residues long. May provide solubility predictions more broadly applicable.',\n",
        "    'factors': 'Solubility was defined in PROSO II as sequence that was transfectible, expressible, secretable, separable, and soluble in E. coli system.',\n",
        "    'metrics': f'Test accuracy {test_result[2]:.2f}. Test AUC {test_result[1]:.2f}',\n",
        "    'evaluation': 'Withheld positive and negative examples',\n",
        "    'training': f'{len(pos_data) + len(neg_data)} positive and negative sequences.',\n",
        "    'caveats': 'This data is mostly long sequences and so may not be as applicable to solid-phase synthesized peptides. The model accuracy is low.',\n",
        "    'ethics': 'None noted'\n",
        "}\n",
        "with open('card.json', 'w') as f:\n",
        "  json.dump(model_card, f)\n",
        "print(json.dumps(model_card, indent=True))"
      ],
      "metadata": {
        "id": "8x0RLsUSfmdR",
        "colab": {
          "base_uri": "https://localhost:8080/"
        },
        "outputId": "cb769bed-ef5e-43aa-87ce-e354b3ccbe2c"
      },
      "execution_count": 17,
      "outputs": [
        {
          "output_type": "stream",
          "name": "stdout",
          "text": [
            "{\n",
            " \"title\": \"Solubility Prediction\",\n",
            " \"details\": \"Recurrent (GRU) neural network for predicting solubility. Developed by Andrew White using data from PROSO II database in TFJS.\",\n",
            " \"use\": \"Peptides or proteins expressed in E. coli that are less than 200 residues long. May provide solubility predictions more broadly applicable.\",\n",
            " \"factors\": \"Solubility was defined in PROSO II as sequence that was transfectible, expressible, secretable, separable, and soluble in E. coli system.\",\n",
            " \"metrics\": \"Test accuracy 0.68. Test AUC 0.74\",\n",
            " \"evaluation\": \"Withheld positive and negative examples\",\n",
            " \"training\": \"18453 positive and negative sequences.\",\n",
            " \"caveats\": \"This data is mostly long sequences and so may not be as applicable to solid-phase synthesized peptides. The model accuracy is low.\",\n",
            " \"ethics\": \"None noted\"\n",
            "}\n"
          ]
        }
      ]
    },
    {
      "cell_type": "code",
      "source": [
        ""
      ],
      "metadata": {
        "id": "6rLT-k78HFSw"
      },
      "execution_count": 17,
      "outputs": []
    }
  ]
}