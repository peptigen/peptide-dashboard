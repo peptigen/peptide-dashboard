{
  "nbformat": 4,
  "nbformat_minor": 0,
  "metadata": {
    "colab": {
      "name": "Peptide-sol-RNN",
      "provenance": [],
      "collapsed_sections": []
    },
    "kernelspec": {
      "name": "python3",
      "display_name": "Python 3"
    },
    "language_info": {
      "name": "python"
    },
    "accelerator": "GPU"
  },
  "cells": [
    {
      "cell_type": "code",
      "metadata": {
        "colab": {
          "base_uri": "https://localhost:8080/"
        },
        "id": "FLdQgeg6ruk5",
        "outputId": "6fe2b076-041c-41ae-b0b3-e838f507ff63"
      },
      "source": [
        "!pip install -q tensorflowjs\n",
        "!nvidia-smi"
      ],
      "execution_count": 1,
      "outputs": [
        {
          "output_type": "stream",
          "name": "stdout",
          "text": [
            "Sat Jan 15 22:00:20 2022       \n",
            "+-----------------------------------------------------------------------------+\n",
            "| NVIDIA-SMI 495.46       Driver Version: 460.32.03    CUDA Version: 11.2     |\n",
            "|-------------------------------+----------------------+----------------------+\n",
            "| GPU  Name        Persistence-M| Bus-Id        Disp.A | Volatile Uncorr. ECC |\n",
            "| Fan  Temp  Perf  Pwr:Usage/Cap|         Memory-Usage | GPU-Util  Compute M. |\n",
            "|                               |                      |               MIG M. |\n",
            "|===============================+======================+======================|\n",
            "|   0  Tesla P100-PCIE...  Off  | 00000000:00:04.0 Off |                    0 |\n",
            "| N/A   42C    P0    28W / 250W |      0MiB / 16280MiB |      0%      Default |\n",
            "|                               |                      |                  N/A |\n",
            "+-------------------------------+----------------------+----------------------+\n",
            "                                                                               \n",
            "+-----------------------------------------------------------------------------+\n",
            "| Processes:                                                                  |\n",
            "|  GPU   GI   CI        PID   Type   Process name                  GPU Memory |\n",
            "|        ID   ID                                                   Usage      |\n",
            "|=============================================================================|\n",
            "|  No running processes found                                                 |\n",
            "+-----------------------------------------------------------------------------+\n"
          ]
        }
      ]
    },
    {
      "cell_type": "code",
      "metadata": {
        "id": "kN5GDHK6riEe"
      },
      "source": [
        "#@title Runtime\n",
        "use_tpu = False #@param\n"
      ],
      "execution_count": 2,
      "outputs": []
    },
    {
      "cell_type": "code",
      "metadata": {
        "id": "PW7wdIp7py9V"
      },
      "source": [
        "import matplotlib.pyplot as plt\n",
        "import matplotlib as mpl\n",
        "import numpy as np\n",
        "import os\n",
        "import tensorflow as tf\n",
        "import urllib\n",
        "from dataclasses import dataclass\n",
        "import tensorflowjs as tfjs\n",
        "import json\n",
        "np.random.seed(0)"
      ],
      "execution_count": 3,
      "outputs": []
    },
    {
      "cell_type": "code",
      "metadata": {
        "id": "-az13Rv1p6xr"
      },
      "source": [
        "urllib.request.urlretrieve(\n",
        "    \"https://github.com/ur-whitelab/peptide-dashboard/raw/master/ml/data/insoluble.npz\",\n",
        "    \"insoluble.npz\",\n",
        ")\n",
        "urllib.request.urlretrieve(\n",
        "    \"https://github.com/ur-whitelab/peptide-dashboard/raw/master/ml/data/soluble.npz\",\n",
        "    \"soluble.npz\",\n",
        ")\n",
        "with np.load(\"soluble.npz\") as r:\n",
        "    pos_data = r['arr_0']\n",
        "with np.load(\"insoluble.npz\") as r:\n",
        "    neg_data = r['arr_0']\n",
        "\n",
        "# create labels and stich it all into one\n",
        "# tensor\n",
        "labels = np.concatenate(\n",
        "    (\n",
        "        np.ones((pos_data.shape[0], 1), dtype=pos_data.dtype),\n",
        "        np.zeros((neg_data.shape[0], 1), dtype=pos_data.dtype),\n",
        "    ),\n",
        "    axis=0,\n",
        ")\n",
        "features = np.concatenate((pos_data, neg_data), axis=0)"
      ],
      "execution_count": 4,
      "outputs": []
    },
    {
      "cell_type": "code",
      "source": [
        "print('Positive data', pos_data.shape[0])\n",
        "print('Negative data', neg_data.shape[0])"
      ],
      "metadata": {
        "colab": {
          "base_uri": "https://localhost:8080/"
        },
        "id": "r6kg_YZyhQ7v",
        "outputId": "9793fe0a-59cf-4987-b70a-9242378f94df"
      },
      "execution_count": 5,
      "outputs": [
        {
          "output_type": "stream",
          "name": "stdout",
          "text": [
            "Positive data 8785\n",
            "Negative data 9668\n"
          ]
        }
      ]
    },
    {
      "cell_type": "code",
      "metadata": {
        "id": "4o1kwH0dy_xz"
      },
      "source": [
        "@dataclass\n",
        "class Config:\n",
        "    vocab_size: int\n",
        "    example_number: int\n",
        "    batch_size: int\n",
        "    buffer_size: int\n",
        "    rnn_units: int\n",
        "    hidden_dim: int\n",
        "    embedding_dim: int\n",
        "    reg_strength: float\n",
        "    lr: float\n",
        "    drop_rate: float\n",
        "        \n",
        "config = Config(vocab_size=21, # include gap\n",
        "                example_number=len(labels), \n",
        "                batch_size=16, \n",
        "                buffer_size=10000,\n",
        "                rnn_units=148,\n",
        "                hidden_dim=128,\n",
        "                embedding_dim=96,\n",
        "                reg_strength=0,\n",
        "                lr=1e-3,\n",
        "                drop_rate=0.3\n",
        "               )\n",
        "\n"
      ],
      "execution_count": 6,
      "outputs": []
    },
    {
      "cell_type": "code",
      "metadata": {
        "id": "pC9ee3SEqxqq"
      },
      "source": [
        "def build_model(L):\n",
        "    inputs = tf.keras.Input(shape=(L,))\n",
        "\n",
        "    # make embedding and indicate that 0 should be treated as padding mask\n",
        "    e = tf.keras.layers.Embedding(input_dim=config.vocab_size, \n",
        "                                        output_dim=config.embedding_dim,\n",
        "                                        mask_zero=True)(inputs)\n",
        "    counts = tf.keras.layers.GlobalAveragePooling1D()(e)\n",
        "\n",
        "    # RNN layer\n",
        "    x = tf.keras.layers.Bidirectional(tf.keras.layers.LSTM(config.rnn_units, return_sequences=True))(e)\n",
        "    x = tf.keras.layers.Bidirectional(tf.keras.layers.LSTM(config.rnn_units))(e)\n",
        "    x = tf.keras.layers.Concatenate()([x, counts])\n",
        "    x = tf.keras.layers.LayerNormalization()(x)\n",
        "    x = tf.keras.layers.Dropout(config.drop_rate)(x)\n",
        "    # a dense hidden layer\n",
        "    x = tf.keras.layers.Dense(\n",
        "        config.hidden_dim, \n",
        "        activation='relu', \n",
        "        kernel_regularizer=tf.keras.regularizers.l2(config.reg_strength))(x)\n",
        "    x = tf.keras.layers.LayerNormalization()(x)\n",
        "    x = tf.keras.layers.Dropout(config.drop_rate)(x)\n",
        "    x = tf.keras.layers.Dense(\n",
        "        config.hidden_dim // 4, \n",
        "        activation='relu', \n",
        "        kernel_regularizer=tf.keras.regularizers.l2(config.reg_strength))(x)\n",
        "    x = tf.keras.layers.LayerNormalization()(x)\n",
        "    x = tf.keras.layers.Dropout(config.drop_rate)(x)\n",
        "    # predicting prob, so no activation\n",
        "    yhat = tf.keras.layers.Dense(1)(x)\n",
        "\n",
        "    model = tf.keras.Model(inputs=inputs, outputs=yhat, name='sol-rnn')\n",
        "    return model\n",
        "\n",
        "def build_infer_model(L):\n",
        "    inputs = tf.keras.Input(shape=(L,))\n",
        "\n",
        "    # make embedding and indicate that 0 should be treated as padding mask\n",
        "    e = tf.keras.layers.Embedding(input_dim=config.vocab_size, \n",
        "                                        output_dim=config.embedding_dim,\n",
        "                                        mask_zero=True)(inputs)\n",
        "\n",
        "    counts = tf.keras.layers.GlobalAveragePooling1D()(e)\n",
        "\n",
        "\n",
        "    # RNN layer\n",
        "    x = tf.keras.layers.Bidirectional(tf.keras.layers.LSTM(config.rnn_units, return_sequences=True))(e)\n",
        "    x = tf.keras.layers.Bidirectional(tf.keras.layers.LSTM(config.rnn_units))(e)\n",
        "    x = tf.keras.layers.Concatenate()([x, counts])\n",
        "    x = tf.keras.layers.LayerNormalization()(x)\n",
        "    # a dense hidden layer\n",
        "    x = tf.keras.layers.Dense(\n",
        "        config.hidden_dim, \n",
        "        activation='relu')(x)\n",
        "    x = tf.keras.layers.LayerNormalization()(x)\n",
        "    x = tf.keras.layers.Dense(\n",
        "        config.hidden_dim // 4, \n",
        "        activation='relu')(x)\n",
        "    x = tf.keras.layers.LayerNormalization()(x)\n",
        "    # predicting prob, so no activation\n",
        "    yhat = tf.keras.layers.Dense(1, activation='sigmoid')(x)\n",
        "\n",
        "    model = tf.keras.Model(inputs=inputs, outputs=yhat, name='sol-rnn-infer')\n",
        "    return model"
      ],
      "execution_count": 7,
      "outputs": []
    },
    {
      "cell_type": "code",
      "metadata": {
        "id": "rg4sBeamoCOO"
      },
      "source": [
        "if use_tpu:\n",
        "  tf.keras.backend.clear_session()\n",
        "\n",
        "  resolver = tf.distribute.cluster_resolver.TPUClusterResolver('grpc://' + os.environ['COLAB_TPU_ADDR'])\n",
        "  tf.config.experimental_connect_to_cluster(resolver)\n",
        "\n",
        "  # This is the TPU initialization code that has to be at the beginning.\n",
        "  tf.tpu.experimental.initialize_tpu_system(resolver)\n",
        "  print(\"All devices: \", tf.config.list_logical_devices('TPU'))\n",
        "\n",
        "  strategy = tf.distribute.experimental.TPUStrategy(resolver)\n"
      ],
      "execution_count": 8,
      "outputs": []
    },
    {
      "cell_type": "code",
      "metadata": {
        "id": "dXB1MlmMqAHT"
      },
      "source": [
        "# we now need to shuffle before creating TF dataset\n",
        "# so that our train/test/val splits are random\n",
        "i = np.arange(len(labels))\n",
        "np.random.shuffle(i)\n",
        "labels = labels[i]\n",
        "features = features[i]\n",
        "data = tf.data.Dataset.from_tensor_slices((features, labels))\n",
        "# now split into val, test, train and batch\n",
        "N = len(data)  \n",
        "L = None#features[0].shape[-1]\n",
        "split = int(0.1 * N)\n",
        "test_data = data.take(split).batch(config.batch_size)\n",
        "nontest = data.skip(split)\n",
        "val_data, train_data = nontest.take(split).batch(config.batch_size), \\\n",
        "    nontest.skip(split).shuffle(config.buffer_size).batch(config.batch_size).prefetch(tf.data.experimental.AUTOTUNE)"
      ],
      "execution_count": 9,
      "outputs": []
    },
    {
      "cell_type": "code",
      "metadata": {
        "id": "W8WI1JiDy9J2"
      },
      "source": [
        "if use_tpu:\n",
        "  with strategy.scope():\n",
        "    model = build_model(L)\n",
        "else:\n",
        "  model = build_model(L)\n",
        "\n",
        "  # 50 epochs\n",
        "  decay_steps = N  // config.batch_size * 50\n",
        "  lr_decayed_fn = tf.keras.optimizers.schedules.CosineDecay(\n",
        "      config.lr, decay_steps, alpha=1e-3)\n",
        "  opt = tf.optimizers.Adam(lr_decayed_fn)\n",
        "  model.compile(\n",
        "      opt,\n",
        "      loss=tf.keras.losses.BinaryCrossentropy(from_logits=True),\n",
        "      steps_per_execution = 60 if use_tpu else None,\n",
        "      metrics=[tf.keras.metrics.AUC(from_logits=True), tf.keras.metrics.BinaryAccuracy(threshold=0)])"
      ],
      "execution_count": 10,
      "outputs": []
    },
    {
      "cell_type": "code",
      "source": [
        "model.summary()"
      ],
      "metadata": {
        "colab": {
          "base_uri": "https://localhost:8080/"
        },
        "id": "_M60Z2MiCmw9",
        "outputId": "4decf15f-50f8-4163-e635-f2c214d08b24"
      },
      "execution_count": 11,
      "outputs": [
        {
          "output_type": "stream",
          "name": "stdout",
          "text": [
            "Model: \"sol-rnn\"\n",
            "__________________________________________________________________________________________________\n",
            " Layer (type)                   Output Shape         Param #     Connected to                     \n",
            "==================================================================================================\n",
            " input_1 (InputLayer)           [(None, None)]       0           []                               \n",
            "                                                                                                  \n",
            " embedding (Embedding)          (None, None, 96)     2016        ['input_1[0][0]']                \n",
            "                                                                                                  \n",
            " bidirectional_1 (Bidirectional  (None, 296)         290080      ['embedding[0][0]']              \n",
            " )                                                                                                \n",
            "                                                                                                  \n",
            " global_average_pooling1d (Glob  (None, 96)          0           ['embedding[0][0]']              \n",
            " alAveragePooling1D)                                                                              \n",
            "                                                                                                  \n",
            " concatenate (Concatenate)      (None, 392)          0           ['bidirectional_1[0][0]',        \n",
            "                                                                  'global_average_pooling1d[0][0]'\n",
            "                                                                 ]                                \n",
            "                                                                                                  \n",
            " layer_normalization (LayerNorm  (None, 392)         784         ['concatenate[0][0]']            \n",
            " alization)                                                                                       \n",
            "                                                                                                  \n",
            " dropout (Dropout)              (None, 392)          0           ['layer_normalization[0][0]']    \n",
            "                                                                                                  \n",
            " dense (Dense)                  (None, 128)          50304       ['dropout[0][0]']                \n",
            "                                                                                                  \n",
            " layer_normalization_1 (LayerNo  (None, 128)         256         ['dense[0][0]']                  \n",
            " rmalization)                                                                                     \n",
            "                                                                                                  \n",
            " dropout_1 (Dropout)            (None, 128)          0           ['layer_normalization_1[0][0]']  \n",
            "                                                                                                  \n",
            " dense_1 (Dense)                (None, 32)           4128        ['dropout_1[0][0]']              \n",
            "                                                                                                  \n",
            " layer_normalization_2 (LayerNo  (None, 32)          64          ['dense_1[0][0]']                \n",
            " rmalization)                                                                                     \n",
            "                                                                                                  \n",
            " dropout_2 (Dropout)            (None, 32)           0           ['layer_normalization_2[0][0]']  \n",
            "                                                                                                  \n",
            " dense_2 (Dense)                (None, 1)            33          ['dropout_2[0][0]']              \n",
            "                                                                                                  \n",
            "==================================================================================================\n",
            "Total params: 347,665\n",
            "Trainable params: 347,665\n",
            "Non-trainable params: 0\n",
            "__________________________________________________________________________________________________\n"
          ]
        }
      ]
    },
    {
      "cell_type": "code",
      "metadata": {
        "colab": {
          "base_uri": "https://localhost:8080/"
        },
        "id": "mVSlO4VizO-N",
        "outputId": "0a95b9ad-253a-4c15-9924-38e500397174"
      },
      "source": [
        "# model.fit(\n",
        "#     train_data, \n",
        "#     validation_data=val_data, \n",
        "#     callbacks=[tf.keras.callbacks.LambdaCallback(\n",
        "#         on_epoch_begin=lambda epochs,logs: print('lr =',lr_decayed_fn(opt.iterations).numpy())\n",
        "#         )],\n",
        "#     epochs=100)\n",
        "\n",
        "result = model.fit(\n",
        "    train_data, \n",
        "    validation_data=val_data, \n",
        "    callbacks=[tf.keras.callbacks.LambdaCallback(\n",
        "        on_epoch_begin=lambda epochs,logs: print('lr =',lr_decayed_fn(opt.iterations).numpy())\n",
        "        ),\n",
        "          tf.keras.callbacks.EarlyStopping(monitor='val_auc', mode='max', restore_best_weights=True, patience=6)],\n",
        "    epochs=150)\n",
        "\n"
      ],
      "execution_count": 12,
      "outputs": [
        {
          "output_type": "stream",
          "name": "stdout",
          "text": [
            "lr = 0.001\n",
            "Epoch 1/150\n",
            "923/923 [==============================] - 37s 32ms/step - loss: 0.6778 - auc: 0.6012 - binary_accuracy: 0.5800 - val_loss: 0.6374 - val_auc: 0.6728 - val_binary_accuracy: 0.6412\n",
            "lr = 0.0009993684\n",
            "Epoch 2/150\n",
            "923/923 [==============================] - 27s 29ms/step - loss: 0.6425 - auc: 0.6594 - binary_accuracy: 0.6307 - val_loss: 0.6283 - val_auc: 0.6914 - val_binary_accuracy: 0.6314\n",
            "lr = 0.0009974748\n",
            "Epoch 3/150\n",
            "923/923 [==============================] - 27s 29ms/step - loss: 0.6269 - auc: 0.6792 - binary_accuracy: 0.6409 - val_loss: 0.6195 - val_auc: 0.6876 - val_binary_accuracy: 0.6363\n",
            "lr = 0.0009943242\n",
            "Epoch 4/150\n",
            "923/923 [==============================] - 26s 28ms/step - loss: 0.6165 - auc: 0.6875 - binary_accuracy: 0.6453 - val_loss: 0.6070 - val_auc: 0.7067 - val_binary_accuracy: 0.6493\n",
            "lr = 0.0009899247\n",
            "Epoch 5/150\n",
            "923/923 [==============================] - 26s 28ms/step - loss: 0.6097 - auc: 0.6975 - binary_accuracy: 0.6512 - val_loss: 0.6053 - val_auc: 0.7156 - val_binary_accuracy: 0.6542\n",
            "lr = 0.0009842871\n",
            "Epoch 6/150\n",
            "923/923 [==============================] - 26s 28ms/step - loss: 0.6103 - auc: 0.6927 - binary_accuracy: 0.6478 - val_loss: 0.6155 - val_auc: 0.7009 - val_binary_accuracy: 0.6374\n",
            "lr = 0.0009774258\n",
            "Epoch 7/150\n",
            "923/923 [==============================] - 26s 28ms/step - loss: 0.6058 - auc: 0.7022 - binary_accuracy: 0.6537 - val_loss: 0.6042 - val_auc: 0.7148 - val_binary_accuracy: 0.6607\n",
            "lr = 0.0009693582\n",
            "Epoch 8/150\n",
            "923/923 [==============================] - 26s 28ms/step - loss: 0.6042 - auc: 0.7027 - binary_accuracy: 0.6480 - val_loss: 0.6103 - val_auc: 0.7064 - val_binary_accuracy: 0.6417\n",
            "lr = 0.0009601047\n",
            "Epoch 9/150\n",
            "923/923 [==============================] - 26s 28ms/step - loss: 0.5956 - auc: 0.7159 - binary_accuracy: 0.6621 - val_loss: 0.5975 - val_auc: 0.7094 - val_binary_accuracy: 0.6569\n",
            "lr = 0.0009496887\n",
            "Epoch 10/150\n",
            "923/923 [==============================] - 26s 28ms/step - loss: 0.5893 - auc: 0.7260 - binary_accuracy: 0.6672 - val_loss: 0.5985 - val_auc: 0.7160 - val_binary_accuracy: 0.6558\n",
            "lr = 0.00093813654\n",
            "Epoch 11/150\n",
            "923/923 [==============================] - 27s 29ms/step - loss: 0.5823 - auc: 0.7339 - binary_accuracy: 0.6734 - val_loss: 0.5998 - val_auc: 0.7156 - val_binary_accuracy: 0.6591\n",
            "lr = 0.0009254774\n",
            "Epoch 12/150\n",
            "923/923 [==============================] - 26s 29ms/step - loss: 0.5761 - auc: 0.7435 - binary_accuracy: 0.6774 - val_loss: 0.5982 - val_auc: 0.7133 - val_binary_accuracy: 0.6585\n",
            "lr = 0.0009117433\n",
            "Epoch 13/150\n",
            "923/923 [==============================] - 27s 29ms/step - loss: 0.5696 - auc: 0.7511 - binary_accuracy: 0.6851 - val_loss: 0.6113 - val_auc: 0.7146 - val_binary_accuracy: 0.6444\n",
            "lr = 0.0008969691\n",
            "Epoch 14/150\n",
            "923/923 [==============================] - 26s 29ms/step - loss: 0.5564 - auc: 0.7666 - binary_accuracy: 0.6969 - val_loss: 0.6031 - val_auc: 0.7178 - val_binary_accuracy: 0.6623\n",
            "lr = 0.00088119204\n",
            "Epoch 15/150\n",
            "923/923 [==============================] - 26s 29ms/step - loss: 0.5455 - auc: 0.7783 - binary_accuracy: 0.7035 - val_loss: 0.6174 - val_auc: 0.7139 - val_binary_accuracy: 0.6585\n",
            "lr = 0.0008644521\n",
            "Epoch 16/150\n",
            "923/923 [==============================] - 27s 29ms/step - loss: 0.5296 - auc: 0.7944 - binary_accuracy: 0.7127 - val_loss: 0.6119 - val_auc: 0.7192 - val_binary_accuracy: 0.6645\n",
            "lr = 0.0008467916\n",
            "Epoch 17/150\n",
            "923/923 [==============================] - 26s 29ms/step - loss: 0.5165 - auc: 0.8076 - binary_accuracy: 0.7212 - val_loss: 0.6308 - val_auc: 0.7167 - val_binary_accuracy: 0.6715\n",
            "lr = 0.00082825514\n",
            "Epoch 18/150\n",
            "923/923 [==============================] - 26s 29ms/step - loss: 0.4995 - auc: 0.8236 - binary_accuracy: 0.7332 - val_loss: 0.6256 - val_auc: 0.7073 - val_binary_accuracy: 0.6602\n",
            "lr = 0.00080888974\n",
            "Epoch 19/150\n",
            "923/923 [==============================] - 27s 29ms/step - loss: 0.4842 - auc: 0.8359 - binary_accuracy: 0.7486 - val_loss: 0.6717 - val_auc: 0.6959 - val_binary_accuracy: 0.6477\n",
            "lr = 0.00078874425\n",
            "Epoch 20/150\n",
            "923/923 [==============================] - 27s 29ms/step - loss: 0.4618 - auc: 0.8532 - binary_accuracy: 0.7632 - val_loss: 0.6762 - val_auc: 0.7026 - val_binary_accuracy: 0.6580\n",
            "lr = 0.00076786964\n",
            "Epoch 21/150\n",
            "923/923 [==============================] - 27s 29ms/step - loss: 0.4399 - auc: 0.8696 - binary_accuracy: 0.7780 - val_loss: 0.7227 - val_auc: 0.6998 - val_binary_accuracy: 0.6385\n",
            "lr = 0.0007463188\n",
            "Epoch 22/150\n",
            "923/923 [==============================] - 26s 29ms/step - loss: 0.4163 - auc: 0.8851 - binary_accuracy: 0.7937 - val_loss: 0.7365 - val_auc: 0.6935 - val_binary_accuracy: 0.6407\n",
            "lr = 0.0007241462\n",
            "Epoch 23/150\n",
            "923/923 [==============================] - 27s 29ms/step - loss: 0.3965 - auc: 0.8969 - binary_accuracy: 0.8044 - val_loss: 0.7643 - val_auc: 0.6899 - val_binary_accuracy: 0.6379\n",
            "lr = 0.00070140796\n",
            "Epoch 24/150\n",
            "923/923 [==============================] - 26s 29ms/step - loss: 0.3734 - auc: 0.9103 - binary_accuracy: 0.8217 - val_loss: 0.8192 - val_auc: 0.6861 - val_binary_accuracy: 0.6271\n",
            "lr = 0.00067816145\n",
            "Epoch 25/150\n",
            "923/923 [==============================] - 27s 29ms/step - loss: 0.3476 - auc: 0.9232 - binary_accuracy: 0.8351 - val_loss: 0.8745 - val_auc: 0.6843 - val_binary_accuracy: 0.6358\n",
            "lr = 0.00065446564\n",
            "Epoch 26/150\n",
            "923/923 [==============================] - 26s 29ms/step - loss: 0.3388 - auc: 0.9271 - binary_accuracy: 0.8370 - val_loss: 0.9196 - val_auc: 0.6829 - val_binary_accuracy: 0.6331\n"
          ]
        }
      ]
    },
    {
      "cell_type": "code",
      "metadata": {
        "colab": {
          "base_uri": "https://localhost:8080/",
          "height": 284
        },
        "id": "8p0C2kHV2vrW",
        "outputId": "0731159b-dd2d-4d34-b61b-0f71c39b024a"
      },
      "source": [
        "plt.plot(result.history['val_binary_accuracy'])\n",
        "test_result = model.evaluate(test_data)\n",
        "plt.show()"
      ],
      "execution_count": 13,
      "outputs": [
        {
          "output_type": "stream",
          "name": "stdout",
          "text": [
            "116/116 [==============================] - 1s 11ms/step - loss: 0.6045 - auc: 0.7342 - binary_accuracy: 0.6737\n"
          ]
        },
        {
          "output_type": "display_data",
          "data": {
            "image/png": "[encoded data removed]",
            "text/plain": [
              "<Figure size 432x288 with 1 Axes>"
            ]
          },
          "metadata": {
            "needs_background": "light"
          }
        }
      ]
    },
    {
      "cell_type": "code",
      "source": [
        "inference_model = build_infer_model(L)\n",
        "\n",
        "inference_model.set_weights(model.get_weights())"
      ],
      "metadata": {
        "id": "rOfgoKtsU1K-"
      },
      "execution_count": 14,
      "outputs": []
    },
    {
      "cell_type": "code",
      "metadata": {
        "id": "vm_yXNslzRGu",
        "colab": {
          "base_uri": "https://localhost:8080/"
        },
        "outputId": "84834005-444a-4dd3-e555-2a0c8f1b6581"
      },
      "source": [
        "inference_model.predict(np.array([1,1,1,0,0,0,0]).reshape(1,-1))"
      ],
      "execution_count": 15,
      "outputs": [
        {
          "output_type": "execute_result",
          "data": {
            "text/plain": [
              "array([[0.32470626]], dtype=float32)"
            ]
          },
          "metadata": {},
          "execution_count": 15
        }
      ]
    },
    {
      "cell_type": "code",
      "metadata": {
        "id": "aDvdjpMmz7UA",
        "colab": {
          "base_uri": "https://localhost:8080/"
        },
        "outputId": "3fd024e7-5b9a-47d1-f0cf-27985bd53d55"
      },
      "source": [
        "tfjs.converters.save_keras_model(inference_model, \"tfjs_model\")"
      ],
      "execution_count": 16,
      "outputs": [
        {
          "output_type": "stream",
          "name": "stdout",
          "text": [
            "WARNING:tensorflow:Compiled the loaded model, but the compiled metrics have yet to be built. `model.compile_metrics` will be empty until you train or evaluate the model.\n"
          ]
        }
      ]
    },
    {
      "cell_type": "markdown",
      "source": [
        "# Model Card"
      ],
      "metadata": {
        "id": "bCdM_rbZfmDQ"
      }
    },
    {
      "cell_type": "code",
      "source": [
        "model_card = {\n",
        "    'title': 'Solubility Prediction',\n",
        "    'details': 'Recurrent (GRU) neural network for predicting solubility. Developed by Andrew White using data from PROSO II database in TFJS.',\n",
        "    'use': 'Peptides or proteins expressed in E. coli that are less than 200 residues long. May provide solubility predictions more broadly applicable.',\n",
        "    'factors': 'Solubility was defined in PROSO II as sequence that was transfectible, expressible, secretable, separable, and soluble in E. coli system.',\n",
        "    'metrics': f'Test accuracy {test_result[2]:.2f}. Test AUC {test_result[1]:.2f}',\n",
        "    'evaluation': 'Withheld positive and negative examples',\n",
        "    'training': f'{len(pos_data) + len(neg_data)} positive and negative sequences.',\n",
        "    'caveats': 'This data is mostly long sequences and so may not be as applicable to solid-phase synthesized peptides. The model accuracy is low.',\n",
        "    'ethics': 'None noted'\n",
        "}\n",
        "with open('card.json', 'w') as f:\n",
        "  json.dump(model_card, f)\n",
        "print(json.dumps(model_card, indent=True))"
      ],
      "metadata": {
        "id": "8x0RLsUSfmdR",
        "colab": {
          "base_uri": "https://localhost:8080/"
        },
        "outputId": "6b20e450-515e-475c-937d-9b71aca14a2e"
      },
      "execution_count": 17,
      "outputs": [
        {
          "output_type": "stream",
          "name": "stdout",
          "text": [
            "{\n",
            " \"title\": \"Solubility Prediction\",\n",
            " \"details\": \"Recurrent (GRU) neural network for predicting solubility. Developed by Andrew White using data from PROSO II database in TFJS.\",\n",
            " \"use\": \"Peptides or proteins expressed in E. coli that are less than 200 residues long. May provide solubility predictions more broadly applicable.\",\n",
            " \"factors\": \"Solubility was defined in PROSO II as sequence that was transfectible, expressible, secretable, separable, and soluble in E. coli system.\",\n",
            " \"metrics\": \"Test accuracy 0.67. Test AUC 0.73\",\n",
            " \"evaluation\": \"Withheld positive and negative examples\",\n",
            " \"training\": \"18453 positive and negative sequences.\",\n",
            " \"caveats\": \"This data is mostly long sequences and so may not be as applicable to solid-phase synthesized peptides. The model accuracy is low.\",\n",
            " \"ethics\": \"None noted\"\n",
            "}\n"
          ]
        }
      ]
    },
    {
      "cell_type": "code",
      "source": [
        ""
      ],
      "metadata": {
        "id": "6rLT-k78HFSw"
      },
      "execution_count": 17,
      "outputs": []
    }
  ]
}