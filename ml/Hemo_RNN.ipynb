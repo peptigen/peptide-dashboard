{
  "nbformat": 4,
  "nbformat_minor": 0,
  "metadata": {
    "colab": {
      "name": "Hemo-RNN",
      "provenance": [],
      "collapsed_sections": []
    },
    "kernelspec": {
      "name": "python3",
      "display_name": "Python 3"
    },
    "language_info": {
      "name": "python"
    },
    "accelerator": "GPU"
  },
  "cells": [
    {
      "cell_type": "code",
      "metadata": {
        "colab": {
          "base_uri": "https://localhost:8080/"
        },
        "id": "FLdQgeg6ruk5",
        "outputId": "2333b474-2cc5-476a-ee0c-4dc397153f84"
      },
      "source": [
        "!pip install -q tensorflowjs\n",
        "!nvidia-smi"
      ],
      "execution_count": 1,
      "outputs": [
        {
          "output_type": "stream",
          "name": "stdout",
          "text": [
            "Sat Jan 15 16:51:15 2022       \n",
            "+-----------------------------------------------------------------------------+\n",
            "| NVIDIA-SMI 495.46       Driver Version: 460.32.03    CUDA Version: 11.2     |\n",
            "|-------------------------------+----------------------+----------------------+\n",
            "| GPU  Name        Persistence-M| Bus-Id        Disp.A | Volatile Uncorr. ECC |\n",
            "| Fan  Temp  Perf  Pwr:Usage/Cap|         Memory-Usage | GPU-Util  Compute M. |\n",
            "|                               |                      |               MIG M. |\n",
            "|===============================+======================+======================|\n",
            "|   0  Tesla P100-PCIE...  Off  | 00000000:00:04.0 Off |                    0 |\n",
            "| N/A   41C    P0    27W / 250W |      0MiB / 16280MiB |      0%      Default |\n",
            "|                               |                      |                  N/A |\n",
            "+-------------------------------+----------------------+----------------------+\n",
            "                                                                               \n",
            "+-----------------------------------------------------------------------------+\n",
            "| Processes:                                                                  |\n",
            "|  GPU   GI   CI        PID   Type   Process name                  GPU Memory |\n",
            "|        ID   ID                                                   Usage      |\n",
            "|=============================================================================|\n",
            "|  No running processes found                                                 |\n",
            "+-----------------------------------------------------------------------------+\n"
          ]
        }
      ]
    },
    {
      "cell_type": "code",
      "metadata": {
        "id": "kN5GDHK6riEe"
      },
      "source": [
        "#@title Runtime\n",
        "use_tpu = False #@param\n"
      ],
      "execution_count": 2,
      "outputs": []
    },
    {
      "cell_type": "code",
      "metadata": {
        "id": "PW7wdIp7py9V"
      },
      "source": [
        "import matplotlib.pyplot as plt\n",
        "import matplotlib as mpl\n",
        "import numpy as np\n",
        "import os\n",
        "import tensorflow as tf\n",
        "import urllib\n",
        "from dataclasses import dataclass\n",
        "import tensorflowjs as tfjs\n",
        "import json\n",
        "np.random.seed(0)"
      ],
      "execution_count": 3,
      "outputs": []
    },
    {
      "cell_type": "code",
      "metadata": {
        "id": "-az13Rv1p6xr"
      },
      "source": [
        "urllib.request.urlretrieve(\n",
        "    \"https://github.com/ur-whitelab/peptide-dashboard/raw/master/ml/data/hemo-positive.npz\",\n",
        "    \"positive.npz\",\n",
        ")\n",
        "urllib.request.urlretrieve(\n",
        "    \"https://github.com/ur-whitelab/peptide-dashboard/raw/master/ml/data/hemo-negative.npz\",\n",
        "    \"negative.npz\",\n",
        ")\n",
        "with np.load(\"positive.npz\") as r:\n",
        "    pos_data = r[list(r.keys())[0]]\n",
        "with np.load(\"negative.npz\") as r:\n",
        "    neg_data = r['seqs']\n",
        "    weights = r['weights']\n",
        "\n",
        "# create labels and stich it all into one\n",
        "# tensor\n",
        "labels = np.concatenate(\n",
        "    (\n",
        "        np.ones((pos_data.shape[0], 1), dtype=pos_data.dtype),\n",
        "        np.zeros((neg_data.shape[0], 1), dtype=pos_data.dtype),\n",
        "    ),\n",
        "    axis=0,\n",
        ")\n",
        "weights = np.concatenate(\n",
        "    (np.ones((pos_data.shape[0]), dtype=pos_data.dtype), \n",
        "     weights)\n",
        ")\n",
        "features = np.concatenate((pos_data, neg_data), axis=0)"
      ],
      "execution_count": 4,
      "outputs": []
    },
    {
      "cell_type": "code",
      "source": [
        "print('Positive data', pos_data.shape[0])\n",
        "print('Negative data', neg_data.shape[0])\n",
        "print('Weights', weights)"
      ],
      "metadata": {
        "colab": {
          "base_uri": "https://localhost:8080/"
        },
        "id": "i1e4uaGsuOmA",
        "outputId": "549af379-9e0a-48b8-d4b6-9e9acbd97050"
      },
      "execution_count": 5,
      "outputs": [
        {
          "output_type": "stream",
          "name": "stdout",
          "text": [
            "Positive data 317\n",
            "Negative data 13585\n",
            "Weights [1.         1.         1.         ... 0.02333456 0.02333456 0.02333456]\n"
          ]
        }
      ]
    },
    {
      "cell_type": "code",
      "metadata": {
        "id": "4o1kwH0dy_xz"
      },
      "source": [
        "@dataclass\n",
        "class Config:\n",
        "    vocab_size: int\n",
        "    example_number: int\n",
        "    batch_size: int\n",
        "    buffer_size: int\n",
        "    rnn_units: int\n",
        "    hidden_dim: int\n",
        "    embedding_dim: int\n",
        "    reg_strength: float\n",
        "    lr: float\n",
        "    drop_rate: float\n",
        "        \n",
        "config = Config(vocab_size=21, # include gap\n",
        "                example_number=len(labels), \n",
        "                batch_size=16, \n",
        "                buffer_size=10000,\n",
        "                rnn_units=32,\n",
        "                hidden_dim=64,\n",
        "                embedding_dim=24,\n",
        "                reg_strength=0,\n",
        "                lr=1e-3,\n",
        "                drop_rate=0.1\n",
        "               )\n",
        "\n"
      ],
      "execution_count": 6,
      "outputs": []
    },
    {
      "cell_type": "code",
      "metadata": {
        "id": "pC9ee3SEqxqq"
      },
      "source": [
        "def build_model(L):\n",
        "    inputs = tf.keras.Input(shape=(L,))\n",
        "\n",
        "    # make embedding and indicate that 0 should be treated as padding mask\n",
        "    e = tf.keras.layers.Embedding(input_dim=config.vocab_size, \n",
        "                                        output_dim=config.embedding_dim,\n",
        "                                        mask_zero=True)(inputs)\n",
        "\n",
        "    counts = tf.keras.layers.GlobalAveragePooling1D()(e)\n",
        "\n",
        "\n",
        "    # RNN layer\n",
        "    x = tf.keras.layers.LSTM(config.rnn_units)(e)\n",
        "    x = tf.keras.layers.Concatenate()([x, counts])\n",
        "    x = tf.keras.layers.LayerNormalization()(x)\n",
        "    x = tf.keras.layers.Dropout(config.drop_rate)(x)\n",
        "    # a dense hidden layer\n",
        "    x = tf.keras.layers.Dense(\n",
        "        config.hidden_dim, \n",
        "        activation='relu', \n",
        "        kernel_regularizer=tf.keras.regularizers.l2(config.reg_strength))(x)\n",
        "    x = tf.keras.layers.LayerNormalization()(x)\n",
        "    x = tf.keras.layers.Dropout(config.drop_rate)(x)\n",
        "    x = tf.keras.layers.Dense(\n",
        "        config.hidden_dim // 4, \n",
        "        activation='relu', \n",
        "        kernel_regularizer=tf.keras.regularizers.l2(config.reg_strength))(x)\n",
        "    x = tf.keras.layers.LayerNormalization()(x)\n",
        "    x = tf.keras.layers.Dropout(config.drop_rate)(x)\n",
        "    # predicting prob, so no activation\n",
        "    yhat = tf.keras.layers.Dense(1)(x)\n",
        "\n",
        "    model = tf.keras.Model(inputs=inputs, outputs=yhat, name='sol-rnn')\n",
        "    return model\n",
        "\n",
        "def build_infer_model(L):\n",
        "    inputs = tf.keras.Input(shape=(L,))\n",
        "\n",
        "    # make embedding and indicate that 0 should be treated as padding mask\n",
        "    e = tf.keras.layers.Embedding(input_dim=config.vocab_size, \n",
        "                                        output_dim=config.embedding_dim,\n",
        "                                        mask_zero=True)(inputs)\n",
        "\n",
        "    counts = tf.keras.layers.GlobalAveragePooling1D()(e)\n",
        "\n",
        "\n",
        "    # RNN layer\n",
        "    x = tf.keras.layers.LSTM(config.rnn_units)(e)\n",
        "    x = tf.keras.layers.Concatenate()([x, counts])\n",
        "    x = tf.keras.layers.LayerNormalization()(x)\n",
        "    # a dense hidden layer\n",
        "    x = tf.keras.layers.Dense(\n",
        "        config.hidden_dim, \n",
        "        activation='relu')(x)\n",
        "    x = tf.keras.layers.LayerNormalization()(x)\n",
        "    x = tf.keras.layers.Dense(\n",
        "        config.hidden_dim // 4, \n",
        "        activation='relu')(x)\n",
        "    x = tf.keras.layers.LayerNormalization()(x)\n",
        "    # predicting prob, so no activation\n",
        "    yhat = tf.keras.layers.Dense(1, activation='sigmoid')(x)\n",
        "\n",
        "    model = tf.keras.Model(inputs=inputs, outputs=yhat, name='sol-rnn-infer')\n",
        "    return model"
      ],
      "execution_count": 7,
      "outputs": []
    },
    {
      "cell_type": "code",
      "metadata": {
        "id": "rg4sBeamoCOO"
      },
      "source": [
        "if use_tpu:\n",
        "  tf.keras.backend.clear_session()\n",
        "\n",
        "  resolver = tf.distribute.cluster_resolver.TPUClusterResolver('grpc://' + os.environ['COLAB_TPU_ADDR'])\n",
        "  tf.config.experimental_connect_to_cluster(resolver)\n",
        "\n",
        "  # This is the TPU initialization code that has to be at the beginning.\n",
        "  tf.tpu.experimental.initialize_tpu_system(resolver)\n",
        "  print(\"All devices: \", tf.config.list_logical_devices('TPU'))\n",
        "\n",
        "  strategy = tf.distribute.experimental.TPUStrategy(resolver)\n"
      ],
      "execution_count": 8,
      "outputs": []
    },
    {
      "cell_type": "code",
      "metadata": {
        "id": "dXB1MlmMqAHT"
      },
      "source": [
        "# we now need to shuffle before creating TF dataset\n",
        "# so that our train/test/val splits are random\n",
        "i = np.arange(len(labels))\n",
        "np.random.shuffle(i)\n",
        "labels = labels[i]\n",
        "features = features[i]\n",
        "data = tf.data.Dataset.from_tensor_slices((features, labels, weights))\n",
        "# now split into val, test, train and batch\n",
        "N = len(data)  \n",
        "L = None#features[0].shape[-1]\n",
        "split = int(0.1 * N)\n",
        "test_data = data.take(split).batch(config.batch_size)\n",
        "nontest = data.skip(split)\n",
        "val_data, train_data = nontest.take(split).batch(config.batch_size), \\\n",
        "    nontest.skip(split).shuffle(config.buffer_size).batch(config.batch_size).prefetch(tf.data.experimental.AUTOTUNE)"
      ],
      "execution_count": 9,
      "outputs": []
    },
    {
      "cell_type": "code",
      "metadata": {
        "id": "W8WI1JiDy9J2"
      },
      "source": [
        "if use_tpu:\n",
        "  with strategy.scope():\n",
        "    model = build_model(L)\n",
        "else:\n",
        "  model = build_model(L)\n",
        "\n",
        "  decay_epochs = 50\n",
        "  decay_steps = N  // config.batch_size * decay_epochs\n",
        "  lr_decayed_fn = tf.keras.optimizers.schedules.CosineDecay(\n",
        "      config.lr, decay_steps, alpha=1e-3)\n",
        "  opt = tf.optimizers.Adam(lr_decayed_fn)\n",
        "  model.compile(\n",
        "      opt,\n",
        "      loss=tf.keras.losses.BinaryCrossentropy(from_logits=True),\n",
        "      steps_per_execution = 60 if use_tpu else None,\n",
        "      metrics=[tf.keras.metrics.AUC(from_logits=True), tf.keras.metrics.BinaryAccuracy(threshold=0)])"
      ],
      "execution_count": 10,
      "outputs": []
    },
    {
      "cell_type": "code",
      "source": [
        "model.summary()"
      ],
      "metadata": {
        "colab": {
          "base_uri": "https://localhost:8080/"
        },
        "id": "_M60Z2MiCmw9",
        "outputId": "a78b5026-35e7-4281-cdd3-0a401dd01a9b"
      },
      "execution_count": 11,
      "outputs": [
        {
          "output_type": "stream",
          "name": "stdout",
          "text": [
            "Model: \"sol-rnn\"\n",
            "__________________________________________________________________________________________________\n",
            " Layer (type)                   Output Shape         Param #     Connected to                     \n",
            "==================================================================================================\n",
            " input_1 (InputLayer)           [(None, None)]       0           []                               \n",
            "                                                                                                  \n",
            " embedding (Embedding)          (None, None, 24)     504         ['input_1[0][0]']                \n",
            "                                                                                                  \n",
            " lstm (LSTM)                    (None, 32)           7296        ['embedding[0][0]']              \n",
            "                                                                                                  \n",
            " global_average_pooling1d (Glob  (None, 24)          0           ['embedding[0][0]']              \n",
            " alAveragePooling1D)                                                                              \n",
            "                                                                                                  \n",
            " concatenate (Concatenate)      (None, 56)           0           ['lstm[0][0]',                   \n",
            "                                                                  'global_average_pooling1d[0][0]'\n",
            "                                                                 ]                                \n",
            "                                                                                                  \n",
            " layer_normalization (LayerNorm  (None, 56)          112         ['concatenate[0][0]']            \n",
            " alization)                                                                                       \n",
            "                                                                                                  \n",
            " dropout (Dropout)              (None, 56)           0           ['layer_normalization[0][0]']    \n",
            "                                                                                                  \n",
            " dense (Dense)                  (None, 64)           3648        ['dropout[0][0]']                \n",
            "                                                                                                  \n",
            " layer_normalization_1 (LayerNo  (None, 64)          128         ['dense[0][0]']                  \n",
            " rmalization)                                                                                     \n",
            "                                                                                                  \n",
            " dropout_1 (Dropout)            (None, 64)           0           ['layer_normalization_1[0][0]']  \n",
            "                                                                                                  \n",
            " dense_1 (Dense)                (None, 16)           1040        ['dropout_1[0][0]']              \n",
            "                                                                                                  \n",
            " layer_normalization_2 (LayerNo  (None, 16)          32          ['dense_1[0][0]']                \n",
            " rmalization)                                                                                     \n",
            "                                                                                                  \n",
            " dropout_2 (Dropout)            (None, 16)           0           ['layer_normalization_2[0][0]']  \n",
            "                                                                                                  \n",
            " dense_2 (Dense)                (None, 1)            17          ['dropout_2[0][0]']              \n",
            "                                                                                                  \n",
            "==================================================================================================\n",
            "Total params: 12,777\n",
            "Trainable params: 12,777\n",
            "Non-trainable params: 0\n",
            "__________________________________________________________________________________________________\n"
          ]
        }
      ]
    },
    {
      "cell_type": "code",
      "metadata": {
        "colab": {
          "base_uri": "https://localhost:8080/"
        },
        "id": "mVSlO4VizO-N",
        "outputId": "5fe3d6d0-ef8e-443e-daf6-7e2c402ed4d1"
      },
      "source": [
        "result = model.fit(\n",
        "    train_data, \n",
        "    validation_data=val_data, \n",
        "    callbacks=[tf.keras.callbacks.LambdaCallback(\n",
        "        on_epoch_begin=lambda epochs,logs: print('lr =',lr_decayed_fn(opt.iterations).numpy())\n",
        "        ),\n",
        "        tf.keras.callbacks.EarlyStopping(monitor='val_auc', mode='max', restore_best_weights=True, patience=5)],\n",
        "    epochs=150)\n",
        "\n"
      ],
      "execution_count": 12,
      "outputs": [
        {
          "output_type": "stream",
          "name": "stdout",
          "text": [
            "lr = 0.001\n",
            "Epoch 1/150\n",
            "696/696 [==============================] - 21s 21ms/step - loss: 0.0369 - auc: 0.8835 - binary_accuracy: 0.9820 - val_loss: 0.0310 - val_auc: 0.9609 - val_binary_accuracy: 0.9878\n",
            "lr = 0.0009993663\n",
            "Epoch 2/150\n",
            "696/696 [==============================] - 13s 18ms/step - loss: 0.0158 - auc: 0.9690 - binary_accuracy: 0.9911 - val_loss: 0.0155 - val_auc: 0.9962 - val_binary_accuracy: 0.9935\n",
            "lr = 0.0009974665\n",
            "Epoch 3/150\n",
            "696/696 [==============================] - 13s 18ms/step - loss: 0.0130 - auc: 0.9742 - binary_accuracy: 0.9933 - val_loss: 0.0182 - val_auc: 0.9810 - val_binary_accuracy: 0.9914\n",
            "lr = 0.0009943056\n",
            "Epoch 4/150\n",
            "696/696 [==============================] - 13s 18ms/step - loss: 0.0129 - auc: 0.9810 - binary_accuracy: 0.9923 - val_loss: 0.0103 - val_auc: 0.9992 - val_binary_accuracy: 0.9950\n",
            "lr = 0.0009898914\n",
            "Epoch 5/150\n",
            "696/696 [==============================] - 12s 18ms/step - loss: 0.0107 - auc: 0.9772 - binary_accuracy: 0.9942 - val_loss: 0.0263 - val_auc: 0.9801 - val_binary_accuracy: 0.9849\n",
            "lr = 0.0009842353\n",
            "Epoch 6/150\n",
            "696/696 [==============================] - 13s 18ms/step - loss: 0.0100 - auc: 0.9876 - binary_accuracy: 0.9939 - val_loss: 0.0160 - val_auc: 0.9684 - val_binary_accuracy: 0.9942\n",
            "lr = 0.0009773517\n",
            "Epoch 7/150\n",
            "696/696 [==============================] - 14s 21ms/step - loss: 0.0098 - auc: 0.9840 - binary_accuracy: 0.9946 - val_loss: 0.0101 - val_auc: 0.9989 - val_binary_accuracy: 0.9935\n",
            "lr = 0.0009692579\n",
            "Epoch 8/150\n",
            "696/696 [==============================] - 15s 21ms/step - loss: 0.0094 - auc: 0.9858 - binary_accuracy: 0.9943 - val_loss: 0.0091 - val_auc: 0.9995 - val_binary_accuracy: 0.9942\n",
            "lr = 0.00095997454\n",
            "Epoch 9/150\n",
            "696/696 [==============================] - 13s 19ms/step - loss: 0.0081 - auc: 0.9846 - binary_accuracy: 0.9955 - val_loss: 0.0084 - val_auc: 0.9995 - val_binary_accuracy: 0.9950\n",
            "lr = 0.00094952516\n",
            "Epoch 10/150\n",
            "696/696 [==============================] - 13s 19ms/step - loss: 0.0074 - auc: 0.9910 - binary_accuracy: 0.9954 - val_loss: 0.0088 - val_auc: 0.9997 - val_binary_accuracy: 0.9950\n",
            "lr = 0.00093793625\n",
            "Epoch 11/150\n",
            "696/696 [==============================] - 13s 19ms/step - loss: 0.0093 - auc: 0.9821 - binary_accuracy: 0.9946 - val_loss: 0.0154 - val_auc: 0.9981 - val_binary_accuracy: 0.9921\n",
            "lr = 0.00092523725\n",
            "Epoch 12/150\n",
            "696/696 [==============================] - 13s 19ms/step - loss: 0.0075 - auc: 0.9907 - binary_accuracy: 0.9952 - val_loss: 0.0095 - val_auc: 0.9996 - val_binary_accuracy: 0.9950\n",
            "lr = 0.0009114604\n",
            "Epoch 13/150\n",
            "696/696 [==============================] - 13s 19ms/step - loss: 0.0062 - auc: 0.9928 - binary_accuracy: 0.9959 - val_loss: 0.0105 - val_auc: 0.9995 - val_binary_accuracy: 0.9942\n",
            "lr = 0.0008966406\n",
            "Epoch 14/150\n",
            "696/696 [==============================] - 13s 18ms/step - loss: 0.0067 - auc: 0.9832 - binary_accuracy: 0.9959 - val_loss: 0.0080 - val_auc: 0.9840 - val_binary_accuracy: 0.9964\n",
            "lr = 0.00088081555\n",
            "Epoch 15/150\n",
            "696/696 [==============================] - 13s 19ms/step - loss: 0.0071 - auc: 0.9910 - binary_accuracy: 0.9955 - val_loss: 0.0062 - val_auc: 0.9998 - val_binary_accuracy: 0.9971\n",
            "lr = 0.00086402526\n",
            "Epoch 16/150\n",
            "696/696 [==============================] - 13s 19ms/step - loss: 0.0058 - auc: 0.9934 - binary_accuracy: 0.9965 - val_loss: 0.0074 - val_auc: 0.9998 - val_binary_accuracy: 0.9950\n",
            "lr = 0.0008463125\n",
            "Epoch 17/150\n",
            "696/696 [==============================] - 13s 19ms/step - loss: 0.0055 - auc: 0.9914 - binary_accuracy: 0.9965 - val_loss: 0.0056 - val_auc: 0.9999 - val_binary_accuracy: 0.9964\n",
            "lr = 0.0008277222\n",
            "Epoch 18/150\n",
            "696/696 [==============================] - 13s 19ms/step - loss: 0.0041 - auc: 0.9976 - binary_accuracy: 0.9972 - val_loss: 0.0058 - val_auc: 0.9999 - val_binary_accuracy: 0.9978\n",
            "lr = 0.00080830144\n",
            "Epoch 19/150\n",
            "696/696 [==============================] - 13s 19ms/step - loss: 0.0063 - auc: 0.9933 - binary_accuracy: 0.9965 - val_loss: 0.0068 - val_auc: 0.9994 - val_binary_accuracy: 0.9971\n",
            "lr = 0.0007880996\n",
            "Epoch 20/150\n",
            "696/696 [==============================] - 13s 19ms/step - loss: 0.0045 - auc: 0.9955 - binary_accuracy: 0.9971 - val_loss: 0.0059 - val_auc: 0.9997 - val_binary_accuracy: 0.9964\n",
            "lr = 0.00076716783\n",
            "Epoch 21/150\n",
            "696/696 [==============================] - 13s 18ms/step - loss: 0.0050 - auc: 0.9954 - binary_accuracy: 0.9964 - val_loss: 0.0051 - val_auc: 0.9998 - val_binary_accuracy: 0.9978\n",
            "lr = 0.0007455594\n",
            "Epoch 22/150\n",
            "696/696 [==============================] - 13s 19ms/step - loss: 0.0047 - auc: 0.9936 - binary_accuracy: 0.9972 - val_loss: 0.0073 - val_auc: 0.9843 - val_binary_accuracy: 0.9964\n"
          ]
        }
      ]
    },
    {
      "cell_type": "code",
      "metadata": {
        "colab": {
          "base_uri": "https://localhost:8080/",
          "height": 284
        },
        "id": "8p0C2kHV2vrW",
        "outputId": "b032d210-f7d0-4085-a3ad-bae48b848cd0"
      },
      "source": [
        "plt.plot(result.history['val_binary_accuracy'])\n",
        "test_result = model.evaluate(test_data)\n",
        "plt.show()"
      ],
      "execution_count": 13,
      "outputs": [
        {
          "output_type": "stream",
          "name": "stdout",
          "text": [
            "87/87 [==============================] - 1s 8ms/step - loss: 0.0144 - auc: 0.9691 - binary_accuracy: 0.9964\n"
          ]
        },
        {
          "output_type": "display_data",
          "data": {
            "image/png": "[encoded data removed]",
            "text/plain": [
              "<Figure size 432x288 with 1 Axes>"
            ]
          },
          "metadata": {
            "needs_background": "light"
          }
        }
      ]
    },
    {
      "cell_type": "code",
      "source": [
        "inference_model = build_infer_model(L)\n",
        "\n",
        "inference_model.set_weights(model.get_weights())"
      ],
      "metadata": {
        "id": "rOfgoKtsU1K-"
      },
      "execution_count": 14,
      "outputs": []
    },
    {
      "cell_type": "code",
      "metadata": {
        "id": "vm_yXNslzRGu",
        "colab": {
          "base_uri": "https://localhost:8080/"
        },
        "outputId": "d77064e2-e3af-40c4-e48f-8e04c9199301"
      },
      "source": [
        "inference_model(np.array([1,1,1,1]).reshape(1,-1))"
      ],
      "execution_count": 15,
      "outputs": [
        {
          "output_type": "execute_result",
          "data": {
            "text/plain": [
              "<tf.Tensor: shape=(1, 1), dtype=float32, numpy=array([[0.01824016]], dtype=float32)>"
            ]
          },
          "metadata": {},
          "execution_count": 15
        }
      ]
    },
    {
      "cell_type": "code",
      "metadata": {
        "id": "aDvdjpMmz7UA",
        "colab": {
          "base_uri": "https://localhost:8080/"
        },
        "outputId": "d3f311ca-8994-4927-f9a7-1277c5e19838"
      },
      "source": [
        "tfjs.converters.save_keras_model(inference_model, \"tfjs_model\")"
      ],
      "execution_count": 16,
      "outputs": [
        {
          "output_type": "stream",
          "name": "stdout",
          "text": [
            "WARNING:tensorflow:Compiled the loaded model, but the compiled metrics have yet to be built. `model.compile_metrics` will be empty until you train or evaluate the model.\n"
          ]
        }
      ]
    },
    {
      "cell_type": "markdown",
      "source": [
        "# Model Card"
      ],
      "metadata": {
        "id": "bCdM_rbZfmDQ"
      }
    },
    {
      "cell_type": "code",
      "source": [
        "model_card = {\n",
        "    'title': 'Hemolytic Prediction',\n",
        "    'details': 'Recurrent (GRU) neural network for predicting if a peptide is hemolytic. Developed by Andrew White using data from antimicrobial peptide database. '\n",
        "    'Negative examples are insoluble peptides, antifouling peptides, and scrambled positives. Sample weights were used to remove negative example dataset sizes.',\n",
        "    'use': 'Peptides between 2 and 100 residues',\n",
        "    'factors': 'Dataset was from sequences thought to be antimicrobial',\n",
        "    'metrics': f'Test accuracy {test_result[2]:.2f}. Test AUC {test_result[1]:.2f}',\n",
        "    'evaluation': 'Withheld positive and negative examples',\n",
        "    'training': f'{len(pos_data) + len(neg_data)} positive and negative sequences',\n",
        "    'caveats': 'The sequences tested were typically from biologic sources and were chosen because they are thought to be antimicrobial. The dataset is small. '\n",
        "    'The negative examples have insoluble peptides overrepresented so that the accuracy may be inflated if only comparing soluble peptides.',\n",
        "    'ethics': 'These predictions are not a substitute for labratory experiments.'\n",
        "}\n",
        "with open('card.json', 'w') as f:\n",
        "  json.dump(model_card, f)\n",
        "print(json.dumps(model_card, indent=True))"
      ],
      "metadata": {
        "id": "8x0RLsUSfmdR",
        "colab": {
          "base_uri": "https://localhost:8080/"
        },
        "outputId": "abc6387d-7ed8-429f-f1f6-7dee48fadaa2"
      },
      "execution_count": 19,
      "outputs": [
        {
          "output_type": "stream",
          "name": "stdout",
          "text": [
            "{\n",
            " \"title\": \"Hemolytic Prediction\",\n",
            " \"details\": \"Recurrent (GRU) neural network for predicting if a peptide is hemolytic. Developed by Andrew White using data from antimicrobial peptide database.Negative examples are insoluble peptides, antifouling peptides, and scrambled positives. Sample weights were used to remove negative example dataset sizes.\",\n",
            " \"use\": \"Peptides between 2 and 100 residues\",\n",
            " \"factors\": \"Dataset was from sequences thought to be antimicrobial\",\n",
            " \"metrics\": \"Test accuracy 1.00. Test AUC 0.97\",\n",
            " \"evaluation\": \"Withheld positive and negative examples\",\n",
            " \"training\": \"13902 positive and negative sequences\",\n",
            " \"caveats\": \"The sequences tested were typically from biologic sources and were chosen because they are thought to be antimicrobial. The dataset is small.The negative examples have insoluble peptides overrepresented so that the accuracy may be inflated if only comparing soluble peptides.\",\n",
            " \"ethics\": \"These predictions are not a substitute for labratory experiments.\"\n",
            "}\n"
          ]
        }
      ]
    },
    {
      "cell_type": "markdown",
      "source": [
        ""
      ],
      "metadata": {
        "id": "EThMWkQCrK_z"
      }
    },
    {
      "cell_type": "markdown",
      "source": [
        ""
      ],
      "metadata": {
        "id": "8FWcUVMBrK1c"
      }
    },
    {
      "cell_type": "code",
      "source": [
        ""
      ],
      "metadata": {
        "id": "zxRYfFziQZdm"
      },
      "execution_count": 17,
      "outputs": []
    }
  ]
}