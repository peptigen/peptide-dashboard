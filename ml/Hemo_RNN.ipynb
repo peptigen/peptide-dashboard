{
 "cells": [
  {
   "cell_type": "code",
   "execution_count": 1,
   "metadata": {
    "colab": {
     "base_uri": "https://localhost:8080/"
    },
    "id": "5L_2_sE_Xxqc",
    "outputId": "d35427f6-70a5-41ef-cda5-c3ea33d86097"
   },
   "outputs": [],
   "source": [
    "# !pip install -q tensorflowjs\n",
    "# !nvidia-smi"
   ]
  },
  {
   "cell_type": "code",
   "execution_count": 2,
   "metadata": {
    "id": "QUFbh0M0X2lt"
   },
   "outputs": [],
   "source": [
    "#@title Runtime\n",
    "use_tpu = False #@param"
   ]
  },
  {
   "cell_type": "code",
   "execution_count": 3,
   "metadata": {
    "id": "_NJFiRl_X4ho"
   },
   "outputs": [],
   "source": [
    "import matplotlib.pyplot as plt\n",
    "import matplotlib as mpl\n",
    "import numpy as np\n",
    "import os\n",
    "import tensorflow as tf\n",
    "import urllib\n",
    "from dataclasses import dataclass\n",
    "import tensorflowjs as tfjs\n",
    "import json\n",
    "np.random.seed(0)"
   ]
  },
  {
   "cell_type": "code",
   "execution_count": 4,
   "metadata": {},
   "outputs": [
    {
     "name": "stdout",
     "output_type": "stream",
     "text": [
      "Num GPUs Available:  4\n"
     ]
    }
   ],
   "source": [
    "print(\"Num GPUs Available: \", len(tf.config.list_physical_devices('GPU')))"
   ]
  },
  {
   "cell_type": "code",
   "execution_count": 3,
   "metadata": {
    "id": "3IoyrbXKX6S-"
   },
   "outputs": [],
   "source": [
    "urllib.request.urlretrieve(\n",
    "    \"https://github.com/ur-whitelab/peptide-dashboard/raw/master/ml/data/hemo-positive.npz\",\n",
    "    \"positive.npz\",\n",
    ")\n",
    "urllib.request.urlretrieve(\n",
    "    \"https://github.com/ur-whitelab/peptide-dashboard/raw/master/ml/data/hemo-negative.npz\",\n",
    "    \"negative.npz\",\n",
    ")\n",
    "with np.load(\"positive.npz\") as r:\n",
    "    pos_data = r[list(r.keys())[0]]\n",
    "with np.load(\"negative.npz\") as r:\n",
    "    neg_data = r[list(r.keys())[0]]\n",
    "\n",
    "# create labels and stich it all into one\n",
    "# tensor\n",
    "labels = np.concatenate(\n",
    "    (\n",
    "        np.ones((pos_data.shape[0], 1), dtype=pos_data.dtype),\n",
    "        np.zeros((neg_data.shape[0], 1), dtype=pos_data.dtype),\n",
    "    ),\n",
    "    axis=0,\n",
    ")\n",
    "\n",
    "features = np.concatenate((pos_data, neg_data), axis=0)"
   ]
  },
  {
   "cell_type": "code",
   "execution_count": 4,
   "metadata": {
    "colab": {
     "base_uri": "https://localhost:8080/"
    },
    "id": "BiMPRhOOX-QL",
    "outputId": "afd94710-34b4-4bf3-cfec-9ebaf84804ae"
   },
   "outputs": [
    {
     "name": "stdout",
     "output_type": "stream",
     "text": [
      "Positive data 1826\n",
      "Negative data 7490\n"
     ]
    }
   ],
   "source": [
    "print('Positive data', pos_data.shape[0])\n",
    "print('Negative data', neg_data.shape[0])"
   ]
  },
  {
   "cell_type": "code",
   "execution_count": 5,
   "metadata": {
    "id": "-6_jmhUcX_zi"
   },
   "outputs": [],
   "source": [
    "@dataclass\n",
    "class Config:\n",
    "    vocab_size: int\n",
    "    example_number: int\n",
    "    batch_size: int\n",
    "    buffer_size: int\n",
    "    rnn_units: int\n",
    "    hidden_dim: int\n",
    "    embedding_dim: int\n",
    "    reg_strength: float\n",
    "    lr: float\n",
    "    drop_rate: float\n",
    "        \n",
    "config = Config(vocab_size=21, # include gap\n",
    "                example_number=len(labels), \n",
    "                batch_size=16, \n",
    "                buffer_size=10000,\n",
    "                rnn_units=64,\n",
    "                hidden_dim=64,\n",
    "                embedding_dim=32,\n",
    "                reg_strength=0,\n",
    "                lr=1e-3,\n",
    "                drop_rate=0.1\n",
    "               )"
   ]
  },
  {
   "cell_type": "code",
   "execution_count": 55,
   "metadata": {
    "id": "WbBov2l_YKbs"
   },
   "outputs": [],
   "source": [
    "def counts_aa(vec):\n",
    "    counts =  tf.histogram_fixed_width(vec, [0, 20], nbins=21)[1:]\n",
    "    return counts /tf.reduce_sum(counts)\n",
    "\n",
    "def build_model(L):\n",
    "    inputs = tf.keras.Input(shape=(L,))\n",
    "    input_f = tf.keras.Input(shape=(20,))\n",
    "    # make embedding and indicate that 0 should be treated as padding mask\n",
    "    e = tf.keras.layers.Embedding(input_dim=config.vocab_size, \n",
    "                                        output_dim=config.embedding_dim,\n",
    "                                        mask_zero=True)(inputs)\n",
    "\n",
    "    # RNN layer\n",
    "    x = tf.keras.layers.Bidirectional(tf.keras.layers.LSTM(config.rnn_units, return_sequences=True))(e)\n",
    "    x = tf.keras.layers.Bidirectional(tf.keras.layers.LSTM(config.rnn_units))(x)\n",
    "#     x = tf.keras.layers.Concatenate()([x, input_f])\n",
    "    x = tf.keras.layers.LayerNormalization()(x)\n",
    "    x = tf.keras.layers.Dropout(config.drop_rate)(x)\n",
    "    # a dense hidden layer\n",
    "    x = tf.keras.layers.Dense(\n",
    "        config.hidden_dim, \n",
    "        activation='relu', \n",
    "        kernel_regularizer=tf.keras.regularizers.l2(config.reg_strength))(x)\n",
    "#     x = tf.keras.layers.Concatenate()([x, input_f])\n",
    "    x = tf.keras.layers.LayerNormalization()(x)\n",
    "    x = tf.keras.layers.Dropout(config.drop_rate)(x)\n",
    "    x = tf.keras.layers.Dense(\n",
    "        config.hidden_dim // 4, \n",
    "        activation='relu', \n",
    "        kernel_regularizer=tf.keras.regularizers.l2(config.reg_strength))(x)\n",
    "    x = tf.keras.layers.Concatenate()([x, input_f])\n",
    "    x = tf.keras.layers.LayerNormalization()(x)\n",
    "    x = tf.keras.layers.Dropout(config.drop_rate)(x)\n",
    "    # predicting prob, so no activation\n",
    "    yhat = tf.keras.layers.Dense(1)(x)\n",
    "\n",
    "    model = tf.keras.Model(inputs=[inputs, input_f], outputs=yhat, name='sol-rnn')\n",
    "    return model\n",
    "\n",
    "def build_infer_model(L):\n",
    "    inputs = tf.keras.Input(shape=(L,))\n",
    "    input_f = tf.keras.Input(shape=(20,))\n",
    "    # make embedding and indicate that 0 should be treated as padding mask\n",
    "    e = tf.keras.layers.Embedding(input_dim=config.vocab_size, \n",
    "                                        output_dim=config.embedding_dim,\n",
    "                                        mask_zero=True)(inputs)\n",
    "\n",
    "\n",
    "    # RNN layer\n",
    "    x = tf.keras.layers.Bidirectional(tf.keras.layers.LSTM(config.rnn_units, return_sequences=True))(e)\n",
    "    x = tf.keras.layers.Bidirectional(tf.keras.layers.LSTM(config.rnn_units))(x)\n",
    "#     x = tf.keras.layers.Concatenate()([x, input_f])\n",
    "    x = tf.keras.layers.LayerNormalization()(x)\n",
    "    # a dense hidden layer\n",
    "    x = tf.keras.layers.Dense(\n",
    "        config.hidden_dim, \n",
    "        activation='relu')(x)\n",
    "    x = tf.keras.layers.LayerNormalization()(x)\n",
    "    x = tf.keras.layers.Dense(\n",
    "        config.hidden_dim // 4, \n",
    "        activation='relu')(x)\n",
    "    x = tf.keras.layers.LayerNormalization()(x)\n",
    "    # predicting prob, so no activation\n",
    "    yhat = tf.keras.layers.Dense(1, activation='sigmoid')(x)\n",
    "\n",
    "    model = tf.keras.Model(inputs=[inputs, input_f], outputs=yhat, name='sol-rnn-infer')\n",
    "    return model"
   ]
  },
  {
   "cell_type": "code",
   "execution_count": 37,
   "metadata": {},
   "outputs": [],
   "source": [
    "def build_infer_model(L):\n",
    "    inputs = tf.keras.Input(shape=(L,))\n",
    "    input_f = tf.keras.Input(shape=(20,))\n",
    "    # make embedding and indicate that 0 should be treated as padding mask\n",
    "    e = tf.keras.layers.Embedding(input_dim=config.vocab_size, \n",
    "                                        output_dim=config.embedding_dim,\n",
    "                                        mask_zero=True)(inputs)\n",
    "\n",
    "\n",
    "    # RNN layer\n",
    "    x = tf.keras.layers.Bidirectional(tf.keras.layers.LSTM(config.rnn_units, return_sequences=True))(e)\n",
    "    x = tf.keras.layers.Bidirectional(tf.keras.layers.LSTM(config.rnn_units))(x)\n",
    "#     x = tf.keras.layers.Concatenate()([x, input_f])\n",
    "    x = tf.keras.layers.LayerNormalization()(x)\n",
    "    # a dense hidden layer\n",
    "    x = tf.keras.layers.Dense(\n",
    "        config.hidden_dim, \n",
    "        activation='relu')(x)\n",
    "    x = tf.keras.layers.LayerNormalization()(x)\n",
    "    x = tf.keras.layers.Dense(\n",
    "        config.hidden_dim // 4, \n",
    "        activation='relu')(x)\n",
    "    x = tf.keras.layers.LayerNormalization()(x)\n",
    "    # predicting prob, so no activation\n",
    "    yhat = tf.keras.layers.Dense(1, activation='sigmoid')(x)\n",
    "\n",
    "    model = tf.keras.Model(inputs=[inputs, input_f], outputs=yhat, name='sol-rnn-infer')\n",
    "    return model"
   ]
  },
  {
   "cell_type": "code",
   "execution_count": 9,
   "metadata": {
    "id": "9hl9iUCsY6WT"
   },
   "outputs": [],
   "source": [
    "if use_tpu:\n",
    "  tf.keras.backend.clear_session()\n",
    "\n",
    "  resolver = tf.distribute.cluster_resolver.TPUClusterResolver('grpc://' + os.environ['COLAB_TPU_ADDR'])\n",
    "  tf.config.experimental_connect_to_cluster(resolver)\n",
    "\n",
    "  # This is the TPU initialization code that has to be at the beginning.\n",
    "  tf.tpu.experimental.initialize_tpu_system(resolver)\n",
    "  print(\"All devices: \", tf.config.list_logical_devices('TPU'))\n",
    "\n",
    "  strategy = tf.distribute.experimental.TPUStrategy(resolver)"
   ]
  },
  {
   "cell_type": "code",
   "execution_count": 10,
   "metadata": {
    "id": "9irGNmx_Y88h"
   },
   "outputs": [
    {
     "name": "stderr",
     "output_type": "stream",
     "text": [
      "2022-03-28 14:27:56.578793: I tensorflow/core/platform/cpu_feature_guard.cc:151] This TensorFlow binary is optimized with oneAPI Deep Neural Network Library (oneDNN) to use the following CPU instructions in performance-critical operations:  AVX2 AVX512F FMA\n",
      "To enable them in other operations, rebuild TensorFlow with the appropriate compiler flags.\n",
      "2022-03-28 14:27:59.910170: I tensorflow/core/common_runtime/gpu/gpu_device.cc:1525] Created device /job:localhost/replica:0/task:0/device:GPU:0 with 14637 MB memory:  -> device: 0, name: Tesla V100-PCIE-16GB, pci bus id: 0000:3b:00.0, compute capability: 7.0\n",
      "2022-03-28 14:27:59.911250: I tensorflow/core/common_runtime/gpu/gpu_device.cc:1525] Created device /job:localhost/replica:0/task:0/device:GPU:1 with 14637 MB memory:  -> device: 1, name: Tesla V100-PCIE-16GB, pci bus id: 0000:d8:00.0, compute capability: 7.0\n"
     ]
    }
   ],
   "source": [
    "# we now need to shuffle before creating TF dataset\n",
    "# so that our train/test/val splits are random\n",
    "i = np.arange(len(labels))\n",
    "np.random.shuffle(i)\n",
    "shuffled_labels = labels[i]\n",
    "shuffled_features = features[i]\n",
    "data = tf.data.Dataset.from_tensor_slices((shuffled_features, shuffled_labels)).map(lambda x,y: ((x, counts_aa(x)), y))\n",
    "\n",
    "# now split into val, test, train and batch\n",
    "N = len(data)  \n",
    "L = None#features[0].shape[-1]\n",
    "split = int(0.1 * N)\n",
    "test_data = data.take(split).batch(config.batch_size)\n",
    "nontest = data.skip(split)\n",
    "val_data, train_data = nontest.take(split).batch(config.batch_size), \\\n",
    "    nontest.skip(split).shuffle(config.buffer_size).batch(config.batch_size).prefetch(tf.data.experimental.AUTOTUNE)"
   ]
  },
  {
   "cell_type": "code",
   "execution_count": 56,
   "metadata": {
    "id": "om1B4J2aZHyi"
   },
   "outputs": [],
   "source": [
    "tf.keras.backend.clear_session()\n",
    "if use_tpu:\n",
    "  with strategy.scope():\n",
    "    model = build_model(L)\n",
    "else:\n",
    "  model = build_model(L)\n",
    "\n",
    "  decay_epochs = 50\n",
    "  decay_steps = N  // config.batch_size * decay_epochs\n",
    "  lr_decayed_fn = tf.keras.optimizers.schedules.CosineDecay(\n",
    "      config.lr, decay_steps, alpha=1e-3)\n",
    "  opt = tf.optimizers.Adam(lr_decayed_fn)\n",
    "  model.compile(\n",
    "      opt,\n",
    "      loss=tf.keras.losses.BinaryCrossentropy(from_logits=True),\n",
    "      steps_per_execution = 60 if use_tpu else None,\n",
    "      metrics=[tf.keras.metrics.AUC(from_logits=True), tf.keras.metrics.BinaryAccuracy(threshold=0)])"
   ]
  },
  {
   "cell_type": "code",
   "execution_count": 57,
   "metadata": {
    "colab": {
     "base_uri": "https://localhost:8080/"
    },
    "id": "jfNwOavjZP2o",
    "outputId": "8f0debcb-8bae-4ae7-bf7c-a04e20e97ab5"
   },
   "outputs": [
    {
     "name": "stdout",
     "output_type": "stream",
     "text": [
      "Model: \"sol-rnn\"\n",
      "__________________________________________________________________________________________________\n",
      " Layer (type)                   Output Shape         Param #     Connected to                     \n",
      "==================================================================================================\n",
      " input_1 (InputLayer)           [(None, None)]       0           []                               \n",
      "                                                                                                  \n",
      " embedding (Embedding)          (None, None, 32)     672         ['input_1[0][0]']                \n",
      "                                                                                                  \n",
      " bidirectional (Bidirectional)  (None, None, 128)    49664       ['embedding[0][0]']              \n",
      "                                                                                                  \n",
      " bidirectional_1 (Bidirectional  (None, 128)         98816       ['bidirectional[0][0]']          \n",
      " )                                                                                                \n",
      "                                                                                                  \n",
      " layer_normalization (LayerNorm  (None, 128)         256         ['bidirectional_1[0][0]']        \n",
      " alization)                                                                                       \n",
      "                                                                                                  \n",
      " dropout (Dropout)              (None, 128)          0           ['layer_normalization[0][0]']    \n",
      "                                                                                                  \n",
      " dense (Dense)                  (None, 64)           8256        ['dropout[0][0]']                \n",
      "                                                                                                  \n",
      " layer_normalization_1 (LayerNo  (None, 64)          128         ['dense[0][0]']                  \n",
      " rmalization)                                                                                     \n",
      "                                                                                                  \n",
      " dropout_1 (Dropout)            (None, 64)           0           ['layer_normalization_1[0][0]']  \n",
      "                                                                                                  \n",
      " dense_1 (Dense)                (None, 16)           1040        ['dropout_1[0][0]']              \n",
      "                                                                                                  \n",
      " input_2 (InputLayer)           [(None, 20)]         0           []                               \n",
      "                                                                                                  \n",
      " concatenate (Concatenate)      (None, 36)           0           ['dense_1[0][0]',                \n",
      "                                                                  'input_2[0][0]']                \n",
      "                                                                                                  \n",
      " layer_normalization_2 (LayerNo  (None, 36)          72          ['concatenate[0][0]']            \n",
      " rmalization)                                                                                     \n",
      "                                                                                                  \n",
      " dropout_2 (Dropout)            (None, 36)           0           ['layer_normalization_2[0][0]']  \n",
      "                                                                                                  \n",
      " dense_2 (Dense)                (None, 1)            37          ['dropout_2[0][0]']              \n",
      "                                                                                                  \n",
      "==================================================================================================\n",
      "Total params: 158,941\n",
      "Trainable params: 158,941\n",
      "Non-trainable params: 0\n",
      "__________________________________________________________________________________________________\n"
     ]
    }
   ],
   "source": [
    "model.summary()"
   ]
  },
  {
   "cell_type": "code",
   "execution_count": 58,
   "metadata": {
    "colab": {
     "base_uri": "https://localhost:8080/"
    },
    "id": "NarTpi0TZRSz",
    "outputId": "ab7cb641-60e0-4de7-fbd1-ba7c60bfc1ee"
   },
   "outputs": [
    {
     "name": "stdout",
     "output_type": "stream",
     "text": [
      "lr = 0.001\n",
      "Epoch 1/150\n",
      "466/466 [==============================] - 25s 28ms/step - loss: 0.4941 - auc: 0.6082 - binary_accuracy: 0.7937 - val_loss: 0.4657 - val_auc: 0.6946 - val_binary_accuracy: 0.7991\n",
      "lr = 0.000999368\n",
      "Epoch 2/150\n",
      "466/466 [==============================] - 9s 18ms/step - loss: 0.4639 - auc: 0.6846 - binary_accuracy: 0.8010 - val_loss: 0.4799 - val_auc: 0.6891 - val_binary_accuracy: 0.8002\n",
      "lr = 0.0009974737\n",
      "Epoch 3/150\n",
      "466/466 [==============================] - 9s 18ms/step - loss: 0.4547 - auc: 0.7038 - binary_accuracy: 0.8036 - val_loss: 0.4522 - val_auc: 0.7205 - val_binary_accuracy: 0.8024\n",
      "lr = 0.0009943218\n",
      "Epoch 4/150\n",
      "466/466 [==============================] - 9s 18ms/step - loss: 0.4416 - auc: 0.7316 - binary_accuracy: 0.8024 - val_loss: 0.4578 - val_auc: 0.7211 - val_binary_accuracy: 0.8013\n",
      "lr = 0.0009899203\n",
      "Epoch 5/150\n",
      "466/466 [==============================] - 9s 18ms/step - loss: 0.4381 - auc: 0.7388 - binary_accuracy: 0.8044 - val_loss: 0.4527 - val_auc: 0.7319 - val_binary_accuracy: 0.8024\n",
      "lr = 0.0009842805\n",
      "Epoch 6/150\n",
      "466/466 [==============================] - 9s 18ms/step - loss: 0.4317 - auc: 0.7505 - binary_accuracy: 0.8013 - val_loss: 0.4365 - val_auc: 0.7500 - val_binary_accuracy: 0.8045\n",
      "lr = 0.0009774164\n",
      "Epoch 7/150\n",
      "466/466 [==============================] - 9s 18ms/step - loss: 0.4238 - auc: 0.7637 - binary_accuracy: 0.8051 - val_loss: 0.4346 - val_auc: 0.7557 - val_binary_accuracy: 0.8024\n",
      "lr = 0.00096934556\n",
      "Epoch 8/150\n",
      "466/466 [==============================] - 9s 18ms/step - loss: 0.4193 - auc: 0.7712 - binary_accuracy: 0.8059 - val_loss: 0.4426 - val_auc: 0.7446 - val_binary_accuracy: 0.8110\n",
      "lr = 0.0009600883\n",
      "Epoch 9/150\n",
      "466/466 [==============================] - 9s 18ms/step - loss: 0.4125 - auc: 0.7812 - binary_accuracy: 0.8108 - val_loss: 0.4265 - val_auc: 0.7681 - val_binary_accuracy: 0.8067\n",
      "lr = 0.00094966806\n",
      "Epoch 10/150\n",
      "466/466 [==============================] - 9s 18ms/step - loss: 0.4080 - auc: 0.7886 - binary_accuracy: 0.8133 - val_loss: 0.4258 - val_auc: 0.7684 - val_binary_accuracy: 0.8045\n",
      "lr = 0.0009381113\n",
      "Epoch 11/150\n",
      "466/466 [==============================] - 9s 18ms/step - loss: 0.4068 - auc: 0.7909 - binary_accuracy: 0.8092 - val_loss: 0.4260 - val_auc: 0.7673 - val_binary_accuracy: 0.8067\n",
      "lr = 0.00092544715\n",
      "Epoch 12/150\n",
      "466/466 [==============================] - 9s 18ms/step - loss: 0.3954 - auc: 0.8062 - binary_accuracy: 0.8129 - val_loss: 0.4159 - val_auc: 0.7846 - val_binary_accuracy: 0.8195\n",
      "lr = 0.00091170776\n",
      "Epoch 13/150\n",
      "466/466 [==============================] - 9s 18ms/step - loss: 0.3945 - auc: 0.8072 - binary_accuracy: 0.8212 - val_loss: 0.4239 - val_auc: 0.7800 - val_binary_accuracy: 0.8067\n",
      "lr = 0.0008969277\n",
      "Epoch 14/150\n",
      "466/466 [==============================] - 9s 18ms/step - loss: 0.3856 - auc: 0.8185 - binary_accuracy: 0.8226 - val_loss: 0.4230 - val_auc: 0.7781 - val_binary_accuracy: 0.8142\n",
      "lr = 0.0008811446\n",
      "Epoch 15/150\n",
      "466/466 [==============================] - 9s 18ms/step - loss: 0.3777 - auc: 0.8288 - binary_accuracy: 0.8277 - val_loss: 0.4172 - val_auc: 0.7830 - val_binary_accuracy: 0.8056\n",
      "lr = 0.00086439826\n",
      "Epoch 16/150\n",
      "466/466 [==============================] - 9s 18ms/step - loss: 0.3725 - auc: 0.8345 - binary_accuracy: 0.8294 - val_loss: 0.4044 - val_auc: 0.7991 - val_binary_accuracy: 0.8238\n",
      "lr = 0.00084673124\n",
      "Epoch 17/150\n",
      "466/466 [==============================] - 9s 18ms/step - loss: 0.3622 - auc: 0.8453 - binary_accuracy: 0.8366 - val_loss: 0.4065 - val_auc: 0.8015 - val_binary_accuracy: 0.8088\n",
      "lr = 0.0008281879\n",
      "Epoch 18/150\n",
      "466/466 [==============================] - 9s 18ms/step - loss: 0.3516 - auc: 0.8574 - binary_accuracy: 0.8405 - val_loss: 0.4071 - val_auc: 0.8036 - val_binary_accuracy: 0.8217\n",
      "lr = 0.00080881553\n",
      "Epoch 19/150\n",
      "466/466 [==============================] - 9s 18ms/step - loss: 0.3429 - auc: 0.8657 - binary_accuracy: 0.8444 - val_loss: 0.4124 - val_auc: 0.8017 - val_binary_accuracy: 0.8217\n",
      "lr = 0.0007886629\n",
      "Epoch 20/150\n",
      "466/466 [==============================] - 9s 18ms/step - loss: 0.3396 - auc: 0.8684 - binary_accuracy: 0.8461 - val_loss: 0.4029 - val_auc: 0.8098 - val_binary_accuracy: 0.8238\n",
      "lr = 0.00076778117\n",
      "Epoch 21/150\n",
      "466/466 [==============================] - 9s 19ms/step - loss: 0.3284 - auc: 0.8777 - binary_accuracy: 0.8503 - val_loss: 0.4182 - val_auc: 0.8005 - val_binary_accuracy: 0.8281\n",
      "lr = 0.0007462231\n",
      "Epoch 22/150\n",
      "466/466 [==============================] - 9s 18ms/step - loss: 0.3258 - auc: 0.8809 - binary_accuracy: 0.8508 - val_loss: 0.4274 - val_auc: 0.7930 - val_binary_accuracy: 0.8206\n",
      "lr = 0.0007240432\n",
      "Epoch 23/150\n",
      "466/466 [==============================] - 9s 18ms/step - loss: 0.3121 - auc: 0.8923 - binary_accuracy: 0.8546 - val_loss: 0.4285 - val_auc: 0.8021 - val_binary_accuracy: 0.8314\n",
      "lr = 0.0007012976\n",
      "Epoch 24/150\n",
      "466/466 [==============================] - 9s 18ms/step - loss: 0.3083 - auc: 0.8951 - binary_accuracy: 0.8554 - val_loss: 0.4185 - val_auc: 0.7999 - val_binary_accuracy: 0.8260\n",
      "lr = 0.000678044\n",
      "Epoch 25/150\n",
      "466/466 [==============================] - 9s 18ms/step - loss: 0.2969 - auc: 0.9038 - binary_accuracy: 0.8621 - val_loss: 0.4264 - val_auc: 0.8083 - val_binary_accuracy: 0.8314\n",
      "lr = 0.000654341\n",
      "Epoch 26/150\n",
      "466/466 [==============================] - 9s 18ms/step - loss: 0.2853 - auc: 0.9126 - binary_accuracy: 0.8666 - val_loss: 0.4554 - val_auc: 0.7938 - val_binary_accuracy: 0.8153\n",
      "lr = 0.00063024886\n",
      "Epoch 27/150\n",
      "466/466 [==============================] - 9s 18ms/step - loss: 0.2824 - auc: 0.9141 - binary_accuracy: 0.8646 - val_loss: 0.4516 - val_auc: 0.7979 - val_binary_accuracy: 0.8185\n",
      "lr = 0.0006058283\n",
      "Epoch 28/150\n",
      "466/466 [==============================] - 9s 18ms/step - loss: 0.2687 - auc: 0.9236 - binary_accuracy: 0.8703 - val_loss: 0.4745 - val_auc: 0.7956 - val_binary_accuracy: 0.8045\n",
      "lr = 0.00058114127\n",
      "Epoch 29/150\n",
      "466/466 [==============================] - 9s 18ms/step - loss: 0.2677 - auc: 0.9242 - binary_accuracy: 0.8716 - val_loss: 0.4616 - val_auc: 0.8003 - val_binary_accuracy: 0.8067\n",
      "lr = 0.00055625016\n",
      "Epoch 30/150\n",
      "466/466 [==============================] - 9s 18ms/step - loss: 0.2563 - auc: 0.9309 - binary_accuracy: 0.8762 - val_loss: 0.4728 - val_auc: 0.7912 - val_binary_accuracy: 0.8260\n"
     ]
    }
   ],
   "source": [
    "result = model.fit(\n",
    "    train_data, \n",
    "    validation_data=val_data, \n",
    "    callbacks=[tf.keras.callbacks.LambdaCallback(\n",
    "        on_epoch_begin=lambda epochs,logs: print('lr =',lr_decayed_fn(opt.iterations).numpy())\n",
    "        ),\n",
    "        tf.keras.callbacks.EarlyStopping(monitor='val_auc', mode='max', restore_best_weights=True, patience=10)],\n",
    "    epochs=150)"
   ]
  },
  {
   "cell_type": "code",
   "execution_count": 59,
   "metadata": {
    "id": "kmrXu-SpZXrW"
   },
   "outputs": [
    {
     "name": "stdout",
     "output_type": "stream",
     "text": [
      "59/59 [==============================] - 0s 7ms/step - loss: 0.3795 - auc: 0.8250 - binary_accuracy: 0.8195\n"
     ]
    },
    {
     "data": {
      "image/png": "[encoded data removed]",
      "text/plain": [
       "<Figure size 432x288 with 1 Axes>"
      ]
     },
     "metadata": {
      "needs_background": "light"
     },
     "output_type": "display_data"
    }
   ],
   "source": [
    "plt.plot(result.history['val_binary_accuracy'])\n",
    "test_result = model.evaluate(test_data)\n",
    "plt.show()"
   ]
  },
  {
   "cell_type": "code",
   "execution_count": 60,
   "metadata": {},
   "outputs": [],
   "source": [
    "# serialize model to JSON\n",
    "model_json = model.to_json()\n",
    "with open(\"hemolytic_model.json\", \"w\") as json_file:\n",
    "    json_file.write(model_json)\n",
    "# serialize weights to HDF5\n",
    "model.save_weights(\"hemolytic_model.h5\")"
   ]
  },
  {
   "cell_type": "code",
   "execution_count": null,
   "metadata": {},
   "outputs": [],
   "source": [
    "# load json and create model\n",
    "json_file = open('model.json', 'r')\n",
    "loaded_model_json = json_file.read()\n",
    "json_file.close()\n",
    "loaded_model = model_from_json(loaded_model_json)\n",
    "# load weights into new model\n",
    "loaded_model.load_weights(\"model.h5\")\n",
    "print(\"Loaded model from disk\")"
   ]
  },
  {
   "cell_type": "code",
   "execution_count": 50,
   "metadata": {
    "id": "dvt5dhe2ZZSZ"
   },
   "outputs": [],
   "source": [
    "inference_model = build_infer_model(L)\n",
    "\n",
    "inference_model.set_weights(model.get_weights())"
   ]
  },
  {
   "cell_type": "code",
   "execution_count": 51,
   "metadata": {
    "id": "cZH1rrPlZa58"
   },
   "outputs": [
    {
     "data": {
      "text/plain": [
       "<tf.Tensor: shape=(1, 1), dtype=float32, numpy=array([[0.35786438]], dtype=float32)>"
      ]
     },
     "execution_count": 51,
     "metadata": {},
     "output_type": "execute_result"
    }
   ],
   "source": [
    "inference_model([np.array([1,1,1,1]).reshape(1,-1), np.array(np.ones(20)/20).reshape(1,-1)])"
   ]
  },
  {
   "cell_type": "code",
   "execution_count": 52,
   "metadata": {
    "id": "hiZ9r4SoZceA"
   },
   "outputs": [
    {
     "name": "stdout",
     "output_type": "stream",
     "text": [
      "WARNING:tensorflow:Compiled the loaded model, but the compiled metrics have yet to be built. `model.compile_metrics` will be empty until you train or evaluate the model.\n"
     ]
    }
   ],
   "source": [
    "tfjs.converters.save_keras_model(inference_model, \"tfjs_model\")"
   ]
  },
  {
   "cell_type": "markdown",
   "metadata": {
    "id": "-BxJi4R_ZiaG"
   },
   "source": [
    "# Model Card"
   ]
  },
  {
   "cell_type": "code",
   "execution_count": 53,
   "metadata": {
    "id": "hjj0MP8XZkQb"
   },
   "outputs": [
    {
     "name": "stdout",
     "output_type": "stream",
     "text": [
      "{\n",
      " \"title\": \"Hemolytic Prediction\",\n",
      " \"details\": \"Recurrent (bi-LSTM) neural network for predicting if a peptide is hemolytic. Developed by Andrew White using data from The Database of Antimicrobial Activity and Structure of Peptides (DBAASP). The activity is defined from by extrapolating from a measurement assuming a dose response curves to the point at which 50% of RBCs are lysed.  If activity is below 100 \\u03bcg / ml, it is hemolytic. Each measurement is treated independently, so sequences can appear multiple times.\",\n",
      " \"use\": \"Peptides between 2 and 190 residues. L- and canonical  amino acids.\",\n",
      " \"factors\": \"Dataset was from sequences thought to be antimicrobial or clinically relevant.\",\n",
      " \"metrics\": \"Test accuracy 0.82. Test AUC 0.81\",\n",
      " \"evaluation\": \"Withheld positive and negative examples\",\n",
      " \"training\": \"9316 positive and negative sequences. Only L- and canonical amino acids were trained.\",\n",
      " \"caveats\": \"The sequences tested were typically from biological sources.\",\n",
      " \"ethics\": \"These predictions are not a substitute for labratory experiments.\"\n",
      "}\n"
     ]
    }
   ],
   "source": [
    "model_card = {\n",
    "    'title': 'Hemolytic Prediction',\n",
    "    'details': 'Recurrent (bi-LSTM) neural network for predicting if a peptide is hemolytic. Developed by Andrew White using data from The Database of Antimicrobial Activity and Structure of Peptides (DBAASP). '\n",
    "    'The activity is defined from by extrapolating from a measurement assuming a dose response curves to the point at which 50% of RBCs are lysed.  If activity is below 100 μg / ml, it is hemolytic. Each measurement is treated independently, so sequences can appear multiple times.',\n",
    "    'use': 'Peptides between 2 and 190 residues. L- and canonical  amino acids.',\n",
    "    'factors': 'Dataset was from sequences thought to be antimicrobial or clinically relevant.',\n",
    "    'metrics': f'Test accuracy {test_result[2]:.2f}. Test AUC {test_result[1]:.2f}',\n",
    "    'evaluation': 'Withheld positive and negative examples',\n",
    "    'training': f'{len(pos_data) + len(neg_data)} positive and negative sequences. Only L- and canonical amino acids were trained.',\n",
    "    'caveats': 'The sequences tested were typically from biological sources.',\n",
    "    'ethics': 'These predictions are not a substitute for labratory experiments.'\n",
    "}\n",
    "with open('card.json', 'w') as f:\n",
    "  json.dump(model_card, f)\n",
    "print(json.dumps(model_card, indent=True))"
   ]
  },
  {
   "cell_type": "code",
   "execution_count": null,
   "metadata": {
    "id": "g5eLRxu0ZnDC"
   },
   "outputs": [],
   "source": []
  }
 ],
 "metadata": {
  "colab": {
   "collapsed_sections": [],
   "name": "Hemo_RNN.ipynb",
   "provenance": []
  },
  "kernelspec": {
   "display_name": "Python 3",
   "language": "python",
   "name": "serverless"
  },
  "language_info": {
   "codemirror_mode": {
    "name": "ipython",
    "version": 3
   },
   "file_extension": ".py",
   "mimetype": "text/x-python",
   "name": "python",
   "nbconvert_exporter": "python",
   "pygments_lexer": "ipython3",
   "version": "3.8.13"
  }
 },
 "nbformat": 4,
 "nbformat_minor": 1
}
