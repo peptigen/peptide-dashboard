{
  "nbformat": 4,
  "nbformat_minor": 0,
  "metadata": {
    "colab": {
      "name": "Hemo-RNN",
      "provenance": [],
      "collapsed_sections": []
    },
    "kernelspec": {
      "name": "python3",
      "display_name": "Python 3"
    },
    "language_info": {
      "name": "python"
    },
    "accelerator": "GPU"
  },
  "cells": [
    {
      "cell_type": "code",
      "metadata": {
        "colab": {
          "base_uri": "https://localhost:8080/"
        },
        "id": "FLdQgeg6ruk5",
        "outputId": "156881de-9a12-4aeb-84da-1ea84cbb6004"
      },
      "source": [
        "!pip install -q tensorflowjs\n",
        "!nvidia-smi"
      ],
      "execution_count": null,
      "outputs": [
        {
          "output_type": "stream",
          "name": "stdout",
          "text": [
            "Sat Jan 15 21:48:39 2022       \n",
            "+-----------------------------------------------------------------------------+\n",
            "| NVIDIA-SMI 495.46       Driver Version: 460.32.03    CUDA Version: 11.2     |\n",
            "|-------------------------------+----------------------+----------------------+\n",
            "| GPU  Name        Persistence-M| Bus-Id        Disp.A | Volatile Uncorr. ECC |\n",
            "| Fan  Temp  Perf  Pwr:Usage/Cap|         Memory-Usage | GPU-Util  Compute M. |\n",
            "|                               |                      |               MIG M. |\n",
            "|===============================+======================+======================|\n",
            "|   0  Tesla P100-PCIE...  Off  | 00000000:00:04.0 Off |                    0 |\n",
            "| N/A   45C    P0    30W / 250W |      0MiB / 16280MiB |      0%      Default |\n",
            "|                               |                      |                  N/A |\n",
            "+-------------------------------+----------------------+----------------------+\n",
            "                                                                               \n",
            "+-----------------------------------------------------------------------------+\n",
            "| Processes:                                                                  |\n",
            "|  GPU   GI   CI        PID   Type   Process name                  GPU Memory |\n",
            "|        ID   ID                                                   Usage      |\n",
            "|=============================================================================|\n",
            "|  No running processes found                                                 |\n",
            "+-----------------------------------------------------------------------------+\n"
          ]
        }
      ]
    },
    {
      "cell_type": "code",
      "metadata": {
        "id": "kN5GDHK6riEe"
      },
      "source": [
        "#@title Runtime\n",
        "use_tpu = False #@param\n"
      ],
      "execution_count": null,
      "outputs": []
    },
    {
      "cell_type": "code",
      "metadata": {
        "id": "PW7wdIp7py9V"
      },
      "source": [
        "import matplotlib.pyplot as plt\n",
        "import matplotlib as mpl\n",
        "import numpy as np\n",
        "import os\n",
        "import tensorflow as tf\n",
        "import urllib\n",
        "from dataclasses import dataclass\n",
        "import tensorflowjs as tfjs\n",
        "import json\n",
        "np.random.seed(0)"
      ],
      "execution_count": null,
      "outputs": []
    },
    {
      "cell_type": "code",
      "metadata": {
        "id": "-az13Rv1p6xr"
      },
      "source": [
        "urllib.request.urlretrieve(\n",
        "    \"https://github.com/ur-whitelab/peptide-dashboard/raw/master/ml/data/hemo-positive.npz\",\n",
        "    \"positive.npz\",\n",
        ")\n",
        "urllib.request.urlretrieve(\n",
        "    \"https://github.com/ur-whitelab/peptide-dashboard/raw/master/ml/data/hemo-negative.npz\",\n",
        "    \"negative.npz\",\n",
        ")\n",
        "with np.load(\"positive.npz\") as r:\n",
        "    pos_data = r[list(r.keys())[0]]\n",
        "with np.load(\"negative.npz\") as r:\n",
        "    neg_data = r[list(r.keys())[0]]\n",
        "\n",
        "# create labels and stich it all into one\n",
        "# tensor\n",
        "labels = np.concatenate(\n",
        "    (\n",
        "        np.ones((pos_data.shape[0], 1), dtype=pos_data.dtype),\n",
        "        np.zeros((neg_data.shape[0], 1), dtype=pos_data.dtype),\n",
        "    ),\n",
        "    axis=0,\n",
        ")\n",
        "\n",
        "features = np.concatenate((pos_data, neg_data), axis=0)"
      ],
      "execution_count": null,
      "outputs": []
    },
    {
      "cell_type": "code",
      "source": [
        "print('Positive data', pos_data.shape[0])\n",
        "print('Negative data', neg_data.shape[0])"
      ],
      "metadata": {
        "colab": {
          "base_uri": "https://localhost:8080/"
        },
        "id": "i1e4uaGsuOmA",
        "outputId": "e9c3ebf3-078a-4005-c477-9d8ebd76da8b"
      },
      "execution_count": null,
      "outputs": [
        {
          "output_type": "stream",
          "name": "stdout",
          "text": [
            "Positive data 1076\n",
            "Negative data 8240\n"
          ]
        }
      ]
    },
    {
      "cell_type": "code",
      "metadata": {
        "id": "4o1kwH0dy_xz"
      },
      "source": [
        "@dataclass\n",
        "class Config:\n",
        "    vocab_size: int\n",
        "    example_number: int\n",
        "    batch_size: int\n",
        "    buffer_size: int\n",
        "    rnn_units: int\n",
        "    hidden_dim: int\n",
        "    embedding_dim: int\n",
        "    reg_strength: float\n",
        "    lr: float\n",
        "    drop_rate: float\n",
        "        \n",
        "config = Config(vocab_size=21, # include gap\n",
        "                example_number=len(labels), \n",
        "                batch_size=16, \n",
        "                buffer_size=10000,\n",
        "                rnn_units=64,\n",
        "                hidden_dim=64,\n",
        "                embedding_dim=32,\n",
        "                reg_strength=0,\n",
        "                lr=1e-3,\n",
        "                drop_rate=0.1\n",
        "               )\n",
        "\n"
      ],
      "execution_count": null,
      "outputs": []
    },
    {
      "cell_type": "code",
      "metadata": {
        "id": "pC9ee3SEqxqq"
      },
      "source": [
        "def build_model(L):\n",
        "    inputs = tf.keras.Input(shape=(L,))\n",
        "\n",
        "    # make embedding and indicate that 0 should be treated as padding mask\n",
        "    e = tf.keras.layers.Embedding(input_dim=config.vocab_size, \n",
        "                                        output_dim=config.embedding_dim,\n",
        "                                        mask_zero=True)(inputs)\n",
        "\n",
        "    counts = tf.keras.layers.GlobalAveragePooling1D()(e)\n",
        "\n",
        "\n",
        "    # RNN layer\n",
        "    x = tf.keras.layers.Bidirectional(tf.keras.layers.LSTM(config.rnn_units, return_sequences=True))(e)\n",
        "    x = tf.keras.layers.Bidirectional(tf.keras.layers.LSTM(config.rnn_units))(e)\n",
        "    x = tf.keras.layers.Concatenate()([x, counts])\n",
        "    x = tf.keras.layers.LayerNormalization()(x)\n",
        "    x = tf.keras.layers.Dropout(config.drop_rate)(x)\n",
        "    # a dense hidden layer\n",
        "    x = tf.keras.layers.Dense(\n",
        "        config.hidden_dim, \n",
        "        activation='relu', \n",
        "        kernel_regularizer=tf.keras.regularizers.l2(config.reg_strength))(x)\n",
        "    x = tf.keras.layers.LayerNormalization()(x)\n",
        "    x = tf.keras.layers.Dropout(config.drop_rate)(x)\n",
        "    x = tf.keras.layers.Dense(\n",
        "        config.hidden_dim // 4, \n",
        "        activation='relu', \n",
        "        kernel_regularizer=tf.keras.regularizers.l2(config.reg_strength))(x)\n",
        "    x = tf.keras.layers.LayerNormalization()(x)\n",
        "    x = tf.keras.layers.Dropout(config.drop_rate)(x)\n",
        "    # predicting prob, so no activation\n",
        "    yhat = tf.keras.layers.Dense(1)(x)\n",
        "\n",
        "    model = tf.keras.Model(inputs=inputs, outputs=yhat, name='sol-rnn')\n",
        "    return model\n",
        "\n",
        "def build_infer_model(L):\n",
        "    inputs = tf.keras.Input(shape=(L,))\n",
        "\n",
        "    # make embedding and indicate that 0 should be treated as padding mask\n",
        "    e = tf.keras.layers.Embedding(input_dim=config.vocab_size, \n",
        "                                        output_dim=config.embedding_dim,\n",
        "                                        mask_zero=True)(inputs)\n",
        "\n",
        "    counts = tf.keras.layers.GlobalAveragePooling1D()(e)\n",
        "\n",
        "\n",
        "    # RNN layer\n",
        "    x = tf.keras.layers.Bidirectional(tf.keras.layers.LSTM(config.rnn_units, return_sequences=True))(e)\n",
        "    x = tf.keras.layers.Bidirectional(tf.keras.layers.LSTM(config.rnn_units))(e)\n",
        "    x = tf.keras.layers.Concatenate()([x, counts])\n",
        "    x = tf.keras.layers.LayerNormalization()(x)\n",
        "    # a dense hidden layer\n",
        "    x = tf.keras.layers.Dense(\n",
        "        config.hidden_dim, \n",
        "        activation='relu')(x)\n",
        "    x = tf.keras.layers.LayerNormalization()(x)\n",
        "    x = tf.keras.layers.Dense(\n",
        "        config.hidden_dim // 4, \n",
        "        activation='relu')(x)\n",
        "    x = tf.keras.layers.LayerNormalization()(x)\n",
        "    # predicting prob, so no activation\n",
        "    yhat = tf.keras.layers.Dense(1, activation='sigmoid')(x)\n",
        "\n",
        "    model = tf.keras.Model(inputs=inputs, outputs=yhat, name='sol-rnn-infer')\n",
        "    return model"
      ],
      "execution_count": null,
      "outputs": []
    },
    {
      "cell_type": "code",
      "metadata": {
        "id": "rg4sBeamoCOO"
      },
      "source": [
        "if use_tpu:\n",
        "  tf.keras.backend.clear_session()\n",
        "\n",
        "  resolver = tf.distribute.cluster_resolver.TPUClusterResolver('grpc://' + os.environ['COLAB_TPU_ADDR'])\n",
        "  tf.config.experimental_connect_to_cluster(resolver)\n",
        "\n",
        "  # This is the TPU initialization code that has to be at the beginning.\n",
        "  tf.tpu.experimental.initialize_tpu_system(resolver)\n",
        "  print(\"All devices: \", tf.config.list_logical_devices('TPU'))\n",
        "\n",
        "  strategy = tf.distribute.experimental.TPUStrategy(resolver)\n"
      ],
      "execution_count": null,
      "outputs": []
    },
    {
      "cell_type": "code",
      "metadata": {
        "id": "dXB1MlmMqAHT"
      },
      "source": [
        "# we now need to shuffle before creating TF dataset\n",
        "# so that our train/test/val splits are random\n",
        "i = np.arange(len(labels))\n",
        "np.random.shuffle(i)\n",
        "labels = labels[i]\n",
        "features = features[i]\n",
        "data = tf.data.Dataset.from_tensor_slices((features, labels))\n",
        "# now split into val, test, train and batch\n",
        "N = len(data)  \n",
        "L = None#features[0].shape[-1]\n",
        "split = int(0.1 * N)\n",
        "test_data = data.take(split).batch(config.batch_size)\n",
        "nontest = data.skip(split)\n",
        "val_data, train_data = nontest.take(split).batch(config.batch_size), \\\n",
        "    nontest.skip(split).shuffle(config.buffer_size).batch(config.batch_size).prefetch(tf.data.experimental.AUTOTUNE)"
      ],
      "execution_count": null,
      "outputs": []
    },
    {
      "cell_type": "code",
      "metadata": {
        "id": "W8WI1JiDy9J2"
      },
      "source": [
        "if use_tpu:\n",
        "  with strategy.scope():\n",
        "    model = build_model(L)\n",
        "else:\n",
        "  model = build_model(L)\n",
        "\n",
        "  decay_epochs = 50\n",
        "  decay_steps = N  // config.batch_size * decay_epochs\n",
        "  lr_decayed_fn = tf.keras.optimizers.schedules.CosineDecay(\n",
        "      config.lr, decay_steps, alpha=1e-3)\n",
        "  opt = tf.optimizers.Adam(lr_decayed_fn)\n",
        "  model.compile(\n",
        "      opt,\n",
        "      loss=tf.keras.losses.BinaryCrossentropy(from_logits=True),\n",
        "      steps_per_execution = 60 if use_tpu else None,\n",
        "      metrics=[tf.keras.metrics.AUC(from_logits=True), tf.keras.metrics.BinaryAccuracy(threshold=0)])"
      ],
      "execution_count": null,
      "outputs": []
    },
    {
      "cell_type": "code",
      "source": [
        "model.summary()"
      ],
      "metadata": {
        "colab": {
          "base_uri": "https://localhost:8080/"
        },
        "id": "_M60Z2MiCmw9",
        "outputId": "42c41e20-6704-4f25-b76d-266cb544cd3c"
      },
      "execution_count": null,
      "outputs": [
        {
          "output_type": "stream",
          "name": "stdout",
          "text": [
            "Model: \"sol-rnn\"\n",
            "__________________________________________________________________________________________________\n",
            " Layer (type)                   Output Shape         Param #     Connected to                     \n",
            "==================================================================================================\n",
            " input_1 (InputLayer)           [(None, None)]       0           []                               \n",
            "                                                                                                  \n",
            " embedding (Embedding)          (None, None, 32)     672         ['input_1[0][0]']                \n",
            "                                                                                                  \n",
            " bidirectional_1 (Bidirectional  (None, 128)         49664       ['embedding[0][0]']              \n",
            " )                                                                                                \n",
            "                                                                                                  \n",
            " global_average_pooling1d (Glob  (None, 32)          0           ['embedding[0][0]']              \n",
            " alAveragePooling1D)                                                                              \n",
            "                                                                                                  \n",
            " concatenate (Concatenate)      (None, 160)          0           ['bidirectional_1[0][0]',        \n",
            "                                                                  'global_average_pooling1d[0][0]'\n",
            "                                                                 ]                                \n",
            "                                                                                                  \n",
            " layer_normalization (LayerNorm  (None, 160)         320         ['concatenate[0][0]']            \n",
            " alization)                                                                                       \n",
            "                                                                                                  \n",
            " dropout (Dropout)              (None, 160)          0           ['layer_normalization[0][0]']    \n",
            "                                                                                                  \n",
            " dense (Dense)                  (None, 64)           10304       ['dropout[0][0]']                \n",
            "                                                                                                  \n",
            " layer_normalization_1 (LayerNo  (None, 64)          128         ['dense[0][0]']                  \n",
            " rmalization)                                                                                     \n",
            "                                                                                                  \n",
            " dropout_1 (Dropout)            (None, 64)           0           ['layer_normalization_1[0][0]']  \n",
            "                                                                                                  \n",
            " dense_1 (Dense)                (None, 16)           1040        ['dropout_1[0][0]']              \n",
            "                                                                                                  \n",
            " layer_normalization_2 (LayerNo  (None, 16)          32          ['dense_1[0][0]']                \n",
            " rmalization)                                                                                     \n",
            "                                                                                                  \n",
            " dropout_2 (Dropout)            (None, 16)           0           ['layer_normalization_2[0][0]']  \n",
            "                                                                                                  \n",
            " dense_2 (Dense)                (None, 1)            17          ['dropout_2[0][0]']              \n",
            "                                                                                                  \n",
            "==================================================================================================\n",
            "Total params: 62,177\n",
            "Trainable params: 62,177\n",
            "Non-trainable params: 0\n",
            "__________________________________________________________________________________________________\n"
          ]
        }
      ]
    },
    {
      "cell_type": "code",
      "metadata": {
        "colab": {
          "base_uri": "https://localhost:8080/"
        },
        "id": "mVSlO4VizO-N",
        "outputId": "fc28864c-f4dc-4c76-99e7-47e72eda0f21"
      },
      "source": [
        "result = model.fit(\n",
        "    train_data, \n",
        "    validation_data=val_data, \n",
        "    callbacks=[tf.keras.callbacks.LambdaCallback(\n",
        "        on_epoch_begin=lambda epochs,logs: print('lr =',lr_decayed_fn(opt.iterations).numpy())\n",
        "        ),\n",
        "        tf.keras.callbacks.EarlyStopping(monitor='val_auc', mode='max', restore_best_weights=True, patience=10)],\n",
        "    epochs=150)\n",
        "\n"
      ],
      "execution_count": null,
      "outputs": [
        {
          "output_type": "stream",
          "name": "stdout",
          "text": [
            "lr = 0.001\n",
            "Epoch 1/150\n",
            "466/466 [==============================] - 23s 27ms/step - loss: 0.3540 - auc: 0.6140 - binary_accuracy: 0.8836 - val_loss: 0.3924 - val_auc: 0.6572 - val_binary_accuracy: 0.8765\n",
            "lr = 0.000999368\n",
            "Epoch 2/150\n",
            "466/466 [==============================] - 9s 20ms/step - loss: 0.3368 - auc: 0.6801 - binary_accuracy: 0.8846 - val_loss: 0.3454 - val_auc: 0.7209 - val_binary_accuracy: 0.8765\n",
            "lr = 0.0009974737\n",
            "Epoch 3/150\n",
            "466/466 [==============================] - 10s 20ms/step - loss: 0.3270 - auc: 0.7116 - binary_accuracy: 0.8841 - val_loss: 0.3400 - val_auc: 0.7280 - val_binary_accuracy: 0.8754\n",
            "lr = 0.0009943218\n",
            "Epoch 4/150\n",
            "466/466 [==============================] - 9s 20ms/step - loss: 0.3187 - auc: 0.7304 - binary_accuracy: 0.8868 - val_loss: 0.3487 - val_auc: 0.7247 - val_binary_accuracy: 0.8765\n",
            "lr = 0.0009899203\n",
            "Epoch 5/150\n",
            "466/466 [==============================] - 9s 20ms/step - loss: 0.3130 - auc: 0.7488 - binary_accuracy: 0.8873 - val_loss: 0.3474 - val_auc: 0.7347 - val_binary_accuracy: 0.8765\n",
            "lr = 0.0009842805\n",
            "Epoch 6/150\n",
            "466/466 [==============================] - 9s 20ms/step - loss: 0.3104 - auc: 0.7532 - binary_accuracy: 0.8880 - val_loss: 0.3217 - val_auc: 0.7760 - val_binary_accuracy: 0.8786\n",
            "lr = 0.0009774164\n",
            "Epoch 7/150\n",
            "466/466 [==============================] - 9s 20ms/step - loss: 0.3042 - auc: 0.7697 - binary_accuracy: 0.8862 - val_loss: 0.3176 - val_auc: 0.7761 - val_binary_accuracy: 0.8776\n",
            "lr = 0.00096934556\n",
            "Epoch 8/150\n",
            "466/466 [==============================] - 9s 20ms/step - loss: 0.3000 - auc: 0.7807 - binary_accuracy: 0.8881 - val_loss: 0.3159 - val_auc: 0.7836 - val_binary_accuracy: 0.8818\n",
            "lr = 0.0009600883\n",
            "Epoch 9/150\n",
            "466/466 [==============================] - 9s 20ms/step - loss: 0.2965 - auc: 0.7863 - binary_accuracy: 0.8881 - val_loss: 0.3122 - val_auc: 0.7822 - val_binary_accuracy: 0.8797\n",
            "lr = 0.00094966806\n",
            "Epoch 10/150\n",
            "466/466 [==============================] - 10s 20ms/step - loss: 0.2919 - auc: 0.7960 - binary_accuracy: 0.8904 - val_loss: 0.3147 - val_auc: 0.7708 - val_binary_accuracy: 0.8818\n",
            "lr = 0.0009381113\n",
            "Epoch 11/150\n",
            "466/466 [==============================] - 9s 20ms/step - loss: 0.2890 - auc: 0.8007 - binary_accuracy: 0.8924 - val_loss: 0.3071 - val_auc: 0.7942 - val_binary_accuracy: 0.8851\n",
            "lr = 0.00092544715\n",
            "Epoch 12/150\n",
            "466/466 [==============================] - 9s 20ms/step - loss: 0.2837 - auc: 0.8141 - binary_accuracy: 0.8927 - val_loss: 0.3197 - val_auc: 0.7790 - val_binary_accuracy: 0.8786\n",
            "lr = 0.00091170776\n",
            "Epoch 13/150\n",
            "466/466 [==============================] - 9s 20ms/step - loss: 0.2784 - auc: 0.8205 - binary_accuracy: 0.8940 - val_loss: 0.3168 - val_auc: 0.7945 - val_binary_accuracy: 0.8722\n",
            "lr = 0.0008969277\n",
            "Epoch 14/150\n",
            "466/466 [==============================] - 9s 20ms/step - loss: 0.2813 - auc: 0.8188 - binary_accuracy: 0.8907 - val_loss: 0.3105 - val_auc: 0.8075 - val_binary_accuracy: 0.8840\n",
            "lr = 0.0008811446\n",
            "Epoch 15/150\n",
            "466/466 [==============================] - 9s 20ms/step - loss: 0.2708 - auc: 0.8378 - binary_accuracy: 0.8939 - val_loss: 0.3015 - val_auc: 0.8046 - val_binary_accuracy: 0.8894\n",
            "lr = 0.00086439826\n",
            "Epoch 16/150\n",
            "466/466 [==============================] - 9s 20ms/step - loss: 0.2669 - auc: 0.8426 - binary_accuracy: 0.8978 - val_loss: 0.2992 - val_auc: 0.8137 - val_binary_accuracy: 0.8840\n",
            "lr = 0.00084673124\n",
            "Epoch 17/150\n",
            "466/466 [==============================] - 9s 20ms/step - loss: 0.2637 - auc: 0.8502 - binary_accuracy: 0.8929 - val_loss: 0.2958 - val_auc: 0.8162 - val_binary_accuracy: 0.8883\n",
            "lr = 0.0008281879\n",
            "Epoch 18/150\n",
            "466/466 [==============================] - 9s 20ms/step - loss: 0.2565 - auc: 0.8598 - binary_accuracy: 0.9002 - val_loss: 0.3098 - val_auc: 0.8012 - val_binary_accuracy: 0.8861\n",
            "lr = 0.00080881553\n",
            "Epoch 19/150\n",
            "466/466 [==============================] - 9s 20ms/step - loss: 0.2530 - auc: 0.8642 - binary_accuracy: 0.8992 - val_loss: 0.3038 - val_auc: 0.8091 - val_binary_accuracy: 0.8851\n",
            "lr = 0.0007886629\n",
            "Epoch 20/150\n",
            "466/466 [==============================] - 9s 20ms/step - loss: 0.2494 - auc: 0.8691 - binary_accuracy: 0.8997 - val_loss: 0.2947 - val_auc: 0.8286 - val_binary_accuracy: 0.8861\n",
            "lr = 0.00076778117\n",
            "Epoch 21/150\n",
            "466/466 [==============================] - 9s 20ms/step - loss: 0.2434 - auc: 0.8794 - binary_accuracy: 0.9003 - val_loss: 0.2978 - val_auc: 0.8204 - val_binary_accuracy: 0.8883\n",
            "lr = 0.0007462231\n",
            "Epoch 22/150\n",
            "466/466 [==============================] - 9s 20ms/step - loss: 0.2416 - auc: 0.8820 - binary_accuracy: 0.9015 - val_loss: 0.2967 - val_auc: 0.8281 - val_binary_accuracy: 0.8743\n",
            "lr = 0.0007240432\n",
            "Epoch 23/150\n",
            "466/466 [==============================] - 9s 20ms/step - loss: 0.2361 - auc: 0.8899 - binary_accuracy: 0.9023 - val_loss: 0.2943 - val_auc: 0.8283 - val_binary_accuracy: 0.8797\n",
            "lr = 0.0007012976\n",
            "Epoch 24/150\n",
            "466/466 [==============================] - 9s 20ms/step - loss: 0.2297 - auc: 0.8964 - binary_accuracy: 0.9047 - val_loss: 0.3003 - val_auc: 0.8256 - val_binary_accuracy: 0.8829\n",
            "lr = 0.000678044\n",
            "Epoch 25/150\n",
            "466/466 [==============================] - 9s 20ms/step - loss: 0.2290 - auc: 0.8990 - binary_accuracy: 0.9046 - val_loss: 0.3020 - val_auc: 0.8186 - val_binary_accuracy: 0.8872\n",
            "lr = 0.000654341\n",
            "Epoch 26/150\n",
            "466/466 [==============================] - 9s 20ms/step - loss: 0.2196 - auc: 0.9082 - binary_accuracy: 0.9066 - val_loss: 0.3065 - val_auc: 0.8263 - val_binary_accuracy: 0.8743\n",
            "lr = 0.00063024886\n",
            "Epoch 27/150\n",
            "466/466 [==============================] - 9s 20ms/step - loss: 0.2190 - auc: 0.9097 - binary_accuracy: 0.9049 - val_loss: 0.3092 - val_auc: 0.8234 - val_binary_accuracy: 0.8840\n",
            "lr = 0.0006058283\n",
            "Epoch 28/150\n",
            "466/466 [==============================] - 9s 20ms/step - loss: 0.2154 - auc: 0.9125 - binary_accuracy: 0.9088 - val_loss: 0.3096 - val_auc: 0.8231 - val_binary_accuracy: 0.8786\n",
            "lr = 0.00058114127\n",
            "Epoch 29/150\n",
            "466/466 [==============================] - 9s 20ms/step - loss: 0.2090 - auc: 0.9182 - binary_accuracy: 0.9085 - val_loss: 0.3119 - val_auc: 0.8207 - val_binary_accuracy: 0.8818\n",
            "lr = 0.00055625016\n",
            "Epoch 30/150\n",
            "466/466 [==============================] - 9s 20ms/step - loss: 0.2057 - auc: 0.9217 - binary_accuracy: 0.9088 - val_loss: 0.3126 - val_auc: 0.8193 - val_binary_accuracy: 0.8776\n"
          ]
        }
      ]
    },
    {
      "cell_type": "code",
      "metadata": {
        "colab": {
          "base_uri": "https://localhost:8080/",
          "height": 286
        },
        "id": "8p0C2kHV2vrW",
        "outputId": "b4e8fb8f-135a-406b-bc2e-2ad1fd2c049c"
      },
      "source": [
        "plt.plot(result.history['val_binary_accuracy'])\n",
        "test_result = model.evaluate(test_data)\n",
        "plt.show()"
      ],
      "execution_count": null,
      "outputs": [
        {
          "output_type": "stream",
          "name": "stdout",
          "text": [
            "59/59 [==============================] - 1s 9ms/step - loss: 0.2831 - auc: 0.8075 - binary_accuracy: 0.9044\n"
          ]
        },
        {
          "output_type": "display_data",
          "data": {
            "image/png": "[encoded data removed]",
            "text/plain": [
              "<Figure size 432x288 with 1 Axes>"
            ]
          },
          "metadata": {
            "needs_background": "light"
          }
        }
      ]
    },
    {
      "cell_type": "code",
      "source": [
        "inference_model = build_infer_model(L)\n",
        "\n",
        "inference_model.set_weights(model.get_weights())"
      ],
      "metadata": {
        "id": "rOfgoKtsU1K-"
      },
      "execution_count": null,
      "outputs": []
    },
    {
      "cell_type": "code",
      "metadata": {
        "id": "vm_yXNslzRGu",
        "colab": {
          "base_uri": "https://localhost:8080/"
        },
        "outputId": "9edbcc2d-e55f-4f78-8b21-9e8ef78fe3fa"
      },
      "source": [
        "inference_model(np.array([1,1,1,1]).reshape(1,-1))"
      ],
      "execution_count": null,
      "outputs": [
        {
          "output_type": "execute_result",
          "data": {
            "text/plain": [
              "<tf.Tensor: shape=(1, 1), dtype=float32, numpy=array([[0.20612869]], dtype=float32)>"
            ]
          },
          "metadata": {},
          "execution_count": 15
        }
      ]
    },
    {
      "cell_type": "code",
      "metadata": {
        "id": "aDvdjpMmz7UA",
        "colab": {
          "base_uri": "https://localhost:8080/"
        },
        "outputId": "83dbec4c-dc98-4ee9-9b26-80d54e1b0be8"
      },
      "source": [
        "tfjs.converters.save_keras_model(inference_model, \"tfjs_model\")"
      ],
      "execution_count": null,
      "outputs": [
        {
          "output_type": "stream",
          "name": "stdout",
          "text": [
            "WARNING:tensorflow:Compiled the loaded model, but the compiled metrics have yet to be built. `model.compile_metrics` will be empty until you train or evaluate the model.\n"
          ]
        }
      ]
    },
    {
      "cell_type": "markdown",
      "source": [
        "# Model Card"
      ],
      "metadata": {
        "id": "bCdM_rbZfmDQ"
      }
    },
    {
      "cell_type": "code",
      "source": [
        "model_card = {\n",
        "    'title': 'Hemolytic Prediction',\n",
        "    'details': 'Recurrent (bi-LSTM) neural network for predicting if a peptide is hemolytic. Developed by Andrew White using data from The Database of Antimicrobial Activity and Structure of Peptides (DBAASP). '\n",
        "    'The activity cutoff from dose response curves is 25 micrograms / ml. A positive prediction means the peptide is predicted to have hemolytic activity below that cutoff.',\n",
        "    'use': 'Peptides between 2 and 190 residues. L-chirality and canonical  amino acids',\n",
        "    'factors': 'Dataset was from sequences thought to be antimicrobial or clinically relevant',\n",
        "    'metrics': f'Test accuracy {test_result[2]:.2f}. Test AUC {test_result[1]:.2f}',\n",
        "    'evaluation': 'Withheld positive and negative examples',\n",
        "    'training': f'{len(pos_data) + len(neg_data)} positive and negative sequences. Only L chirality and canonical amino acids were trained.',\n",
        "    'caveats': 'The sequences tested were typically from biological sources and were chosen because they are thought to be antimicrobial or biologically active.',\n",
        "    'ethics': 'These predictions are not a substitute for labratory experiments.'\n",
        "}\n",
        "with open('card.json', 'w') as f:\n",
        "  json.dump(model_card, f)\n",
        "print(json.dumps(model_card, indent=True))"
      ],
      "metadata": {
        "id": "8x0RLsUSfmdR",
        "colab": {
          "base_uri": "https://localhost:8080/"
        },
        "outputId": "58741d9d-a922-4867-e536-b1d5de88a4eb"
      },
      "execution_count": null,
      "outputs": [
        {
          "output_type": "stream",
          "name": "stdout",
          "text": [
            "{\n",
            " \"title\": \"Hemolytic Prediction\",\n",
            " \"details\": \"Recurrent (LSTM) neural network for predicting if a peptide is hemolytic. Developed by Andrew White using data from The Database of Antimicrobial Activity and Structure of Peptides (DBAASP). The activity cutoff from dose response curves is 25 micrograms / ml. A positive prediction means the peptide is predicted to have hemolytic activity below that cutoff.\",\n",
            " \"use\": \"Peptides between 2 and 190 residues. L-chirality and canonical  amino acids\",\n",
            " \"factors\": \"Dataset was from sequences thought to be antimicrobial or clinically relevant\",\n",
            " \"metrics\": \"Test accuracy 0.90. Test AUC 0.81\",\n",
            " \"evaluation\": \"Withheld positive and negative examples\",\n",
            " \"training\": \"9316 positive and negative sequences. Only L chirality and canonical amino acids were trained.\",\n",
            " \"caveats\": \"The sequences tested were typically from biological sources and were chosen because they are thought to be antimicrobial or biologically active.\",\n",
            " \"ethics\": \"These predictions are not a substitute for labratory experiments.\"\n",
            "}\n"
          ]
        }
      ]
    },
    {
      "cell_type": "code",
      "source": [
        ""
      ],
      "metadata": {
        "id": "aoHcmKk-9vSl"
      },
      "execution_count": null,
      "outputs": []
    }
  ]
}