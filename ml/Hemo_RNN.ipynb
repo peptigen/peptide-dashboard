{
  "nbformat": 4,
  "nbformat_minor": 0,
  "metadata": {
    "colab": {
      "name": "Hemo-RNN",
      "provenance": [],
      "collapsed_sections": []
    },
    "kernelspec": {
      "name": "python3",
      "display_name": "Python 3"
    },
    "language_info": {
      "name": "python"
    },
    "accelerator": "GPU"
  },
  "cells": [
    {
      "cell_type": "code",
      "metadata": {
        "colab": {
          "base_uri": "https://localhost:8080/"
        },
        "id": "FLdQgeg6ruk5",
        "outputId": "83bbbce4-392d-413f-94ef-71c13401dfa4"
      },
      "source": [
        "!pip install -q tensorflowjs\n",
        "!nvidia-smi"
      ],
      "execution_count": 1,
      "outputs": [
        {
          "output_type": "stream",
          "name": "stdout",
          "text": [
            "\u001b[?25l\r\u001b[K     |████▎                           | 10 kB 27.6 MB/s eta 0:00:01\r\u001b[K     |████████▌                       | 20 kB 18.7 MB/s eta 0:00:01\r\u001b[K     |████████████▊                   | 30 kB 15.7 MB/s eta 0:00:01\r\u001b[K     |█████████████████               | 40 kB 14.0 MB/s eta 0:00:01\r\u001b[K     |█████████████████████▏          | 51 kB 8.2 MB/s eta 0:00:01\r\u001b[K     |█████████████████████████▍      | 61 kB 8.2 MB/s eta 0:00:01\r\u001b[K     |█████████████████████████████▊  | 71 kB 8.9 MB/s eta 0:00:01\r\u001b[K     |████████████████████████████████| 77 kB 3.9 MB/s \n",
            "\u001b[?25hSat Jan 15 18:13:21 2022       \n",
            "+-----------------------------------------------------------------------------+\n",
            "| NVIDIA-SMI 495.46       Driver Version: 460.32.03    CUDA Version: 11.2     |\n",
            "|-------------------------------+----------------------+----------------------+\n",
            "| GPU  Name        Persistence-M| Bus-Id        Disp.A | Volatile Uncorr. ECC |\n",
            "| Fan  Temp  Perf  Pwr:Usage/Cap|         Memory-Usage | GPU-Util  Compute M. |\n",
            "|                               |                      |               MIG M. |\n",
            "|===============================+======================+======================|\n",
            "|   0  Tesla P100-PCIE...  Off  | 00000000:00:04.0 Off |                    0 |\n",
            "| N/A   42C    P0    27W / 250W |      0MiB / 16280MiB |      0%      Default |\n",
            "|                               |                      |                  N/A |\n",
            "+-------------------------------+----------------------+----------------------+\n",
            "                                                                               \n",
            "+-----------------------------------------------------------------------------+\n",
            "| Processes:                                                                  |\n",
            "|  GPU   GI   CI        PID   Type   Process name                  GPU Memory |\n",
            "|        ID   ID                                                   Usage      |\n",
            "|=============================================================================|\n",
            "|  No running processes found                                                 |\n",
            "+-----------------------------------------------------------------------------+\n"
          ]
        }
      ]
    },
    {
      "cell_type": "code",
      "metadata": {
        "id": "kN5GDHK6riEe"
      },
      "source": [
        "#@title Runtime\n",
        "use_tpu = False #@param\n"
      ],
      "execution_count": 2,
      "outputs": []
    },
    {
      "cell_type": "code",
      "metadata": {
        "id": "PW7wdIp7py9V"
      },
      "source": [
        "import matplotlib.pyplot as plt\n",
        "import matplotlib as mpl\n",
        "import numpy as np\n",
        "import os\n",
        "import tensorflow as tf\n",
        "import urllib\n",
        "from dataclasses import dataclass\n",
        "import tensorflowjs as tfjs\n",
        "import json\n",
        "np.random.seed(0)"
      ],
      "execution_count": 3,
      "outputs": []
    },
    {
      "cell_type": "code",
      "metadata": {
        "id": "-az13Rv1p6xr"
      },
      "source": [
        "urllib.request.urlretrieve(\n",
        "    \"https://github.com/ur-whitelab/peptide-dashboard/raw/master/ml/data/hemo-positive.npz\",\n",
        "    \"positive.npz\",\n",
        ")\n",
        "urllib.request.urlretrieve(\n",
        "    \"https://github.com/ur-whitelab/peptide-dashboard/raw/master/ml/data/hemo-negative.npz\",\n",
        "    \"negative.npz\",\n",
        ")\n",
        "with np.load(\"positive.npz\") as r:\n",
        "    pos_data = r[list(r.keys())[0]]\n",
        "with np.load(\"negative.npz\") as r:\n",
        "    neg_data = r[list(r.keys())[0]]\n",
        "\n",
        "# create labels and stich it all into one\n",
        "# tensor\n",
        "labels = np.concatenate(\n",
        "    (\n",
        "        np.ones((pos_data.shape[0], 1), dtype=pos_data.dtype),\n",
        "        np.zeros((neg_data.shape[0], 1), dtype=pos_data.dtype),\n",
        "    ),\n",
        "    axis=0,\n",
        ")\n",
        "\n",
        "features = np.concatenate((pos_data, neg_data), axis=0)"
      ],
      "execution_count": 9,
      "outputs": []
    },
    {
      "cell_type": "code",
      "source": [
        "print('Positive data', pos_data.shape[0])\n",
        "print('Negative data', neg_data.shape[0])"
      ],
      "metadata": {
        "colab": {
          "base_uri": "https://localhost:8080/"
        },
        "id": "i1e4uaGsuOmA",
        "outputId": "f0af540b-bc8c-4399-888b-4711a37883ce"
      },
      "execution_count": 10,
      "outputs": [
        {
          "output_type": "stream",
          "name": "stdout",
          "text": [
            "Positive data 1076\n",
            "Negative data 8240\n"
          ]
        }
      ]
    },
    {
      "cell_type": "code",
      "metadata": {
        "id": "4o1kwH0dy_xz"
      },
      "source": [
        "@dataclass\n",
        "class Config:\n",
        "    vocab_size: int\n",
        "    example_number: int\n",
        "    batch_size: int\n",
        "    buffer_size: int\n",
        "    rnn_units: int\n",
        "    hidden_dim: int\n",
        "    embedding_dim: int\n",
        "    reg_strength: float\n",
        "    lr: float\n",
        "    drop_rate: float\n",
        "        \n",
        "config = Config(vocab_size=21, # include gap\n",
        "                example_number=len(labels), \n",
        "                batch_size=16, \n",
        "                buffer_size=10000,\n",
        "                rnn_units=32,\n",
        "                hidden_dim=64,\n",
        "                embedding_dim=24,\n",
        "                reg_strength=0,\n",
        "                lr=1e-3,\n",
        "                drop_rate=0.1\n",
        "               )\n",
        "\n"
      ],
      "execution_count": 11,
      "outputs": []
    },
    {
      "cell_type": "code",
      "metadata": {
        "id": "pC9ee3SEqxqq"
      },
      "source": [
        "def build_model(L):\n",
        "    inputs = tf.keras.Input(shape=(L,))\n",
        "\n",
        "    # make embedding and indicate that 0 should be treated as padding mask\n",
        "    e = tf.keras.layers.Embedding(input_dim=config.vocab_size, \n",
        "                                        output_dim=config.embedding_dim,\n",
        "                                        mask_zero=True)(inputs)\n",
        "\n",
        "    counts = tf.keras.layers.GlobalAveragePooling1D()(e)\n",
        "\n",
        "\n",
        "    # RNN layer\n",
        "    x = tf.keras.layers.LSTM(config.rnn_units)(e)\n",
        "    x = tf.keras.layers.Concatenate()([x, counts])\n",
        "    x = tf.keras.layers.LayerNormalization()(x)\n",
        "    x = tf.keras.layers.Dropout(config.drop_rate)(x)\n",
        "    # a dense hidden layer\n",
        "    x = tf.keras.layers.Dense(\n",
        "        config.hidden_dim, \n",
        "        activation='relu', \n",
        "        kernel_regularizer=tf.keras.regularizers.l2(config.reg_strength))(x)\n",
        "    x = tf.keras.layers.LayerNormalization()(x)\n",
        "    x = tf.keras.layers.Dropout(config.drop_rate)(x)\n",
        "    x = tf.keras.layers.Dense(\n",
        "        config.hidden_dim // 4, \n",
        "        activation='relu', \n",
        "        kernel_regularizer=tf.keras.regularizers.l2(config.reg_strength))(x)\n",
        "    x = tf.keras.layers.LayerNormalization()(x)\n",
        "    x = tf.keras.layers.Dropout(config.drop_rate)(x)\n",
        "    # predicting prob, so no activation\n",
        "    yhat = tf.keras.layers.Dense(1)(x)\n",
        "\n",
        "    model = tf.keras.Model(inputs=inputs, outputs=yhat, name='sol-rnn')\n",
        "    return model\n",
        "\n",
        "def build_infer_model(L):\n",
        "    inputs = tf.keras.Input(shape=(L,))\n",
        "\n",
        "    # make embedding and indicate that 0 should be treated as padding mask\n",
        "    e = tf.keras.layers.Embedding(input_dim=config.vocab_size, \n",
        "                                        output_dim=config.embedding_dim,\n",
        "                                        mask_zero=True)(inputs)\n",
        "\n",
        "    counts = tf.keras.layers.GlobalAveragePooling1D()(e)\n",
        "\n",
        "\n",
        "    # RNN layer\n",
        "    x = tf.keras.layers.LSTM(config.rnn_units)(e)\n",
        "    x = tf.keras.layers.Concatenate()([x, counts])\n",
        "    x = tf.keras.layers.LayerNormalization()(x)\n",
        "    # a dense hidden layer\n",
        "    x = tf.keras.layers.Dense(\n",
        "        config.hidden_dim, \n",
        "        activation='relu')(x)\n",
        "    x = tf.keras.layers.LayerNormalization()(x)\n",
        "    x = tf.keras.layers.Dense(\n",
        "        config.hidden_dim // 4, \n",
        "        activation='relu')(x)\n",
        "    x = tf.keras.layers.LayerNormalization()(x)\n",
        "    # predicting prob, so no activation\n",
        "    yhat = tf.keras.layers.Dense(1, activation='sigmoid')(x)\n",
        "\n",
        "    model = tf.keras.Model(inputs=inputs, outputs=yhat, name='sol-rnn-infer')\n",
        "    return model"
      ],
      "execution_count": 12,
      "outputs": []
    },
    {
      "cell_type": "code",
      "metadata": {
        "id": "rg4sBeamoCOO"
      },
      "source": [
        "if use_tpu:\n",
        "  tf.keras.backend.clear_session()\n",
        "\n",
        "  resolver = tf.distribute.cluster_resolver.TPUClusterResolver('grpc://' + os.environ['COLAB_TPU_ADDR'])\n",
        "  tf.config.experimental_connect_to_cluster(resolver)\n",
        "\n",
        "  # This is the TPU initialization code that has to be at the beginning.\n",
        "  tf.tpu.experimental.initialize_tpu_system(resolver)\n",
        "  print(\"All devices: \", tf.config.list_logical_devices('TPU'))\n",
        "\n",
        "  strategy = tf.distribute.experimental.TPUStrategy(resolver)\n"
      ],
      "execution_count": 13,
      "outputs": []
    },
    {
      "cell_type": "code",
      "metadata": {
        "id": "dXB1MlmMqAHT"
      },
      "source": [
        "# we now need to shuffle before creating TF dataset\n",
        "# so that our train/test/val splits are random\n",
        "i = np.arange(len(labels))\n",
        "np.random.shuffle(i)\n",
        "labels = labels[i]\n",
        "features = features[i]\n",
        "data = tf.data.Dataset.from_tensor_slices((features, labels))\n",
        "# now split into val, test, train and batch\n",
        "N = len(data)  \n",
        "L = None#features[0].shape[-1]\n",
        "split = int(0.1 * N)\n",
        "test_data = data.take(split).batch(config.batch_size)\n",
        "nontest = data.skip(split)\n",
        "val_data, train_data = nontest.take(split).batch(config.batch_size), \\\n",
        "    nontest.skip(split).shuffle(config.buffer_size).batch(config.batch_size).prefetch(tf.data.experimental.AUTOTUNE)"
      ],
      "execution_count": 14,
      "outputs": []
    },
    {
      "cell_type": "code",
      "metadata": {
        "id": "W8WI1JiDy9J2"
      },
      "source": [
        "if use_tpu:\n",
        "  with strategy.scope():\n",
        "    model = build_model(L)\n",
        "else:\n",
        "  model = build_model(L)\n",
        "\n",
        "  decay_epochs = 50\n",
        "  decay_steps = N  // config.batch_size * decay_epochs\n",
        "  lr_decayed_fn = tf.keras.optimizers.schedules.CosineDecay(\n",
        "      config.lr, decay_steps, alpha=1e-3)\n",
        "  opt = tf.optimizers.Adam(lr_decayed_fn)\n",
        "  model.compile(\n",
        "      opt,\n",
        "      loss=tf.keras.losses.BinaryCrossentropy(from_logits=True),\n",
        "      steps_per_execution = 60 if use_tpu else None,\n",
        "      metrics=[tf.keras.metrics.AUC(from_logits=True), tf.keras.metrics.BinaryAccuracy(threshold=0)])"
      ],
      "execution_count": 15,
      "outputs": []
    },
    {
      "cell_type": "code",
      "source": [
        "model.summary()"
      ],
      "metadata": {
        "colab": {
          "base_uri": "https://localhost:8080/"
        },
        "id": "_M60Z2MiCmw9",
        "outputId": "bd45a767-6c95-4b7e-a91a-d9a29fa59443"
      },
      "execution_count": 16,
      "outputs": [
        {
          "output_type": "stream",
          "name": "stdout",
          "text": [
            "Model: \"sol-rnn\"\n",
            "__________________________________________________________________________________________________\n",
            " Layer (type)                   Output Shape         Param #     Connected to                     \n",
            "==================================================================================================\n",
            " input_1 (InputLayer)           [(None, None)]       0           []                               \n",
            "                                                                                                  \n",
            " embedding (Embedding)          (None, None, 24)     504         ['input_1[0][0]']                \n",
            "                                                                                                  \n",
            " lstm (LSTM)                    (None, 32)           7296        ['embedding[0][0]']              \n",
            "                                                                                                  \n",
            " global_average_pooling1d (Glob  (None, 24)          0           ['embedding[0][0]']              \n",
            " alAveragePooling1D)                                                                              \n",
            "                                                                                                  \n",
            " concatenate (Concatenate)      (None, 56)           0           ['lstm[0][0]',                   \n",
            "                                                                  'global_average_pooling1d[0][0]'\n",
            "                                                                 ]                                \n",
            "                                                                                                  \n",
            " layer_normalization (LayerNorm  (None, 56)          112         ['concatenate[0][0]']            \n",
            " alization)                                                                                       \n",
            "                                                                                                  \n",
            " dropout (Dropout)              (None, 56)           0           ['layer_normalization[0][0]']    \n",
            "                                                                                                  \n",
            " dense (Dense)                  (None, 64)           3648        ['dropout[0][0]']                \n",
            "                                                                                                  \n",
            " layer_normalization_1 (LayerNo  (None, 64)          128         ['dense[0][0]']                  \n",
            " rmalization)                                                                                     \n",
            "                                                                                                  \n",
            " dropout_1 (Dropout)            (None, 64)           0           ['layer_normalization_1[0][0]']  \n",
            "                                                                                                  \n",
            " dense_1 (Dense)                (None, 16)           1040        ['dropout_1[0][0]']              \n",
            "                                                                                                  \n",
            " layer_normalization_2 (LayerNo  (None, 16)          32          ['dense_1[0][0]']                \n",
            " rmalization)                                                                                     \n",
            "                                                                                                  \n",
            " dropout_2 (Dropout)            (None, 16)           0           ['layer_normalization_2[0][0]']  \n",
            "                                                                                                  \n",
            " dense_2 (Dense)                (None, 1)            17          ['dropout_2[0][0]']              \n",
            "                                                                                                  \n",
            "==================================================================================================\n",
            "Total params: 12,777\n",
            "Trainable params: 12,777\n",
            "Non-trainable params: 0\n",
            "__________________________________________________________________________________________________\n"
          ]
        }
      ]
    },
    {
      "cell_type": "code",
      "metadata": {
        "colab": {
          "base_uri": "https://localhost:8080/"
        },
        "id": "mVSlO4VizO-N",
        "outputId": "df60def3-94d5-45c1-a060-d03be14a792d"
      },
      "source": [
        "result = model.fit(\n",
        "    train_data, \n",
        "    validation_data=val_data, \n",
        "    callbacks=[tf.keras.callbacks.LambdaCallback(\n",
        "        on_epoch_begin=lambda epochs,logs: print('lr =',lr_decayed_fn(opt.iterations).numpy())\n",
        "        ),\n",
        "        tf.keras.callbacks.EarlyStopping(monitor='val_auc', mode='max', restore_best_weights=True, patience=5)],\n",
        "    epochs=150)\n",
        "\n"
      ],
      "execution_count": 17,
      "outputs": [
        {
          "output_type": "stream",
          "name": "stdout",
          "text": [
            "lr = 0.001\n",
            "Epoch 1/150\n",
            "466/466 [==============================] - 17s 17ms/step - loss: 0.3607 - auc: 0.5948 - binary_accuracy: 0.8822 - val_loss: 0.3686 - val_auc: 0.6441 - val_binary_accuracy: 0.8765\n",
            "lr = 0.000999368\n",
            "Epoch 2/150\n",
            "466/466 [==============================] - 6s 14ms/step - loss: 0.3400 - auc: 0.6665 - binary_accuracy: 0.8838 - val_loss: 0.3584 - val_auc: 0.6978 - val_binary_accuracy: 0.8765\n",
            "lr = 0.0009974737\n",
            "Epoch 3/150\n",
            "466/466 [==============================] - 6s 14ms/step - loss: 0.3333 - auc: 0.6868 - binary_accuracy: 0.8850 - val_loss: 0.3423 - val_auc: 0.7262 - val_binary_accuracy: 0.8765\n",
            "lr = 0.0009943218\n",
            "Epoch 4/150\n",
            "466/466 [==============================] - 6s 14ms/step - loss: 0.3265 - auc: 0.7063 - binary_accuracy: 0.8854 - val_loss: 0.3378 - val_auc: 0.7164 - val_binary_accuracy: 0.8765\n",
            "lr = 0.0009899203\n",
            "Epoch 5/150\n",
            "466/466 [==============================] - 6s 14ms/step - loss: 0.3212 - auc: 0.7222 - binary_accuracy: 0.8870 - val_loss: 0.3302 - val_auc: 0.7572 - val_binary_accuracy: 0.8776\n",
            "lr = 0.0009842805\n",
            "Epoch 6/150\n",
            "466/466 [==============================] - 6s 14ms/step - loss: 0.3173 - auc: 0.7325 - binary_accuracy: 0.8881 - val_loss: 0.3383 - val_auc: 0.7421 - val_binary_accuracy: 0.8765\n",
            "lr = 0.0009774164\n",
            "Epoch 7/150\n",
            "466/466 [==============================] - 7s 14ms/step - loss: 0.3070 - auc: 0.7583 - binary_accuracy: 0.8892 - val_loss: 0.3249 - val_auc: 0.7637 - val_binary_accuracy: 0.8765\n",
            "lr = 0.00096934556\n",
            "Epoch 8/150\n",
            "466/466 [==============================] - 7s 14ms/step - loss: 0.3094 - auc: 0.7512 - binary_accuracy: 0.8904 - val_loss: 0.3182 - val_auc: 0.7802 - val_binary_accuracy: 0.8808\n",
            "lr = 0.0009600883\n",
            "Epoch 9/150\n",
            "466/466 [==============================] - 6s 14ms/step - loss: 0.3051 - auc: 0.7598 - binary_accuracy: 0.8905 - val_loss: 0.3140 - val_auc: 0.7795 - val_binary_accuracy: 0.8808\n",
            "lr = 0.00094966806\n",
            "Epoch 10/150\n",
            "466/466 [==============================] - 7s 14ms/step - loss: 0.2986 - auc: 0.7765 - binary_accuracy: 0.8916 - val_loss: 0.3205 - val_auc: 0.7736 - val_binary_accuracy: 0.8786\n",
            "lr = 0.0009381113\n",
            "Epoch 11/150\n",
            "466/466 [==============================] - 6s 14ms/step - loss: 0.2970 - auc: 0.7834 - binary_accuracy: 0.8905 - val_loss: 0.3021 - val_auc: 0.8011 - val_binary_accuracy: 0.8851\n",
            "lr = 0.00092544715\n",
            "Epoch 12/150\n",
            "466/466 [==============================] - 6s 14ms/step - loss: 0.2930 - auc: 0.7921 - binary_accuracy: 0.8919 - val_loss: 0.3188 - val_auc: 0.7714 - val_binary_accuracy: 0.8829\n",
            "lr = 0.00091170776\n",
            "Epoch 13/150\n",
            "466/466 [==============================] - 6s 14ms/step - loss: 0.2919 - auc: 0.7978 - binary_accuracy: 0.8892 - val_loss: 0.3056 - val_auc: 0.7971 - val_binary_accuracy: 0.8840\n",
            "lr = 0.0008969277\n",
            "Epoch 14/150\n",
            "466/466 [==============================] - 6s 14ms/step - loss: 0.2886 - auc: 0.8027 - binary_accuracy: 0.8928 - val_loss: 0.3183 - val_auc: 0.7841 - val_binary_accuracy: 0.8754\n",
            "lr = 0.0008811446\n",
            "Epoch 15/150\n",
            "466/466 [==============================] - 6s 14ms/step - loss: 0.2836 - auc: 0.8125 - binary_accuracy: 0.8950 - val_loss: 0.3100 - val_auc: 0.7865 - val_binary_accuracy: 0.8829\n",
            "lr = 0.00086439826\n",
            "Epoch 16/150\n",
            "466/466 [==============================] - 6s 14ms/step - loss: 0.2819 - auc: 0.8160 - binary_accuracy: 0.8928 - val_loss: 0.3061 - val_auc: 0.7953 - val_binary_accuracy: 0.8851\n"
          ]
        }
      ]
    },
    {
      "cell_type": "code",
      "metadata": {
        "colab": {
          "base_uri": "https://localhost:8080/",
          "height": 284
        },
        "id": "8p0C2kHV2vrW",
        "outputId": "a002ae46-90a7-42e9-f9f6-3327b7c1b0fc"
      },
      "source": [
        "plt.plot(result.history['val_binary_accuracy'])\n",
        "test_result = model.evaluate(test_data)\n",
        "plt.show()"
      ],
      "execution_count": 18,
      "outputs": [
        {
          "output_type": "stream",
          "name": "stdout",
          "text": [
            "59/59 [==============================] - 0s 6ms/step - loss: 0.2911 - auc: 0.7823 - binary_accuracy: 0.8958\n"
          ]
        },
        {
          "output_type": "display_data",
          "data": {
            "image/png": "[encoded data removed]",
            "text/plain": [
              "<Figure size 432x288 with 1 Axes>"
            ]
          },
          "metadata": {
            "needs_background": "light"
          }
        }
      ]
    },
    {
      "cell_type": "code",
      "source": [
        "inference_model = build_infer_model(L)\n",
        "\n",
        "inference_model.set_weights(model.get_weights())"
      ],
      "metadata": {
        "id": "rOfgoKtsU1K-"
      },
      "execution_count": 19,
      "outputs": []
    },
    {
      "cell_type": "code",
      "metadata": {
        "id": "vm_yXNslzRGu",
        "colab": {
          "base_uri": "https://localhost:8080/"
        },
        "outputId": "817ef777-5cbe-479b-fa5f-01469de75b1f"
      },
      "source": [
        "inference_model(np.array([1,1,1,1]).reshape(1,-1))"
      ],
      "execution_count": 20,
      "outputs": [
        {
          "output_type": "execute_result",
          "data": {
            "text/plain": [
              "<tf.Tensor: shape=(1, 1), dtype=float32, numpy=array([[0.04189374]], dtype=float32)>"
            ]
          },
          "metadata": {},
          "execution_count": 20
        }
      ]
    },
    {
      "cell_type": "code",
      "metadata": {
        "id": "aDvdjpMmz7UA",
        "colab": {
          "base_uri": "https://localhost:8080/"
        },
        "outputId": "7df23e2a-977a-48cc-c805-718a011a41d9"
      },
      "source": [
        "tfjs.converters.save_keras_model(inference_model, \"tfjs_model\")"
      ],
      "execution_count": 21,
      "outputs": [
        {
          "output_type": "stream",
          "name": "stdout",
          "text": [
            "WARNING:tensorflow:Compiled the loaded model, but the compiled metrics have yet to be built. `model.compile_metrics` will be empty until you train or evaluate the model.\n"
          ]
        }
      ]
    },
    {
      "cell_type": "markdown",
      "source": [
        "# Model Card"
      ],
      "metadata": {
        "id": "bCdM_rbZfmDQ"
      }
    },
    {
      "cell_type": "code",
      "source": [
        "model_card = {\n",
        "    'title': 'Hemolytic Prediction',\n",
        "    'details': 'Recurrent (LSTM) neural network for predicting if a peptide is hemolytic. Developed by Andrew White using data from The Database of Antimicrobial Activity and Structure of Peptides (DBAASP). '\n",
        "    'The activity cutoff from dose response curves is 25 micrograms / ml. A positive prediction means the peptide is predicted to have hemolytic activity below that cutoff.',\n",
        "    'use': 'Peptides between 2 and 190 residues',\n",
        "    'factors': 'Dataset was from sequences thought to be antimicrobial or clinically relevant',\n",
        "    'metrics': f'Test accuracy {test_result[2]:.2f}. Test AUC {test_result[1]:.2f}',\n",
        "    'evaluation': 'Withheld positive and negative examples',\n",
        "    'training': f'{len(pos_data) + len(neg_data)} positive and negative sequences',\n",
        "    'caveats': 'The sequences tested were typically from biological sources and were chosen because they are thought to be antimicrobial or biologically active.',\n",
        "    'ethics': 'These predictions are not a substitute for labratory experiments.'\n",
        "}\n",
        "with open('card.json', 'w') as f:\n",
        "  json.dump(model_card, f)\n",
        "print(json.dumps(model_card, indent=True))"
      ],
      "metadata": {
        "id": "8x0RLsUSfmdR",
        "colab": {
          "base_uri": "https://localhost:8080/"
        },
        "outputId": "e95adbb7-e272-4df5-e7f6-8f926fbed0cf"
      },
      "execution_count": 24,
      "outputs": [
        {
          "output_type": "stream",
          "name": "stdout",
          "text": [
            "{\n",
            " \"title\": \"Hemolytic Prediction\",\n",
            " \"details\": \"Recurrent (LSTM) neural network for predicting if a peptide is hemolytic. Developed by Andrew White using data from The Database of Antimicrobial Activity and Structure of Peptides (DBAASP). The activity cutoff from dose response curves is 25 micrograms / ml. A positive prediction means the peptide is predicted to have hemolytic activity below that cutoff.\",\n",
            " \"use\": \"Peptides between 2 and 190 residues\",\n",
            " \"factors\": \"Dataset was from sequences thought to be antimicrobial or clinically relevant\",\n",
            " \"metrics\": \"Test accuracy 0.90. Test AUC 0.78\",\n",
            " \"evaluation\": \"Withheld positive and negative examples\",\n",
            " \"training\": \"9316 positive and negative sequences\",\n",
            " \"caveats\": \"The sequences tested were typically from biological sources and were chosen because they are thought to be antimicrobial or biologically active.\",\n",
            " \"ethics\": \"These predictions are not a substitute for labratory experiments.\"\n",
            "}\n"
          ]
        }
      ]
    },
    {
      "cell_type": "code",
      "source": [
        ""
      ],
      "metadata": {
        "id": "aoHcmKk-9vSl"
      },
      "execution_count": null,
      "outputs": []
    }
  ]
}