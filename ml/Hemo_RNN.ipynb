{
  "nbformat": 4,
  "nbformat_minor": 0,
  "metadata": {
    "colab": {
      "name": "Hemo-RNN",
      "provenance": [],
      "collapsed_sections": []
    },
    "kernelspec": {
      "name": "python3",
      "display_name": "Python 3"
    },
    "language_info": {
      "name": "python"
    },
    "accelerator": "GPU"
  },
  "cells": [
    {
      "cell_type": "code",
      "metadata": {
        "colab": {
          "base_uri": "https://localhost:8080/"
        },
        "id": "FLdQgeg6ruk5",
        "outputId": "b4990163-2303-4612-f7c4-15b0d492f02c"
      },
      "source": [
        "!pip install -q tensorflowjs\n",
        "!nvidia-smi"
      ],
      "execution_count": null,
      "outputs": [
        {
          "output_type": "stream",
          "name": "stdout",
          "text": [
            "\u001b[?25l\r\u001b[K     |████▎                           | 10 kB 31.1 MB/s eta 0:00:01\r\u001b[K     |████████▌                       | 20 kB 26.3 MB/s eta 0:00:01\r\u001b[K     |████████████▊                   | 30 kB 18.7 MB/s eta 0:00:01\r\u001b[K     |█████████████████               | 40 kB 16.0 MB/s eta 0:00:01\r\u001b[K     |█████████████████████▏          | 51 kB 8.7 MB/s eta 0:00:01\r\u001b[K     |█████████████████████████▍      | 61 kB 10.1 MB/s eta 0:00:01\r\u001b[K     |█████████████████████████████▊  | 71 kB 10.0 MB/s eta 0:00:01\r\u001b[K     |████████████████████████████████| 77 kB 3.9 MB/s \n",
            "\u001b[?25hSun Jan 16 14:51:06 2022       \n",
            "+-----------------------------------------------------------------------------+\n",
            "| NVIDIA-SMI 495.46       Driver Version: 460.32.03    CUDA Version: 11.2     |\n",
            "|-------------------------------+----------------------+----------------------+\n",
            "| GPU  Name        Persistence-M| Bus-Id        Disp.A | Volatile Uncorr. ECC |\n",
            "| Fan  Temp  Perf  Pwr:Usage/Cap|         Memory-Usage | GPU-Util  Compute M. |\n",
            "|                               |                      |               MIG M. |\n",
            "|===============================+======================+======================|\n",
            "|   0  Tesla P100-PCIE...  Off  | 00000000:00:04.0 Off |                    0 |\n",
            "| N/A   37C    P0    25W / 250W |      0MiB / 16280MiB |      0%      Default |\n",
            "|                               |                      |                  N/A |\n",
            "+-------------------------------+----------------------+----------------------+\n",
            "                                                                               \n",
            "+-----------------------------------------------------------------------------+\n",
            "| Processes:                                                                  |\n",
            "|  GPU   GI   CI        PID   Type   Process name                  GPU Memory |\n",
            "|        ID   ID                                                   Usage      |\n",
            "|=============================================================================|\n",
            "|  No running processes found                                                 |\n",
            "+-----------------------------------------------------------------------------+\n"
          ]
        }
      ]
    },
    {
      "cell_type": "code",
      "metadata": {
        "id": "kN5GDHK6riEe"
      },
      "source": [
        "#@title Runtime\n",
        "use_tpu = False #@param\n"
      ],
      "execution_count": null,
      "outputs": []
    },
    {
      "cell_type": "code",
      "metadata": {
        "id": "PW7wdIp7py9V"
      },
      "source": [
        "import matplotlib.pyplot as plt\n",
        "import matplotlib as mpl\n",
        "import numpy as np\n",
        "import os\n",
        "import tensorflow as tf\n",
        "import urllib\n",
        "from dataclasses import dataclass\n",
        "import tensorflowjs as tfjs\n",
        "import json\n",
        "np.random.seed(0)"
      ],
      "execution_count": null,
      "outputs": []
    },
    {
      "cell_type": "code",
      "metadata": {
        "id": "-az13Rv1p6xr"
      },
      "source": [
        "urllib.request.urlretrieve(\n",
        "    \"https://github.com/ur-whitelab/peptide-dashboard/raw/master/ml/data/hemo-positive.npz\",\n",
        "    \"positive.npz\",\n",
        ")\n",
        "urllib.request.urlretrieve(\n",
        "    \"https://github.com/ur-whitelab/peptide-dashboard/raw/master/ml/data/hemo-negative.npz\",\n",
        "    \"negative.npz\",\n",
        ")\n",
        "with np.load(\"positive.npz\") as r:\n",
        "    pos_data = r[list(r.keys())[0]]\n",
        "with np.load(\"negative.npz\") as r:\n",
        "    neg_data = r[list(r.keys())[0]]\n",
        "\n",
        "# create labels and stich it all into one\n",
        "# tensor\n",
        "labels = np.concatenate(\n",
        "    (\n",
        "        np.ones((pos_data.shape[0], 1), dtype=pos_data.dtype),\n",
        "        np.zeros((neg_data.shape[0], 1), dtype=pos_data.dtype),\n",
        "    ),\n",
        "    axis=0,\n",
        ")\n",
        "\n",
        "features = np.concatenate((pos_data, neg_data), axis=0)"
      ],
      "execution_count": null,
      "outputs": []
    },
    {
      "cell_type": "code",
      "source": [
        "print('Positive data', pos_data.shape[0])\n",
        "print('Negative data', neg_data.shape[0])"
      ],
      "metadata": {
        "colab": {
          "base_uri": "https://localhost:8080/"
        },
        "id": "i1e4uaGsuOmA",
        "outputId": "19e8352c-4e5b-4f86-aa6d-d34f3468f22b"
      },
      "execution_count": null,
      "outputs": [
        {
          "output_type": "stream",
          "name": "stdout",
          "text": [
            "Positive data 1826\n",
            "Negative data 7490\n"
          ]
        }
      ]
    },
    {
      "cell_type": "code",
      "metadata": {
        "id": "4o1kwH0dy_xz"
      },
      "source": [
        "@dataclass\n",
        "class Config:\n",
        "    vocab_size: int\n",
        "    example_number: int\n",
        "    batch_size: int\n",
        "    buffer_size: int\n",
        "    rnn_units: int\n",
        "    hidden_dim: int\n",
        "    embedding_dim: int\n",
        "    reg_strength: float\n",
        "    lr: float\n",
        "    drop_rate: float\n",
        "        \n",
        "config = Config(vocab_size=21, # include gap\n",
        "                example_number=len(labels), \n",
        "                batch_size=16, \n",
        "                buffer_size=10000,\n",
        "                rnn_units=64,\n",
        "                hidden_dim=64,\n",
        "                embedding_dim=32,\n",
        "                reg_strength=0,\n",
        "                lr=1e-3,\n",
        "                drop_rate=0.1\n",
        "               )\n",
        "\n"
      ],
      "execution_count": null,
      "outputs": []
    },
    {
      "cell_type": "code",
      "metadata": {
        "id": "pC9ee3SEqxqq"
      },
      "source": [
        "def build_model(L):\n",
        "    inputs = tf.keras.Input(shape=(L,))\n",
        "\n",
        "    # make embedding and indicate that 0 should be treated as padding mask\n",
        "    e = tf.keras.layers.Embedding(input_dim=config.vocab_size, \n",
        "                                        output_dim=config.embedding_dim,\n",
        "                                        mask_zero=True)(inputs)\n",
        "\n",
        "    counts = tf.keras.layers.GlobalAveragePooling1D()(e)\n",
        "\n",
        "\n",
        "    # RNN layer\n",
        "    x = tf.keras.layers.Bidirectional(tf.keras.layers.LSTM(config.rnn_units, return_sequences=True))(e)\n",
        "    x = tf.keras.layers.Bidirectional(tf.keras.layers.LSTM(config.rnn_units))(e)\n",
        "    x = tf.keras.layers.Concatenate()([x, counts])\n",
        "    x = tf.keras.layers.LayerNormalization()(x)\n",
        "    x = tf.keras.layers.Dropout(config.drop_rate)(x)\n",
        "    # a dense hidden layer\n",
        "    x = tf.keras.layers.Dense(\n",
        "        config.hidden_dim, \n",
        "        activation='relu', \n",
        "        kernel_regularizer=tf.keras.regularizers.l2(config.reg_strength))(x)\n",
        "    x = tf.keras.layers.LayerNormalization()(x)\n",
        "    x = tf.keras.layers.Dropout(config.drop_rate)(x)\n",
        "    x = tf.keras.layers.Dense(\n",
        "        config.hidden_dim // 4, \n",
        "        activation='relu', \n",
        "        kernel_regularizer=tf.keras.regularizers.l2(config.reg_strength))(x)\n",
        "    x = tf.keras.layers.LayerNormalization()(x)\n",
        "    x = tf.keras.layers.Dropout(config.drop_rate)(x)\n",
        "    # predicting prob, so no activation\n",
        "    yhat = tf.keras.layers.Dense(1)(x)\n",
        "\n",
        "    model = tf.keras.Model(inputs=inputs, outputs=yhat, name='sol-rnn')\n",
        "    return model\n",
        "\n",
        "def build_infer_model(L):\n",
        "    inputs = tf.keras.Input(shape=(L,))\n",
        "\n",
        "    # make embedding and indicate that 0 should be treated as padding mask\n",
        "    e = tf.keras.layers.Embedding(input_dim=config.vocab_size, \n",
        "                                        output_dim=config.embedding_dim,\n",
        "                                        mask_zero=True)(inputs)\n",
        "\n",
        "    counts = tf.keras.layers.GlobalAveragePooling1D()(e)\n",
        "\n",
        "\n",
        "    # RNN layer\n",
        "    x = tf.keras.layers.Bidirectional(tf.keras.layers.LSTM(config.rnn_units, return_sequences=True))(e)\n",
        "    x = tf.keras.layers.Bidirectional(tf.keras.layers.LSTM(config.rnn_units))(e)\n",
        "    x = tf.keras.layers.Concatenate()([x, counts])\n",
        "    x = tf.keras.layers.LayerNormalization()(x)\n",
        "    # a dense hidden layer\n",
        "    x = tf.keras.layers.Dense(\n",
        "        config.hidden_dim, \n",
        "        activation='relu')(x)\n",
        "    x = tf.keras.layers.LayerNormalization()(x)\n",
        "    x = tf.keras.layers.Dense(\n",
        "        config.hidden_dim // 4, \n",
        "        activation='relu')(x)\n",
        "    x = tf.keras.layers.LayerNormalization()(x)\n",
        "    # predicting prob, so no activation\n",
        "    yhat = tf.keras.layers.Dense(1, activation='sigmoid')(x)\n",
        "\n",
        "    model = tf.keras.Model(inputs=inputs, outputs=yhat, name='sol-rnn-infer')\n",
        "    return model"
      ],
      "execution_count": null,
      "outputs": []
    },
    {
      "cell_type": "code",
      "metadata": {
        "id": "rg4sBeamoCOO"
      },
      "source": [
        "if use_tpu:\n",
        "  tf.keras.backend.clear_session()\n",
        "\n",
        "  resolver = tf.distribute.cluster_resolver.TPUClusterResolver('grpc://' + os.environ['COLAB_TPU_ADDR'])\n",
        "  tf.config.experimental_connect_to_cluster(resolver)\n",
        "\n",
        "  # This is the TPU initialization code that has to be at the beginning.\n",
        "  tf.tpu.experimental.initialize_tpu_system(resolver)\n",
        "  print(\"All devices: \", tf.config.list_logical_devices('TPU'))\n",
        "\n",
        "  strategy = tf.distribute.experimental.TPUStrategy(resolver)\n"
      ],
      "execution_count": null,
      "outputs": []
    },
    {
      "cell_type": "code",
      "metadata": {
        "id": "dXB1MlmMqAHT"
      },
      "source": [
        "# we now need to shuffle before creating TF dataset\n",
        "# so that our train/test/val splits are random\n",
        "i = np.arange(len(labels))\n",
        "np.random.shuffle(i)\n",
        "labels = labels[i]\n",
        "features = features[i]\n",
        "data = tf.data.Dataset.from_tensor_slices((features, labels))\n",
        "# now split into val, test, train and batch\n",
        "N = len(data)  \n",
        "L = None#features[0].shape[-1]\n",
        "split = int(0.1 * N)\n",
        "test_data = data.take(split).batch(config.batch_size)\n",
        "nontest = data.skip(split)\n",
        "val_data, train_data = nontest.take(split).batch(config.batch_size), \\\n",
        "    nontest.skip(split).shuffle(config.buffer_size).batch(config.batch_size).prefetch(tf.data.experimental.AUTOTUNE)"
      ],
      "execution_count": null,
      "outputs": []
    },
    {
      "cell_type": "code",
      "metadata": {
        "id": "W8WI1JiDy9J2"
      },
      "source": [
        "if use_tpu:\n",
        "  with strategy.scope():\n",
        "    model = build_model(L)\n",
        "else:\n",
        "  model = build_model(L)\n",
        "\n",
        "  decay_epochs = 50\n",
        "  decay_steps = N  // config.batch_size * decay_epochs\n",
        "  lr_decayed_fn = tf.keras.optimizers.schedules.CosineDecay(\n",
        "      config.lr, decay_steps, alpha=1e-3)\n",
        "  opt = tf.optimizers.Adam(lr_decayed_fn)\n",
        "  model.compile(\n",
        "      opt,\n",
        "      loss=tf.keras.losses.BinaryCrossentropy(from_logits=True),\n",
        "      steps_per_execution = 60 if use_tpu else None,\n",
        "      metrics=[tf.keras.metrics.AUC(from_logits=True), tf.keras.metrics.BinaryAccuracy(threshold=0)])"
      ],
      "execution_count": null,
      "outputs": []
    },
    {
      "cell_type": "code",
      "source": [
        "model.summary()"
      ],
      "metadata": {
        "colab": {
          "base_uri": "https://localhost:8080/"
        },
        "id": "_M60Z2MiCmw9",
        "outputId": "7f4bf509-2595-48d8-9fc5-2991462d2ced"
      },
      "execution_count": null,
      "outputs": [
        {
          "output_type": "stream",
          "name": "stdout",
          "text": [
            "Model: \"sol-rnn\"\n",
            "__________________________________________________________________________________________________\n",
            " Layer (type)                   Output Shape         Param #     Connected to                     \n",
            "==================================================================================================\n",
            " input_1 (InputLayer)           [(None, None)]       0           []                               \n",
            "                                                                                                  \n",
            " embedding (Embedding)          (None, None, 32)     672         ['input_1[0][0]']                \n",
            "                                                                                                  \n",
            " bidirectional_1 (Bidirectional  (None, 128)         49664       ['embedding[0][0]']              \n",
            " )                                                                                                \n",
            "                                                                                                  \n",
            " global_average_pooling1d (Glob  (None, 32)          0           ['embedding[0][0]']              \n",
            " alAveragePooling1D)                                                                              \n",
            "                                                                                                  \n",
            " concatenate (Concatenate)      (None, 160)          0           ['bidirectional_1[0][0]',        \n",
            "                                                                  'global_average_pooling1d[0][0]'\n",
            "                                                                 ]                                \n",
            "                                                                                                  \n",
            " layer_normalization (LayerNorm  (None, 160)         320         ['concatenate[0][0]']            \n",
            " alization)                                                                                       \n",
            "                                                                                                  \n",
            " dropout (Dropout)              (None, 160)          0           ['layer_normalization[0][0]']    \n",
            "                                                                                                  \n",
            " dense (Dense)                  (None, 64)           10304       ['dropout[0][0]']                \n",
            "                                                                                                  \n",
            " layer_normalization_1 (LayerNo  (None, 64)          128         ['dense[0][0]']                  \n",
            " rmalization)                                                                                     \n",
            "                                                                                                  \n",
            " dropout_1 (Dropout)            (None, 64)           0           ['layer_normalization_1[0][0]']  \n",
            "                                                                                                  \n",
            " dense_1 (Dense)                (None, 16)           1040        ['dropout_1[0][0]']              \n",
            "                                                                                                  \n",
            " layer_normalization_2 (LayerNo  (None, 16)          32          ['dense_1[0][0]']                \n",
            " rmalization)                                                                                     \n",
            "                                                                                                  \n",
            " dropout_2 (Dropout)            (None, 16)           0           ['layer_normalization_2[0][0]']  \n",
            "                                                                                                  \n",
            " dense_2 (Dense)                (None, 1)            17          ['dropout_2[0][0]']              \n",
            "                                                                                                  \n",
            "==================================================================================================\n",
            "Total params: 62,177\n",
            "Trainable params: 62,177\n",
            "Non-trainable params: 0\n",
            "__________________________________________________________________________________________________\n"
          ]
        }
      ]
    },
    {
      "cell_type": "code",
      "metadata": {
        "colab": {
          "base_uri": "https://localhost:8080/"
        },
        "id": "mVSlO4VizO-N",
        "outputId": "93e9c2db-a4e6-4a57-88ea-58b49168917d"
      },
      "source": [
        "result = model.fit(\n",
        "    train_data, \n",
        "    validation_data=val_data, \n",
        "    callbacks=[tf.keras.callbacks.LambdaCallback(\n",
        "        on_epoch_begin=lambda epochs,logs: print('lr =',lr_decayed_fn(opt.iterations).numpy())\n",
        "        ),\n",
        "        tf.keras.callbacks.EarlyStopping(monitor='val_auc', mode='max', restore_best_weights=True, patience=10)],\n",
        "    epochs=150)\n",
        "\n"
      ],
      "execution_count": null,
      "outputs": [
        {
          "output_type": "stream",
          "name": "stdout",
          "text": [
            "lr = 0.001\n",
            "Epoch 1/150\n",
            "466/466 [==============================] - 20s 21ms/step - loss: 0.4923 - auc: 0.6157 - binary_accuracy: 0.7980 - val_loss: 0.4729 - val_auc: 0.6696 - val_binary_accuracy: 0.7991\n",
            "lr = 0.000999368\n",
            "Epoch 2/150\n",
            "466/466 [==============================] - 7s 16ms/step - loss: 0.4602 - auc: 0.6921 - binary_accuracy: 0.8005 - val_loss: 0.4626 - val_auc: 0.7216 - val_binary_accuracy: 0.8002\n",
            "lr = 0.0009974737\n",
            "Epoch 3/150\n",
            "466/466 [==============================] - 7s 15ms/step - loss: 0.4464 - auc: 0.7225 - binary_accuracy: 0.8014 - val_loss: 0.4542 - val_auc: 0.7219 - val_binary_accuracy: 0.8013\n",
            "lr = 0.0009943218\n",
            "Epoch 4/150\n",
            "466/466 [==============================] - 7s 15ms/step - loss: 0.4393 - auc: 0.7359 - binary_accuracy: 0.8071 - val_loss: 0.4375 - val_auc: 0.7516 - val_binary_accuracy: 0.8045\n",
            "lr = 0.0009899203\n",
            "Epoch 5/150\n",
            "466/466 [==============================] - 7s 16ms/step - loss: 0.4329 - auc: 0.7481 - binary_accuracy: 0.8056 - val_loss: 0.4372 - val_auc: 0.7509 - val_binary_accuracy: 0.8045\n",
            "lr = 0.0009842805\n",
            "Epoch 6/150\n",
            "466/466 [==============================] - 7s 15ms/step - loss: 0.4224 - auc: 0.7649 - binary_accuracy: 0.8116 - val_loss: 0.4288 - val_auc: 0.7583 - val_binary_accuracy: 0.8131\n",
            "lr = 0.0009774164\n",
            "Epoch 7/150\n",
            "466/466 [==============================] - 7s 15ms/step - loss: 0.4207 - auc: 0.7681 - binary_accuracy: 0.8075 - val_loss: 0.4301 - val_auc: 0.7604 - val_binary_accuracy: 0.8024\n",
            "lr = 0.00096934556\n",
            "Epoch 8/150\n",
            "466/466 [==============================] - 7s 15ms/step - loss: 0.4160 - auc: 0.7758 - binary_accuracy: 0.8082 - val_loss: 0.4446 - val_auc: 0.7570 - val_binary_accuracy: 0.8045\n",
            "lr = 0.0009600883\n",
            "Epoch 9/150\n",
            "466/466 [==============================] - 7s 14ms/step - loss: 0.4101 - auc: 0.7830 - binary_accuracy: 0.8133 - val_loss: 0.4314 - val_auc: 0.7604 - val_binary_accuracy: 0.8013\n",
            "lr = 0.00094966806\n",
            "Epoch 10/150\n",
            "466/466 [==============================] - 7s 14ms/step - loss: 0.4047 - auc: 0.7919 - binary_accuracy: 0.8149 - val_loss: 0.4226 - val_auc: 0.7762 - val_binary_accuracy: 0.8099\n",
            "lr = 0.0009381113\n",
            "Epoch 11/150\n",
            "466/466 [==============================] - 7s 14ms/step - loss: 0.4026 - auc: 0.7950 - binary_accuracy: 0.8186 - val_loss: 0.4276 - val_auc: 0.7634 - val_binary_accuracy: 0.8088\n",
            "lr = 0.00092544715\n",
            "Epoch 12/150\n",
            "466/466 [==============================] - 7s 14ms/step - loss: 0.3924 - auc: 0.8091 - binary_accuracy: 0.8229 - val_loss: 0.4216 - val_auc: 0.7872 - val_binary_accuracy: 0.8131\n",
            "lr = 0.00091170776\n",
            "Epoch 13/150\n",
            "466/466 [==============================] - 7s 14ms/step - loss: 0.3905 - auc: 0.8104 - binary_accuracy: 0.8235 - val_loss: 0.4068 - val_auc: 0.7936 - val_binary_accuracy: 0.8131\n",
            "lr = 0.0008969277\n",
            "Epoch 14/150\n",
            "466/466 [==============================] - 7s 14ms/step - loss: 0.3826 - auc: 0.8212 - binary_accuracy: 0.8281 - val_loss: 0.4177 - val_auc: 0.7802 - val_binary_accuracy: 0.8185\n",
            "lr = 0.0008811446\n",
            "Epoch 15/150\n",
            "466/466 [==============================] - 7s 15ms/step - loss: 0.3799 - auc: 0.8246 - binary_accuracy: 0.8237 - val_loss: 0.4129 - val_auc: 0.7882 - val_binary_accuracy: 0.8163\n",
            "lr = 0.00086439826\n",
            "Epoch 16/150\n",
            "466/466 [==============================] - 7s 14ms/step - loss: 0.3709 - auc: 0.8354 - binary_accuracy: 0.8330 - val_loss: 0.4174 - val_auc: 0.7839 - val_binary_accuracy: 0.8088\n",
            "lr = 0.00084673124\n",
            "Epoch 17/150\n",
            "466/466 [==============================] - 7s 14ms/step - loss: 0.3667 - auc: 0.8390 - binary_accuracy: 0.8366 - val_loss: 0.4065 - val_auc: 0.7941 - val_binary_accuracy: 0.8195\n",
            "lr = 0.0008281879\n",
            "Epoch 18/150\n",
            "466/466 [==============================] - 7s 14ms/step - loss: 0.3626 - auc: 0.8446 - binary_accuracy: 0.8336 - val_loss: 0.4100 - val_auc: 0.7953 - val_binary_accuracy: 0.8185\n",
            "lr = 0.00080881553\n",
            "Epoch 19/150\n",
            "466/466 [==============================] - 7s 14ms/step - loss: 0.3567 - auc: 0.8506 - binary_accuracy: 0.8373 - val_loss: 0.4057 - val_auc: 0.8035 - val_binary_accuracy: 0.8271\n",
            "lr = 0.0007886629\n",
            "Epoch 20/150\n",
            "466/466 [==============================] - 7s 14ms/step - loss: 0.3490 - auc: 0.8578 - binary_accuracy: 0.8412 - val_loss: 0.4073 - val_auc: 0.8037 - val_binary_accuracy: 0.8260\n",
            "lr = 0.00076778117\n",
            "Epoch 21/150\n",
            "466/466 [==============================] - 7s 14ms/step - loss: 0.3430 - auc: 0.8644 - binary_accuracy: 0.8421 - val_loss: 0.4000 - val_auc: 0.8067 - val_binary_accuracy: 0.8292\n",
            "lr = 0.0007462231\n",
            "Epoch 22/150\n",
            "466/466 [==============================] - 7s 14ms/step - loss: 0.3353 - auc: 0.8720 - binary_accuracy: 0.8438 - val_loss: 0.4066 - val_auc: 0.8028 - val_binary_accuracy: 0.8185\n",
            "lr = 0.0007240432\n",
            "Epoch 23/150\n",
            "466/466 [==============================] - 7s 14ms/step - loss: 0.3306 - auc: 0.8754 - binary_accuracy: 0.8500 - val_loss: 0.3879 - val_auc: 0.8193 - val_binary_accuracy: 0.8400\n",
            "lr = 0.0007012976\n",
            "Epoch 24/150\n",
            "466/466 [==============================] - 7s 14ms/step - loss: 0.3275 - auc: 0.8790 - binary_accuracy: 0.8515 - val_loss: 0.4076 - val_auc: 0.8044 - val_binary_accuracy: 0.8195\n",
            "lr = 0.000678044\n",
            "Epoch 25/150\n",
            "466/466 [==============================] - 7s 15ms/step - loss: 0.3204 - auc: 0.8843 - binary_accuracy: 0.8558 - val_loss: 0.3985 - val_auc: 0.8170 - val_binary_accuracy: 0.8271\n",
            "lr = 0.000654341\n",
            "Epoch 26/150\n",
            "466/466 [==============================] - 7s 14ms/step - loss: 0.3130 - auc: 0.8908 - binary_accuracy: 0.8547 - val_loss: 0.4143 - val_auc: 0.8112 - val_binary_accuracy: 0.8281\n",
            "lr = 0.00063024886\n",
            "Epoch 27/150\n",
            "466/466 [==============================] - 7s 14ms/step - loss: 0.3087 - auc: 0.8950 - binary_accuracy: 0.8526 - val_loss: 0.4066 - val_auc: 0.8123 - val_binary_accuracy: 0.8292\n",
            "lr = 0.0006058283\n",
            "Epoch 28/150\n",
            "466/466 [==============================] - 7s 14ms/step - loss: 0.3057 - auc: 0.8965 - binary_accuracy: 0.8586 - val_loss: 0.3952 - val_auc: 0.8238 - val_binary_accuracy: 0.8335\n",
            "lr = 0.00058114127\n",
            "Epoch 29/150\n",
            "466/466 [==============================] - 7s 14ms/step - loss: 0.2994 - auc: 0.9014 - binary_accuracy: 0.8645 - val_loss: 0.4081 - val_auc: 0.8156 - val_binary_accuracy: 0.8153\n",
            "lr = 0.00055625016\n",
            "Epoch 30/150\n",
            "466/466 [==============================] - 7s 14ms/step - loss: 0.2924 - auc: 0.9069 - binary_accuracy: 0.8636 - val_loss: 0.4066 - val_auc: 0.8185 - val_binary_accuracy: 0.8346\n",
            "lr = 0.0005312181\n",
            "Epoch 31/150\n",
            "466/466 [==============================] - 7s 14ms/step - loss: 0.2913 - auc: 0.9062 - binary_accuracy: 0.8672 - val_loss: 0.4128 - val_auc: 0.8171 - val_binary_accuracy: 0.8228\n",
            "lr = 0.0005061081\n",
            "Epoch 32/150\n",
            "466/466 [==============================] - 7s 14ms/step - loss: 0.2858 - auc: 0.9120 - binary_accuracy: 0.8644 - val_loss: 0.4147 - val_auc: 0.8170 - val_binary_accuracy: 0.8378\n",
            "lr = 0.000480984\n",
            "Epoch 33/150\n",
            "466/466 [==============================] - 7s 14ms/step - loss: 0.2815 - auc: 0.9146 - binary_accuracy: 0.8672 - val_loss: 0.4256 - val_auc: 0.8151 - val_binary_accuracy: 0.8217\n",
            "lr = 0.00045590935\n",
            "Epoch 34/150\n",
            "466/466 [==============================] - 7s 14ms/step - loss: 0.2780 - auc: 0.9172 - binary_accuracy: 0.8665 - val_loss: 0.4150 - val_auc: 0.8231 - val_binary_accuracy: 0.8314\n",
            "lr = 0.00043094743\n",
            "Epoch 35/150\n",
            "466/466 [==============================] - 7s 15ms/step - loss: 0.2685 - auc: 0.9234 - binary_accuracy: 0.8723 - val_loss: 0.4256 - val_auc: 0.8173 - val_binary_accuracy: 0.8303\n",
            "lr = 0.00040616162\n",
            "Epoch 36/150\n",
            "466/466 [==============================] - 7s 15ms/step - loss: 0.2699 - auc: 0.9216 - binary_accuracy: 0.8713 - val_loss: 0.4201 - val_auc: 0.8193 - val_binary_accuracy: 0.8303\n",
            "lr = 0.0003816143\n",
            "Epoch 37/150\n",
            "466/466 [==============================] - 7s 15ms/step - loss: 0.2615 - auc: 0.9274 - binary_accuracy: 0.8763 - val_loss: 0.4448 - val_auc: 0.8147 - val_binary_accuracy: 0.8324\n",
            "lr = 0.000357368\n",
            "Epoch 38/150\n",
            "466/466 [==============================] - 7s 15ms/step - loss: 0.2590 - auc: 0.9288 - binary_accuracy: 0.8806 - val_loss: 0.4392 - val_auc: 0.8129 - val_binary_accuracy: 0.8314\n"
          ]
        }
      ]
    },
    {
      "cell_type": "code",
      "metadata": {
        "colab": {
          "base_uri": "https://localhost:8080/",
          "height": 284
        },
        "id": "8p0C2kHV2vrW",
        "outputId": "cbf75681-d649-47ae-f8a7-7eae3c596eb9"
      },
      "source": [
        "plt.plot(result.history['val_binary_accuracy'])\n",
        "test_result = model.evaluate(test_data)\n",
        "plt.show()"
      ],
      "execution_count": null,
      "outputs": [
        {
          "output_type": "stream",
          "name": "stdout",
          "text": [
            "59/59 [==============================] - 0s 7ms/step - loss: 0.3745 - auc: 0.8352 - binary_accuracy: 0.8335\n"
          ]
        },
        {
          "output_type": "display_data",
          "data": {
            "image/png": "[encoded data removed]",
            "text/plain": [
              "<Figure size 432x288 with 1 Axes>"
            ]
          },
          "metadata": {
            "needs_background": "light"
          }
        }
      ]
    },
    {
      "cell_type": "code",
      "source": [
        "inference_model = build_infer_model(L)\n",
        "\n",
        "inference_model.set_weights(model.get_weights())"
      ],
      "metadata": {
        "id": "rOfgoKtsU1K-"
      },
      "execution_count": null,
      "outputs": []
    },
    {
      "cell_type": "code",
      "metadata": {
        "id": "vm_yXNslzRGu",
        "colab": {
          "base_uri": "https://localhost:8080/"
        },
        "outputId": "ac3a9c8b-f9d3-4f60-c0ba-9b73994418c6"
      },
      "source": [
        "inference_model(np.array([1,1,1,1]).reshape(1,-1))"
      ],
      "execution_count": null,
      "outputs": [
        {
          "output_type": "execute_result",
          "data": {
            "text/plain": [
              "<tf.Tensor: shape=(1, 1), dtype=float32, numpy=array([[0.03271339]], dtype=float32)>"
            ]
          },
          "metadata": {},
          "execution_count": 15
        }
      ]
    },
    {
      "cell_type": "code",
      "metadata": {
        "id": "aDvdjpMmz7UA",
        "colab": {
          "base_uri": "https://localhost:8080/"
        },
        "outputId": "dce776c4-12ca-41fd-ea93-60a5ca6c5c7f"
      },
      "source": [
        "tfjs.converters.save_keras_model(inference_model, \"tfjs_model\")"
      ],
      "execution_count": null,
      "outputs": [
        {
          "output_type": "stream",
          "name": "stdout",
          "text": [
            "WARNING:tensorflow:Compiled the loaded model, but the compiled metrics have yet to be built. `model.compile_metrics` will be empty until you train or evaluate the model.\n"
          ]
        }
      ]
    },
    {
      "cell_type": "markdown",
      "source": [
        "# Model Card"
      ],
      "metadata": {
        "id": "bCdM_rbZfmDQ"
      }
    },
    {
      "cell_type": "code",
      "source": [
        "model_card = {\n",
        "    'title': 'Hemolytic Prediction',\n",
        "    'details': 'Recurrent (bi-LSTM) neural network for predicting if a peptide is hemolytic. Developed by Andrew White using data from The Database of Antimicrobial Activity and Structure of Peptides (DBAASP). '\n",
        "    'The activity is defined from by extrapolating from a measurement assuming a dose response curves to the point at which 50% of RBCs are lysed.  If activity is below 100 μg / ml, it is hemolytic. Each measurement is treated independently, so sequences can appear multiple times.',\n",
        "    'use': 'Peptides between 2 and 190 residues. L- and canonical  amino acids.',\n",
        "    'factors': 'Dataset was from sequences thought to be antimicrobial or clinically relevant.',\n",
        "    'metrics': f'Test accuracy {test_result[2]:.2f}. Test AUC {test_result[1]:.2f}',\n",
        "    'evaluation': 'Withheld positive and negative examples',\n",
        "    'training': f'{len(pos_data) + len(neg_data)} positive and negative sequences. Only L- and canonical amino acids were trained.',\n",
        "    'caveats': 'The sequences tested were typically from biological sources.',\n",
        "    'ethics': 'These predictions are not a substitute for labratory experiments.'\n",
        "}\n",
        "with open('card.json', 'w') as f:\n",
        "  json.dump(model_card, f)\n",
        "print(json.dumps(model_card, indent=True))"
      ],
      "metadata": {
        "id": "8x0RLsUSfmdR",
        "colab": {
          "base_uri": "https://localhost:8080/"
        },
        "outputId": "14a5d8fd-ecc7-4a65-9346-4f183c4c9821"
      },
      "execution_count": null,
      "outputs": [
        {
          "output_type": "stream",
          "name": "stdout",
          "text": [
            "{\n",
            " \"title\": \"Hemolytic Prediction\",\n",
            " \"details\": \"Recurrent (bi-LSTM) neural network for predicting if a peptide is hemolytic. Developed by Andrew White using data from The Database of Antimicrobial Activity and Structure of Peptides (DBAASP). The activity is defined from by extrapolating from a measurement assuming a dose response curves to the point at which 50% of RBCs are lysed.  If activity is below 100 \\u03bcg / ml, it is hemolytic. Each measurement is treated independently, so sequences can appear multiple times.\",\n",
            " \"use\": \"Peptides between 2 and 190 residues. L- and canonical  amino acids\",\n",
            " \"factors\": \"Dataset was from sequences thought to be antimicrobial or clinically relevant\",\n",
            " \"metrics\": \"Test accuracy 0.83. Test AUC 0.84\",\n",
            " \"evaluation\": \"Withheld positive and negative examples\",\n",
            " \"training\": \"9316 positive and negative sequences. Only L- and canonical amino acids were trained.\",\n",
            " \"caveats\": \"The sequences tested were typically from biological sources.\",\n",
            " \"ethics\": \"These predictions are not a substitute for labratory experiments.\"\n",
            "}\n"
          ]
        }
      ]
    },
    {
      "cell_type": "code",
      "source": [
        ""
      ],
      "metadata": {
        "id": "pBaS34sMZDgi"
      },
      "execution_count": null,
      "outputs": []
    }
  ]
}