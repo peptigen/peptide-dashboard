{
  "cells": [
    {
      "cell_type": "code",
      "execution_count": 1,
      "metadata": {
        "colab": {
          "base_uri": "https://localhost:8080/"
        },
        "id": "FLdQgeg6ruk5",
        "outputId": "cd2145b0-f955-43be-da6b-6e8ab4202aa8"
      },
      "outputs": [
        {
          "output_type": "stream",
          "name": "stdout",
          "text": [
            "\u001b[K     |████████████████████████████████| 77 kB 2.9 MB/s \n",
            "\u001b[K     |████████████████████████████████| 462 kB 11.0 MB/s \n",
            "\u001b[?25hTue Mar 22 12:25:07 2022       \n",
            "+-----------------------------------------------------------------------------+\n",
            "| NVIDIA-SMI 460.32.03    Driver Version: 460.32.03    CUDA Version: 11.2     |\n",
            "|-------------------------------+----------------------+----------------------+\n",
            "| GPU  Name        Persistence-M| Bus-Id        Disp.A | Volatile Uncorr. ECC |\n",
            "| Fan  Temp  Perf  Pwr:Usage/Cap|         Memory-Usage | GPU-Util  Compute M. |\n",
            "|                               |                      |               MIG M. |\n",
            "|===============================+======================+======================|\n",
            "|   0  Tesla T4            Off  | 00000000:00:04.0 Off |                    0 |\n",
            "| N/A   43C    P8     9W /  70W |      0MiB / 15109MiB |      0%      Default |\n",
            "|                               |                      |                  N/A |\n",
            "+-------------------------------+----------------------+----------------------+\n",
            "                                                                               \n",
            "+-----------------------------------------------------------------------------+\n",
            "| Processes:                                                                  |\n",
            "|  GPU   GI   CI        PID   Type   Process name                  GPU Memory |\n",
            "|        ID   ID                                                   Usage      |\n",
            "|=============================================================================|\n",
            "|  No running processes found                                                 |\n",
            "+-----------------------------------------------------------------------------+\n"
          ]
        }
      ],
      "source": [
        "!pip install -q tensorflowjs\n",
        "!nvidia-smi"
      ]
    },
    {
      "cell_type": "code",
      "execution_count": 2,
      "metadata": {
        "id": "kN5GDHK6riEe"
      },
      "outputs": [],
      "source": [
        "#@title Runtime\n",
        "use_tpu = False #@param\n"
      ]
    },
    {
      "cell_type": "code",
      "execution_count": 3,
      "metadata": {
        "id": "PW7wdIp7py9V"
      },
      "outputs": [],
      "source": [
        "import matplotlib.pyplot as plt\n",
        "import matplotlib as mpl\n",
        "import numpy as np\n",
        "import os\n",
        "import tensorflow as tf\n",
        "import urllib\n",
        "from dataclasses import dataclass\n",
        "import tensorflowjs as tfjs\n",
        "import json\n",
        "np.random.seed(0)"
      ]
    },
    {
      "cell_type": "code",
      "execution_count": 4,
      "metadata": {
        "id": "-az13Rv1p6xr"
      },
      "outputs": [],
      "source": [
        "urllib.request.urlretrieve(\n",
        "    \"https://github.com/ur-whitelab/peptide-dashboard/raw/master/ml/data/hemo-positive.npz\",\n",
        "    \"positive.npz\",\n",
        ")\n",
        "urllib.request.urlretrieve(\n",
        "    \"https://github.com/ur-whitelab/peptide-dashboard/raw/master/ml/data/hemo-negative.npz\",\n",
        "    \"negative.npz\",\n",
        ")\n",
        "with np.load(\"positive.npz\") as r:\n",
        "    pos_data = r[list(r.keys())[0]]\n",
        "with np.load(\"negative.npz\") as r:\n",
        "    neg_data = r[list(r.keys())[0]]\n",
        "\n",
        "# create labels and stich it all into one\n",
        "# tensor\n",
        "labels = np.concatenate(\n",
        "    (\n",
        "        np.ones((pos_data.shape[0], 1), dtype=pos_data.dtype),\n",
        "        np.zeros((neg_data.shape[0], 1), dtype=pos_data.dtype),\n",
        "    ),\n",
        "    axis=0,\n",
        ")\n",
        "\n",
        "features = np.concatenate((pos_data, neg_data), axis=0)"
      ]
    },
    {
      "cell_type": "code",
      "execution_count": 5,
      "metadata": {
        "colab": {
          "base_uri": "https://localhost:8080/"
        },
        "id": "i1e4uaGsuOmA",
        "outputId": "533c2e5d-bc4a-452d-e1e7-e7633cdd278c"
      },
      "outputs": [
        {
          "output_type": "stream",
          "name": "stdout",
          "text": [
            "Positive data 1826\n",
            "Negative data 7490\n"
          ]
        }
      ],
      "source": [
        "print('Positive data', pos_data.shape[0])\n",
        "print('Negative data', neg_data.shape[0])"
      ]
    },
    {
      "cell_type": "code",
      "source": [
        "pos_data.shape"
      ],
      "metadata": {
        "colab": {
          "base_uri": "https://localhost:8080/"
        },
        "id": "8rOto3M54hJN",
        "outputId": "aad090e8-c363-4724-d66c-abf6c9f19db4"
      },
      "execution_count": 29,
      "outputs": [
        {
          "output_type": "execute_result",
          "data": {
            "text/plain": [
              "(1826, 190)"
            ]
          },
          "metadata": {},
          "execution_count": 29
        }
      ]
    },
    {
      "cell_type": "code",
      "execution_count": 94,
      "metadata": {
        "id": "4o1kwH0dy_xz"
      },
      "outputs": [],
      "source": [
        "  @dataclass\n",
        "class Config:\n",
        "    vocab_size: int\n",
        "    example_number: int\n",
        "    batch_size: int\n",
        "    buffer_size: int\n",
        "    rnn_units: int\n",
        "    hidden_dim: int\n",
        "    embedding_dim: int\n",
        "    reg_strength: float\n",
        "    lr: float\n",
        "    drop_rate: float\n",
        "        \n",
        "config = Config(vocab_size=21, # include gap\n",
        "                example_number=len(labels), \n",
        "                batch_size=16, \n",
        "                buffer_size=10000,\n",
        "                rnn_units=64,\n",
        "                hidden_dim=64,\n",
        "                embedding_dim=32,\n",
        "                reg_strength=0,\n",
        "                lr=1e-3,\n",
        "                drop_rate=0.1\n",
        "               )\n",
        "\n"
      ]
    },
    {
      "cell_type": "code",
      "source": [
        "print(L)"
      ],
      "metadata": {
        "colab": {
          "base_uri": "https://localhost:8080/"
        },
        "id": "pdaZiUgD4vRm",
        "outputId": "9b5e603a-e7c4-40c9-b642-e6992de57aa0"
      },
      "execution_count": 95,
      "outputs": [
        {
          "output_type": "stream",
          "name": "stdout",
          "text": [
            "None\n"
          ]
        }
      ]
    },
    {
      "cell_type": "code",
      "execution_count": 96,
      "metadata": {
        "id": "pC9ee3SEqxqq"
      },
      "outputs": [],
      "source": [
        "def build_model(L):\n",
        "    inputs = tf.keras.Input(shape=(L,))\n",
        "\n",
        "    # make embedding and indicate that 0 should be treated as padding mask\n",
        "    e = tf.keras.layers.Embedding(input_dim=config.vocab_size, \n",
        "                                        output_dim=config.embedding_dim,\n",
        "                                        mask_zero=True)(inputs)\n",
        "\n",
        "    counts = tf.keras.layers.GlobalAveragePooling1D()(e)\n",
        "    print(counts)\n",
        "\n",
        "\n",
        "    # RNN layer\n",
        "    x = tf.keras.layers.Bidirectional(tf.keras.layers.LSTM(config.rnn_units, return_sequences=True))(e)\n",
        "    x = tf.keras.layers.Bidirectional(tf.keras.layers.LSTM(config.rnn_units))(x)\n",
        "    x = tf.keras.layers.Concatenate()([x, counts])\n",
        "    x = tf.keras.layers.LayerNormalization()(x)\n",
        "    x = tf.keras.layers.Dropout(config.drop_rate)(x)\n",
        "    # a dense hidden layer\n",
        "    x = tf.keras.layers.Dense(\n",
        "        config.hidden_dim, \n",
        "        activation='relu', \n",
        "        kernel_regularizer=tf.keras.regularizers.l2(config.reg_strength))(x)\n",
        "    x = tf.keras.layers.LayerNormalization()(x)\n",
        "    x = tf.keras.layers.Dropout(config.drop_rate)(x)\n",
        "    x = tf.keras.layers.Dense(\n",
        "        config.hidden_dim // 4, \n",
        "        activation='relu', \n",
        "        kernel_regularizer=tf.keras.regularizers.l2(config.reg_strength))(x)\n",
        "    x = tf.keras.layers.LayerNormalization()(x)\n",
        "    x = tf.keras.layers.Dropout(config.drop_rate)(x)\n",
        "    # predicting prob, so no activation\n",
        "    yhat = tf.keras.layers.Dense(1)(x)\n",
        "\n",
        "    model = tf.keras.Model(inputs=inputs, outputs=yhat, name='sol-rnn')\n",
        "    return model\n",
        "\n",
        "def build_infer_model(L):\n",
        "    inputs = tf.keras.Input(shape=(L,))\n",
        "\n",
        "    # make embedding and indicate that 0 should be treated as padding mask\n",
        "    e = tf.keras.layers.Embedding(input_dim=config.vocab_size, \n",
        "                                        output_dim=config.embedding_dim,\n",
        "                                        mask_zero=True)(inputs)\n",
        "\n",
        "    counts = tf.keras.layers.GlobalMaxPool1D()(e)\n",
        "\n",
        "\n",
        "    # RNN layer\n",
        "    x = tf.keras.layers.Bidirectional(tf.keras.layers.LSTM(config.rnn_units, return_sequences=True))(e)\n",
        "    x = tf.keras.layers.Bidirectional(tf.keras.layers.LSTM(config.rnn_units))(x)\n",
        "    # x = tf.keras.layers.Concatenate()([x, counts])\n",
        "    x = tf.keras.layers.LayerNormalization()(x)\n",
        "    # a dense hidden layer\n",
        "    x = tf.keras.layers.Dense(\n",
        "        config.hidden_dim, \n",
        "        activation='relu')(x)\n",
        "    x = tf.keras.layers.LayerNormalization()(x)\n",
        "    x = tf.keras.layers.Dense(\n",
        "        config.hidden_dim // 4, \n",
        "        activation='relu')(x)\n",
        "    x = tf.keras.layers.LayerNormalization()(x)\n",
        "    # predicting prob, so no activation\n",
        "    yhat = tf.keras.layers.Dense(1, activation='sigmoid')(x)\n",
        "\n",
        "    model = tf.keras.Model(inputs=inputs, outputs=yhat, name='sol-rnn-infer')\n",
        "    return model"
      ]
    },
    {
      "cell_type": "code",
      "execution_count": 97,
      "metadata": {
        "id": "rg4sBeamoCOO"
      },
      "outputs": [],
      "source": [
        "if use_tpu:\n",
        "  tf.keras.backend.clear_session()\n",
        "\n",
        "  resolver = tf.distribute.cluster_resolver.TPUClusterResolver('grpc://' + os.environ['COLAB_TPU_ADDR'])\n",
        "  tf.config.experimental_connect_to_cluster(resolver)\n",
        "\n",
        "  # This is the TPU initialization code that has to be at the beginning.\n",
        "  tf.tpu.experimental.initialize_tpu_system(resolver)\n",
        "  print(\"All devices: \", tf.config.list_logical_devices('TPU'))\n",
        "\n",
        "  strategy = tf.distribute.experimental.TPUStrategy(resolver)\n"
      ]
    },
    {
      "cell_type": "code",
      "execution_count": 98,
      "metadata": {
        "id": "dXB1MlmMqAHT"
      },
      "outputs": [],
      "source": [
        "# we now need to shuffle before creating TF dataset\n",
        "# so that our train/test/val splits are random\n",
        "i = np.arange(len(labels))\n",
        "np.random.shuffle(i)\n",
        "labels = labels[i]\n",
        "features = features[i]\n",
        "data = tf.data.Dataset.from_tensor_slices((features, labels))\n",
        "# now split into val, test, train and batch\n",
        "N = len(data)  \n",
        "L = None#features[0].shape[-1]\n",
        "split = int(0.1 * N)\n",
        "test_data = data.take(split).batch(config.batch_size)\n",
        "nontest = data.skip(split)\n",
        "val_data, train_data = nontest.take(split).batch(config.batch_size), \\\n",
        "    nontest.skip(split).shuffle(config.buffer_size).batch(config.batch_size).prefetch(tf.data.experimental.AUTOTUNE)"
      ]
    },
    {
      "cell_type": "code",
      "source": [
        "list(train_data)[0]"
      ],
      "metadata": {
        "colab": {
          "base_uri": "https://localhost:8080/"
        },
        "id": "Hd1tZPVu9hWF",
        "outputId": "2bf1c92c-e17d-47f9-d1ea-c5268470702d"
      },
      "execution_count": 99,
      "outputs": [
        {
          "output_type": "execute_result",
          "data": {
            "text/plain": [
              "(<tf.Tensor: shape=(16, 190), dtype=int64, numpy=\n",
              " array([[11, 12, 12, ...,  0,  0,  0],\n",
              "        [14, 14,  9, ...,  0,  0,  0],\n",
              "        [ 3, 11, 18, ...,  0,  0,  0],\n",
              "        ...,\n",
              "        [ 8, 11, 11, ...,  0,  0,  0],\n",
              "        [19,  8,  1, ...,  0,  0,  0],\n",
              "        [12, 12, 12, ...,  0,  0,  0]])>,\n",
              " <tf.Tensor: shape=(16, 1), dtype=int64, numpy=\n",
              " array([[0],\n",
              "        [1],\n",
              "        [0],\n",
              "        [0],\n",
              "        [1],\n",
              "        [1],\n",
              "        [1],\n",
              "        [1],\n",
              "        [0],\n",
              "        [0],\n",
              "        [0],\n",
              "        [0],\n",
              "        [0],\n",
              "        [1],\n",
              "        [0],\n",
              "        [0]])>)"
            ]
          },
          "metadata": {},
          "execution_count": 99
        }
      ]
    },
    {
      "cell_type": "code",
      "execution_count": 100,
      "metadata": {
        "id": "W8WI1JiDy9J2",
        "colab": {
          "base_uri": "https://localhost:8080/"
        },
        "outputId": "f71d53f1-2fd7-43b5-a7d4-f4dda9507c7a"
      },
      "outputs": [
        {
          "output_type": "stream",
          "name": "stdout",
          "text": [
            "KerasTensor(type_spec=TensorSpec(shape=(None, 32), dtype=tf.float32, name=None), name='global_average_pooling1d/truediv:0', description=\"created by layer 'global_average_pooling1d'\")\n"
          ]
        }
      ],
      "source": [
        "tf.keras.backend.clear_session()\n",
        "if use_tpu:\n",
        "  with strategy.scope():\n",
        "    model = build_model(L)\n",
        "else:\n",
        "  model = build_model(L)\n",
        "\n",
        "  decay_epochs = 50\n",
        "  decay_steps = N  // config.batch_size * decay_epochs\n",
        "  lr_decayed_fn = tf.keras.optimizers.schedules.CosineDecay(\n",
        "      config.lr, decay_steps, alpha=1e-3)\n",
        "  opt = tf.optimizers.Adam(lr_decayed_fn)\n",
        "  model.compile(\n",
        "      opt,\n",
        "      loss=tf.keras.losses.BinaryCrossentropy(from_logits=True),\n",
        "      steps_per_execution = 60 if use_tpu else None,\n",
        "      metrics=[tf.keras.metrics.AUC(from_logits=True), tf.keras.metrics.BinaryAccuracy(threshold=0)])"
      ]
    },
    {
      "cell_type": "code",
      "execution_count": 101,
      "metadata": {
        "colab": {
          "base_uri": "https://localhost:8080/"
        },
        "id": "_M60Z2MiCmw9",
        "outputId": "9a2dae81-68f5-44e1-9426-08fcab50ed5b"
      },
      "outputs": [
        {
          "output_type": "stream",
          "name": "stdout",
          "text": [
            "Model: \"sol-rnn\"\n",
            "__________________________________________________________________________________________________\n",
            " Layer (type)                   Output Shape         Param #     Connected to                     \n",
            "==================================================================================================\n",
            " input_1 (InputLayer)           [(None, None)]       0           []                               \n",
            "                                                                                                  \n",
            " embedding (Embedding)          (None, None, 32)     672         ['input_1[0][0]']                \n",
            "                                                                                                  \n",
            " bidirectional (Bidirectional)  (None, None, 128)    49664       ['embedding[0][0]']              \n",
            "                                                                                                  \n",
            " bidirectional_1 (Bidirectional  (None, 128)         98816       ['bidirectional[0][0]']          \n",
            " )                                                                                                \n",
            "                                                                                                  \n",
            " global_average_pooling1d (Glob  (None, 32)          0           ['embedding[0][0]']              \n",
            " alAveragePooling1D)                                                                              \n",
            "                                                                                                  \n",
            " concatenate (Concatenate)      (None, 160)          0           ['bidirectional_1[0][0]',        \n",
            "                                                                  'global_average_pooling1d[0][0]'\n",
            "                                                                 ]                                \n",
            "                                                                                                  \n",
            " layer_normalization (LayerNorm  (None, 160)         320         ['concatenate[0][0]']            \n",
            " alization)                                                                                       \n",
            "                                                                                                  \n",
            " dropout (Dropout)              (None, 160)          0           ['layer_normalization[0][0]']    \n",
            "                                                                                                  \n",
            " dense (Dense)                  (None, 64)           10304       ['dropout[0][0]']                \n",
            "                                                                                                  \n",
            " layer_normalization_1 (LayerNo  (None, 64)          128         ['dense[0][0]']                  \n",
            " rmalization)                                                                                     \n",
            "                                                                                                  \n",
            " dropout_1 (Dropout)            (None, 64)           0           ['layer_normalization_1[0][0]']  \n",
            "                                                                                                  \n",
            " dense_1 (Dense)                (None, 16)           1040        ['dropout_1[0][0]']              \n",
            "                                                                                                  \n",
            " layer_normalization_2 (LayerNo  (None, 16)          32          ['dense_1[0][0]']                \n",
            " rmalization)                                                                                     \n",
            "                                                                                                  \n",
            " dropout_2 (Dropout)            (None, 16)           0           ['layer_normalization_2[0][0]']  \n",
            "                                                                                                  \n",
            " dense_2 (Dense)                (None, 1)            17          ['dropout_2[0][0]']              \n",
            "                                                                                                  \n",
            "==================================================================================================\n",
            "Total params: 160,993\n",
            "Trainable params: 160,993\n",
            "Non-trainable params: 0\n",
            "__________________________________________________________________________________________________\n"
          ]
        }
      ],
      "source": [
        "model.summary()"
      ]
    },
    {
      "cell_type": "code",
      "execution_count": 102,
      "metadata": {
        "colab": {
          "base_uri": "https://localhost:8080/"
        },
        "id": "mVSlO4VizO-N",
        "outputId": "fc7d8821-8ed3-4ad0-8c3b-97fe6e3b2081"
      },
      "outputs": [
        {
          "output_type": "stream",
          "name": "stdout",
          "text": [
            "lr = 0.001\n",
            "Epoch 1/150\n",
            "466/466 [==============================] - 34s 39ms/step - loss: 0.4921 - auc: 0.6047 - binary_accuracy: 0.8000 - val_loss: 0.4911 - val_auc: 0.6510 - val_binary_accuracy: 0.7916\n",
            "lr = 0.000999368\n",
            "Epoch 2/150\n",
            "466/466 [==============================] - 14s 29ms/step - loss: 0.4637 - auc: 0.6861 - binary_accuracy: 0.8028 - val_loss: 0.4875 - val_auc: 0.6829 - val_binary_accuracy: 0.7905\n",
            "lr = 0.0009974737\n",
            "Epoch 3/150\n",
            "466/466 [==============================] - 14s 29ms/step - loss: 0.4649 - auc: 0.6830 - binary_accuracy: 0.8001 - val_loss: 0.5118 - val_auc: 0.5565 - val_binary_accuracy: 0.7927\n",
            "lr = 0.0009943218\n",
            "Epoch 4/150\n",
            "466/466 [==============================] - 14s 29ms/step - loss: 0.4979 - auc: 0.5519 - binary_accuracy: 0.8023 - val_loss: 0.5031 - val_auc: 0.6097 - val_binary_accuracy: 0.7905\n",
            "lr = 0.0009899203\n",
            "Epoch 5/150\n",
            "466/466 [==============================] - 14s 29ms/step - loss: 0.4860 - auc: 0.6191 - binary_accuracy: 0.8027 - val_loss: 0.5084 - val_auc: 0.5516 - val_binary_accuracy: 0.7916\n",
            "lr = 0.0009842805\n",
            "Epoch 6/150\n",
            "466/466 [==============================] - 14s 29ms/step - loss: 0.4747 - auc: 0.6491 - binary_accuracy: 0.8028 - val_loss: 0.4897 - val_auc: 0.6623 - val_binary_accuracy: 0.7884\n",
            "lr = 0.0009774164\n",
            "Epoch 7/150\n",
            "466/466 [==============================] - 13s 29ms/step - loss: 0.4706 - auc: 0.6579 - binary_accuracy: 0.8029 - val_loss: 0.4905 - val_auc: 0.6655 - val_binary_accuracy: 0.7905\n",
            "lr = 0.00096934556\n",
            "Epoch 8/150\n",
            "466/466 [==============================] - 14s 29ms/step - loss: 0.4673 - auc: 0.6715 - binary_accuracy: 0.8039 - val_loss: 0.4993 - val_auc: 0.6293 - val_binary_accuracy: 0.7916\n",
            "lr = 0.0009600883\n",
            "Epoch 9/150\n",
            "466/466 [==============================] - 14s 29ms/step - loss: 0.4594 - auc: 0.6911 - binary_accuracy: 0.8037 - val_loss: 0.4869 - val_auc: 0.6869 - val_binary_accuracy: 0.7863\n",
            "lr = 0.00094966806\n",
            "Epoch 10/150\n",
            "466/466 [==============================] - 14s 29ms/step - loss: 0.4547 - auc: 0.7032 - binary_accuracy: 0.8037 - val_loss: 0.4814 - val_auc: 0.6900 - val_binary_accuracy: 0.7841\n",
            "lr = 0.0009381113\n",
            "Epoch 11/150\n",
            "466/466 [==============================] - 14s 29ms/step - loss: 0.4437 - auc: 0.7261 - binary_accuracy: 0.8053 - val_loss: 0.4734 - val_auc: 0.6944 - val_binary_accuracy: 0.7873\n",
            "lr = 0.00092544715\n",
            "Epoch 12/150\n",
            "466/466 [==============================] - 13s 29ms/step - loss: 0.4421 - auc: 0.7287 - binary_accuracy: 0.8033 - val_loss: 0.4858 - val_auc: 0.6774 - val_binary_accuracy: 0.7895\n",
            "lr = 0.00091170776\n",
            "Epoch 13/150\n",
            "466/466 [==============================] - 14s 29ms/step - loss: 0.4389 - auc: 0.7348 - binary_accuracy: 0.8052 - val_loss: 0.4878 - val_auc: 0.6843 - val_binary_accuracy: 0.7852\n",
            "lr = 0.0008969277\n",
            "Epoch 14/150\n",
            "466/466 [==============================] - 13s 29ms/step - loss: 0.4338 - auc: 0.7466 - binary_accuracy: 0.8044 - val_loss: 0.4850 - val_auc: 0.6992 - val_binary_accuracy: 0.7841\n",
            "lr = 0.0008811446\n",
            "Epoch 15/150\n",
            "466/466 [==============================] - 14s 29ms/step - loss: 0.4289 - auc: 0.7521 - binary_accuracy: 0.8064 - val_loss: 0.4683 - val_auc: 0.7130 - val_binary_accuracy: 0.7895\n",
            "lr = 0.00086439826\n",
            "Epoch 16/150\n",
            "466/466 [==============================] - 14s 29ms/step - loss: 0.4244 - auc: 0.7592 - binary_accuracy: 0.8106 - val_loss: 0.4630 - val_auc: 0.7333 - val_binary_accuracy: 0.7723\n",
            "lr = 0.00084673124\n",
            "Epoch 17/150\n",
            "466/466 [==============================] - 14s 29ms/step - loss: 0.4177 - auc: 0.7708 - binary_accuracy: 0.8131 - val_loss: 0.4777 - val_auc: 0.7137 - val_binary_accuracy: 0.7787\n",
            "lr = 0.0008281879\n",
            "Epoch 18/150\n",
            "466/466 [==============================] - 14s 29ms/step - loss: 0.4116 - auc: 0.7794 - binary_accuracy: 0.8210 - val_loss: 0.4595 - val_auc: 0.7281 - val_binary_accuracy: 0.7905\n",
            "lr = 0.00080881553\n",
            "Epoch 19/150\n",
            "466/466 [==============================] - 13s 29ms/step - loss: 0.4046 - auc: 0.7895 - binary_accuracy: 0.8217 - val_loss: 0.4716 - val_auc: 0.7234 - val_binary_accuracy: 0.7991\n",
            "lr = 0.0007886629\n",
            "Epoch 20/150\n",
            "466/466 [==============================] - 14s 29ms/step - loss: 0.3985 - auc: 0.7984 - binary_accuracy: 0.8251 - val_loss: 0.4616 - val_auc: 0.7501 - val_binary_accuracy: 0.7809\n",
            "lr = 0.00076778117\n",
            "Epoch 21/150\n",
            "466/466 [==============================] - 14s 29ms/step - loss: 0.3984 - auc: 0.7962 - binary_accuracy: 0.8275 - val_loss: 0.4542 - val_auc: 0.7475 - val_binary_accuracy: 0.7884\n",
            "lr = 0.0007462231\n",
            "Epoch 22/150\n",
            "466/466 [==============================] - 14s 29ms/step - loss: 0.3926 - auc: 0.8050 - binary_accuracy: 0.8319 - val_loss: 0.4637 - val_auc: 0.7502 - val_binary_accuracy: 0.7830\n",
            "lr = 0.0007240432\n",
            "Epoch 23/150\n",
            "466/466 [==============================] - 13s 29ms/step - loss: 0.3858 - auc: 0.8153 - binary_accuracy: 0.8322 - val_loss: 0.4501 - val_auc: 0.7623 - val_binary_accuracy: 0.7744\n",
            "lr = 0.0007012976\n",
            "Epoch 24/150\n",
            "466/466 [==============================] - 14s 29ms/step - loss: 0.3838 - auc: 0.8166 - binary_accuracy: 0.8363 - val_loss: 0.4449 - val_auc: 0.7650 - val_binary_accuracy: 0.7959\n",
            "lr = 0.000678044\n",
            "Epoch 25/150\n",
            "466/466 [==============================] - 14s 29ms/step - loss: 0.3822 - auc: 0.8198 - binary_accuracy: 0.8345 - val_loss: 0.4463 - val_auc: 0.7585 - val_binary_accuracy: 0.7948\n",
            "lr = 0.000654341\n",
            "Epoch 26/150\n",
            "466/466 [==============================] - 14s 29ms/step - loss: 0.3717 - auc: 0.8306 - binary_accuracy: 0.8374 - val_loss: 0.4481 - val_auc: 0.7589 - val_binary_accuracy: 0.7895\n",
            "lr = 0.00063024886\n",
            "Epoch 27/150\n",
            "466/466 [==============================] - 14s 30ms/step - loss: 0.3668 - auc: 0.8365 - binary_accuracy: 0.8382 - val_loss: 0.4303 - val_auc: 0.7766 - val_binary_accuracy: 0.8024\n",
            "lr = 0.0006058283\n",
            "Epoch 28/150\n",
            "466/466 [==============================] - 14s 29ms/step - loss: 0.3570 - auc: 0.8474 - binary_accuracy: 0.8459 - val_loss: 0.4515 - val_auc: 0.7745 - val_binary_accuracy: 0.7927\n",
            "lr = 0.00058114127\n",
            "Epoch 29/150\n",
            "466/466 [==============================] - 14s 29ms/step - loss: 0.3513 - auc: 0.8538 - binary_accuracy: 0.8469 - val_loss: 0.4329 - val_auc: 0.7837 - val_binary_accuracy: 0.8002\n",
            "lr = 0.00055625016\n",
            "Epoch 30/150\n",
            "466/466 [==============================] - 14s 29ms/step - loss: 0.3480 - auc: 0.8570 - binary_accuracy: 0.8465 - val_loss: 0.4279 - val_auc: 0.7907 - val_binary_accuracy: 0.7959\n",
            "lr = 0.0005312181\n",
            "Epoch 31/150\n",
            "466/466 [==============================] - 13s 29ms/step - loss: 0.3396 - auc: 0.8639 - binary_accuracy: 0.8503 - val_loss: 0.4289 - val_auc: 0.7869 - val_binary_accuracy: 0.8013\n",
            "lr = 0.0005061081\n",
            "Epoch 32/150\n",
            "466/466 [==============================] - 13s 29ms/step - loss: 0.3334 - auc: 0.8708 - binary_accuracy: 0.8550 - val_loss: 0.4307 - val_auc: 0.7829 - val_binary_accuracy: 0.7991\n",
            "lr = 0.000480984\n",
            "Epoch 33/150\n",
            "466/466 [==============================] - 14s 29ms/step - loss: 0.3259 - auc: 0.8778 - binary_accuracy: 0.8587 - val_loss: 0.4325 - val_auc: 0.7930 - val_binary_accuracy: 0.8024\n",
            "lr = 0.00045590935\n",
            "Epoch 34/150\n",
            "466/466 [==============================] - 14s 29ms/step - loss: 0.3187 - auc: 0.8830 - binary_accuracy: 0.8603 - val_loss: 0.4400 - val_auc: 0.7872 - val_binary_accuracy: 0.7884\n",
            "lr = 0.00043094743\n",
            "Epoch 35/150\n",
            "466/466 [==============================] - 14s 29ms/step - loss: 0.3111 - auc: 0.8903 - binary_accuracy: 0.8577 - val_loss: 0.4235 - val_auc: 0.7911 - val_binary_accuracy: 0.8013\n",
            "lr = 0.00040616162\n",
            "Epoch 36/150\n",
            "466/466 [==============================] - 14s 29ms/step - loss: 0.3026 - auc: 0.8969 - binary_accuracy: 0.8699 - val_loss: 0.4391 - val_auc: 0.7959 - val_binary_accuracy: 0.7927\n",
            "lr = 0.0003816143\n",
            "Epoch 37/150\n",
            "466/466 [==============================] - 14s 29ms/step - loss: 0.2968 - auc: 0.9014 - binary_accuracy: 0.8730 - val_loss: 0.4406 - val_auc: 0.7991 - val_binary_accuracy: 0.7981\n",
            "lr = 0.000357368\n",
            "Epoch 38/150\n",
            "466/466 [==============================] - 14s 29ms/step - loss: 0.2900 - auc: 0.9062 - binary_accuracy: 0.8760 - val_loss: 0.4358 - val_auc: 0.7999 - val_binary_accuracy: 0.7948\n",
            "lr = 0.00033348385\n",
            "Epoch 39/150\n",
            "466/466 [==============================] - 14s 29ms/step - loss: 0.2867 - auc: 0.9085 - binary_accuracy: 0.8764 - val_loss: 0.4464 - val_auc: 0.7925 - val_binary_accuracy: 0.8002\n",
            "lr = 0.0003100224\n",
            "Epoch 40/150\n",
            "466/466 [==============================] - 14s 29ms/step - loss: 0.2762 - auc: 0.9165 - binary_accuracy: 0.8775 - val_loss: 0.4674 - val_auc: 0.7907 - val_binary_accuracy: 0.7905\n",
            "lr = 0.00028704284\n",
            "Epoch 41/150\n",
            "466/466 [==============================] - 14s 29ms/step - loss: 0.2721 - auc: 0.9199 - binary_accuracy: 0.8797 - val_loss: 0.4686 - val_auc: 0.7842 - val_binary_accuracy: 0.7991\n",
            "lr = 0.0002646034\n",
            "Epoch 42/150\n",
            "466/466 [==============================] - 13s 29ms/step - loss: 0.2680 - auc: 0.9209 - binary_accuracy: 0.8833 - val_loss: 0.4636 - val_auc: 0.7930 - val_binary_accuracy: 0.7959\n",
            "lr = 0.00024276105\n",
            "Epoch 43/150\n",
            "466/466 [==============================] - 14s 29ms/step - loss: 0.2636 - auc: 0.9244 - binary_accuracy: 0.8833 - val_loss: 0.4646 - val_auc: 0.7975 - val_binary_accuracy: 0.7927\n",
            "lr = 0.00022157074\n",
            "Epoch 44/150\n",
            "466/466 [==============================] - 14s 30ms/step - loss: 0.2549 - auc: 0.9295 - binary_accuracy: 0.8870 - val_loss: 0.4768 - val_auc: 0.7903 - val_binary_accuracy: 0.7905\n",
            "lr = 0.00020108624\n",
            "Epoch 45/150\n",
            "466/466 [==============================] - 14s 30ms/step - loss: 0.2512 - auc: 0.9320 - binary_accuracy: 0.8897 - val_loss: 0.4751 - val_auc: 0.7945 - val_binary_accuracy: 0.7863\n",
            "lr = 0.00018135937\n",
            "Epoch 46/150\n",
            "466/466 [==============================] - 14s 29ms/step - loss: 0.2488 - auc: 0.9335 - binary_accuracy: 0.8900 - val_loss: 0.4784 - val_auc: 0.7950 - val_binary_accuracy: 0.7895\n",
            "lr = 0.0001624401\n",
            "Epoch 47/150\n",
            "466/466 [==============================] - 14s 30ms/step - loss: 0.2405 - auc: 0.9383 - binary_accuracy: 0.8916 - val_loss: 0.4835 - val_auc: 0.7947 - val_binary_accuracy: 0.7884\n",
            "lr = 0.00014437638\n",
            "Epoch 48/150\n",
            "466/466 [==============================] - 14s 29ms/step - loss: 0.2407 - auc: 0.9379 - binary_accuracy: 0.8917 - val_loss: 0.4909 - val_auc: 0.7941 - val_binary_accuracy: 0.7873\n"
          ]
        }
      ],
      "source": [
        "tf.keras.backend.clear_session()\n",
        "result = model.fit(\n",
        "    train_data, \n",
        "    validation_data=val_data, \n",
        "    callbacks=[tf.keras.callbacks.LambdaCallback(\n",
        "        on_epoch_begin=lambda epochs,logs: print('lr =',lr_decayed_fn(opt.iterations).numpy())\n",
        "        ),\n",
        "        tf.keras.callbacks.EarlyStopping(monitor='val_auc', mode='max', restore_best_weights=True, patience=10)],\n",
        "    epochs=150)\n",
        "\n"
      ]
    },
    {
      "cell_type": "code",
      "execution_count": 104,
      "metadata": {
        "colab": {
          "base_uri": "https://localhost:8080/",
          "height": 282
        },
        "id": "8p0C2kHV2vrW",
        "outputId": "7a39744c-9751-4a18-c1f9-808025682f97"
      },
      "outputs": [
        {
          "output_type": "stream",
          "name": "stdout",
          "text": [
            "59/59 [==============================] - 1s 12ms/step - loss: 0.3860 - auc: 0.8054 - binary_accuracy: 0.8378\n"
          ]
        },
        {
          "output_type": "display_data",
          "data": {
            "text/plain": [
              "<Figure size 432x288 with 1 Axes>"
            ],
            "image/png": "[encoded data removed]"
          },
          "metadata": {
            "needs_background": "light"
          }
        }
      ],
      "source": [
        "plt.plot(result.history['val_binary_accuracy'])\n",
        "test_result = model.evaluate(test_data)\n",
        "plt.show()"
      ]
    },
    {
      "cell_type": "code",
      "execution_count": 92,
      "metadata": {
        "id": "rOfgoKtsU1K-"
      },
      "outputs": [],
      "source": [
        "inference_model = build_infer_model(L)\n",
        "\n",
        "inference_model.set_weights(model.get_weights())"
      ]
    },
    {
      "cell_type": "code",
      "execution_count": 93,
      "metadata": {
        "colab": {
          "base_uri": "https://localhost:8080/"
        },
        "id": "vm_yXNslzRGu",
        "outputId": "cdd84bd3-b3ee-42d3-fafb-d7f35050e340"
      },
      "outputs": [
        {
          "output_type": "execute_result",
          "data": {
            "text/plain": [
              "<tf.Tensor: shape=(1, 1), dtype=float32, numpy=array([[0.01773132]], dtype=float32)>"
            ]
          },
          "metadata": {},
          "execution_count": 93
        }
      ],
      "source": [
        "inference_model(np.array([1,1,1,1]).reshape(1,-1))"
      ]
    }
  ],
  "metadata": {
    "accelerator": "GPU",
    "colab": {
      "collapsed_sections": [],
      "name": "Hemo_RNN.ipynb",
      "provenance": []
    },
    "kernelspec": {
      "display_name": "Python 3",
      "language": "python",
      "name": "python3"
    },
    "language_info": {
      "codemirror_mode": {
        "name": "ipython",
        "version": 3
      },
      "file_extension": ".py",
      "mimetype": "text/x-python",
      "name": "python",
      "nbconvert_exporter": "python",
      "pygments_lexer": "ipython3",
      "version": "3.7.6"
    }
  },
  "nbformat": 4,
  "nbformat_minor": 0
}