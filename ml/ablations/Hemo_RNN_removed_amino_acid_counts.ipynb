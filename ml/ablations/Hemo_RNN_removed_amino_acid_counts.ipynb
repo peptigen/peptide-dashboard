{
  "cells": [
    {
      "cell_type": "code",
      "execution_count": 1,
      "metadata": {
        "colab": {
          "base_uri": "https://localhost:8080/"
        },
        "id": "FLdQgeg6ruk5",
        "outputId": "cd2145b0-f955-43be-da6b-6e8ab4202aa8"
      },
      "outputs": [
        {
          "output_type": "stream",
          "name": "stdout",
          "text": [
            "\u001b[K     |████████████████████████████████| 77 kB 2.9 MB/s \n",
            "\u001b[K     |████████████████████████████████| 462 kB 11.0 MB/s \n",
            "\u001b[?25hTue Mar 22 12:25:07 2022       \n",
            "+-----------------------------------------------------------------------------+\n",
            "| NVIDIA-SMI 460.32.03    Driver Version: 460.32.03    CUDA Version: 11.2     |\n",
            "|-------------------------------+----------------------+----------------------+\n",
            "| GPU  Name        Persistence-M| Bus-Id        Disp.A | Volatile Uncorr. ECC |\n",
            "| Fan  Temp  Perf  Pwr:Usage/Cap|         Memory-Usage | GPU-Util  Compute M. |\n",
            "|                               |                      |               MIG M. |\n",
            "|===============================+======================+======================|\n",
            "|   0  Tesla T4            Off  | 00000000:00:04.0 Off |                    0 |\n",
            "| N/A   43C    P8     9W /  70W |      0MiB / 15109MiB |      0%      Default |\n",
            "|                               |                      |                  N/A |\n",
            "+-------------------------------+----------------------+----------------------+\n",
            "                                                                               \n",
            "+-----------------------------------------------------------------------------+\n",
            "| Processes:                                                                  |\n",
            "|  GPU   GI   CI        PID   Type   Process name                  GPU Memory |\n",
            "|        ID   ID                                                   Usage      |\n",
            "|=============================================================================|\n",
            "|  No running processes found                                                 |\n",
            "+-----------------------------------------------------------------------------+\n"
          ]
        }
      ],
      "source": [
        "!pip install -q tensorflowjs\n",
        "!nvidia-smi"
      ]
    },
    {
      "cell_type": "code",
      "execution_count": 2,
      "metadata": {
        "id": "kN5GDHK6riEe"
      },
      "outputs": [],
      "source": [
        "#@title Runtime\n",
        "use_tpu = False #@param\n"
      ]
    },
    {
      "cell_type": "code",
      "execution_count": 3,
      "metadata": {
        "id": "PW7wdIp7py9V"
      },
      "outputs": [],
      "source": [
        "import matplotlib.pyplot as plt\n",
        "import matplotlib as mpl\n",
        "import numpy as np\n",
        "import os\n",
        "import tensorflow as tf\n",
        "import urllib\n",
        "from dataclasses import dataclass\n",
        "import tensorflowjs as tfjs\n",
        "import json\n",
        "np.random.seed(0)"
      ]
    },
    {
      "cell_type": "code",
      "execution_count": 4,
      "metadata": {
        "id": "-az13Rv1p6xr"
      },
      "outputs": [],
      "source": [
        "urllib.request.urlretrieve(\n",
        "    \"https://github.com/ur-whitelab/peptide-dashboard/raw/master/ml/data/hemo-positive.npz\",\n",
        "    \"positive.npz\",\n",
        ")\n",
        "urllib.request.urlretrieve(\n",
        "    \"https://github.com/ur-whitelab/peptide-dashboard/raw/master/ml/data/hemo-negative.npz\",\n",
        "    \"negative.npz\",\n",
        ")\n",
        "with np.load(\"positive.npz\") as r:\n",
        "    pos_data = r[list(r.keys())[0]]\n",
        "with np.load(\"negative.npz\") as r:\n",
        "    neg_data = r[list(r.keys())[0]]\n",
        "\n",
        "# create labels and stich it all into one\n",
        "# tensor\n",
        "labels = np.concatenate(\n",
        "    (\n",
        "        np.ones((pos_data.shape[0], 1), dtype=pos_data.dtype),\n",
        "        np.zeros((neg_data.shape[0], 1), dtype=pos_data.dtype),\n",
        "    ),\n",
        "    axis=0,\n",
        ")\n",
        "\n",
        "features = np.concatenate((pos_data, neg_data), axis=0)"
      ]
    },
    {
      "cell_type": "code",
      "execution_count": 5,
      "metadata": {
        "colab": {
          "base_uri": "https://localhost:8080/"
        },
        "id": "i1e4uaGsuOmA",
        "outputId": "533c2e5d-bc4a-452d-e1e7-e7633cdd278c"
      },
      "outputs": [
        {
          "output_type": "stream",
          "name": "stdout",
          "text": [
            "Positive data 1826\n",
            "Negative data 7490\n"
          ]
        }
      ],
      "source": [
        "print('Positive data', pos_data.shape[0])\n",
        "print('Negative data', neg_data.shape[0])"
      ]
    },
    {
      "cell_type": "code",
      "source": [
        "pos_data.shape"
      ],
      "metadata": {
        "colab": {
          "base_uri": "https://localhost:8080/"
        },
        "id": "8rOto3M54hJN",
        "outputId": "aad090e8-c363-4724-d66c-abf6c9f19db4"
      },
      "execution_count": 29,
      "outputs": [
        {
          "output_type": "execute_result",
          "data": {
            "text/plain": [
              "(1826, 190)"
            ]
          },
          "metadata": {},
          "execution_count": 29
        }
      ]
    },
    {
      "cell_type": "code",
      "execution_count": 94,
      "metadata": {
        "id": "4o1kwH0dy_xz"
      },
      "outputs": [],
      "source": [
        "  @dataclass\n",
        "class Config:\n",
        "    vocab_size: int\n",
        "    example_number: int\n",
        "    batch_size: int\n",
        "    buffer_size: int\n",
        "    rnn_units: int\n",
        "    hidden_dim: int\n",
        "    embedding_dim: int\n",
        "    reg_strength: float\n",
        "    lr: float\n",
        "    drop_rate: float\n",
        "        \n",
        "config = Config(vocab_size=21, # include gap\n",
        "                example_number=len(labels), \n",
        "                batch_size=16, \n",
        "                buffer_size=10000,\n",
        "                rnn_units=64,\n",
        "                hidden_dim=64,\n",
        "                embedding_dim=32,\n",
        "                reg_strength=0,\n",
        "                lr=1e-3,\n",
        "                drop_rate=0.1\n",
        "               )\n",
        "\n"
      ]
    },
    {
      "cell_type": "code",
      "source": [
        "print(L)"
      ],
      "metadata": {
        "colab": {
          "base_uri": "https://localhost:8080/"
        },
        "id": "pdaZiUgD4vRm",
        "outputId": "9b5e603a-e7c4-40c9-b642-e6992de57aa0"
      },
      "execution_count": 95,
      "outputs": [
        {
          "output_type": "stream",
          "name": "stdout",
          "text": [
            "None\n"
          ]
        }
      ]
    },
    {
      "cell_type": "code",
      "execution_count": 109,
      "metadata": {
        "id": "pC9ee3SEqxqq"
      },
      "outputs": [],
      "source": [
        "def build_model(L):\n",
        "    inputs = tf.keras.Input(shape=(L,))\n",
        "\n",
        "    # make embedding and indicate that 0 should be treated as padding mask\n",
        "    e = tf.keras.layers.Embedding(input_dim=config.vocab_size, \n",
        "                                        output_dim=config.embedding_dim,\n",
        "                                        mask_zero=True)(inputs)\n",
        "\n",
        "    counts = tf.keras.layers.GlobalAveragePooling1D()(e)\n",
        "    print(counts)\n",
        "\n",
        "\n",
        "    # RNN layer\n",
        "    x = tf.keras.layers.Bidirectional(tf.keras.layers.LSTM(config.rnn_units, return_sequences=True))(e)\n",
        "    x = tf.keras.layers.Bidirectional(tf.keras.layers.LSTM(config.rnn_units))(x)\n",
        "    # x = tf.keras.layers.Concatenate()([x, counts])\n",
        "    x = tf.keras.layers.LayerNormalization()(x)\n",
        "    x = tf.keras.layers.Dropout(config.drop_rate)(x)\n",
        "    # a dense hidden layer\n",
        "    x = tf.keras.layers.Dense(\n",
        "        config.hidden_dim, \n",
        "        activation='relu', \n",
        "        kernel_regularizer=tf.keras.regularizers.l2(config.reg_strength))(x)\n",
        "    x = tf.keras.layers.LayerNormalization()(x)\n",
        "    x = tf.keras.layers.Dropout(config.drop_rate)(x)\n",
        "    x = tf.keras.layers.Dense(\n",
        "        config.hidden_dim // 4, \n",
        "        activation='relu', \n",
        "        kernel_regularizer=tf.keras.regularizers.l2(config.reg_strength))(x)\n",
        "    x = tf.keras.layers.LayerNormalization()(x)\n",
        "    x = tf.keras.layers.Dropout(config.drop_rate)(x)\n",
        "    # predicting prob, so no activation\n",
        "    yhat = tf.keras.layers.Dense(1)(x)\n",
        "\n",
        "    model = tf.keras.Model(inputs=inputs, outputs=yhat, name='sol-rnn')\n",
        "    return model\n",
        "\n",
        "def build_infer_model(L):\n",
        "    inputs = tf.keras.Input(shape=(L,))\n",
        "\n",
        "    # make embedding and indicate that 0 should be treated as padding mask\n",
        "    e = tf.keras.layers.Embedding(input_dim=config.vocab_size, \n",
        "                                        output_dim=config.embedding_dim,\n",
        "                                        mask_zero=True)(inputs)\n",
        "\n",
        "    counts = tf.keras.layers.GlobalMaxPool1D()(e)\n",
        "\n",
        "\n",
        "    # RNN layer\n",
        "    x = tf.keras.layers.Bidirectional(tf.keras.layers.LSTM(config.rnn_units, return_sequences=True))(e)\n",
        "    x = tf.keras.layers.Bidirectional(tf.keras.layers.LSTM(config.rnn_units))(x)\n",
        "    # x = tf.keras.layers.Concatenate()([x, counts])\n",
        "    x = tf.keras.layers.LayerNormalization()(x)\n",
        "    # a dense hidden layer\n",
        "    x = tf.keras.layers.Dense(\n",
        "        config.hidden_dim, \n",
        "        activation='relu')(x)\n",
        "    x = tf.keras.layers.LayerNormalization()(x)\n",
        "    x = tf.keras.layers.Dense(\n",
        "        config.hidden_dim // 4, \n",
        "        activation='relu')(x)\n",
        "    x = tf.keras.layers.LayerNormalization()(x)\n",
        "    # predicting prob, so no activation\n",
        "    yhat = tf.keras.layers.Dense(1, activation='sigmoid')(x)\n",
        "\n",
        "    model = tf.keras.Model(inputs=inputs, outputs=yhat, name='sol-rnn-infer')\n",
        "    return model"
      ]
    },
    {
      "cell_type": "code",
      "execution_count": 110,
      "metadata": {
        "id": "rg4sBeamoCOO"
      },
      "outputs": [],
      "source": [
        "if use_tpu:\n",
        "  tf.keras.backend.clear_session()\n",
        "\n",
        "  resolver = tf.distribute.cluster_resolver.TPUClusterResolver('grpc://' + os.environ['COLAB_TPU_ADDR'])\n",
        "  tf.config.experimental_connect_to_cluster(resolver)\n",
        "\n",
        "  # This is the TPU initialization code that has to be at the beginning.\n",
        "  tf.tpu.experimental.initialize_tpu_system(resolver)\n",
        "  print(\"All devices: \", tf.config.list_logical_devices('TPU'))\n",
        "\n",
        "  strategy = tf.distribute.experimental.TPUStrategy(resolver)\n"
      ]
    },
    {
      "cell_type": "code",
      "execution_count": 111,
      "metadata": {
        "id": "dXB1MlmMqAHT"
      },
      "outputs": [],
      "source": [
        "# we now need to shuffle before creating TF dataset\n",
        "# so that our train/test/val splits are random\n",
        "i = np.arange(len(labels))\n",
        "np.random.shuffle(i)\n",
        "labels = labels[i]\n",
        "features = features[i]\n",
        "data = tf.data.Dataset.from_tensor_slices((features, labels))\n",
        "# now split into val, test, train and batch\n",
        "N = len(data)  \n",
        "L = None#features[0].shape[-1]\n",
        "split = int(0.1 * N)\n",
        "test_data = data.take(split).batch(config.batch_size)\n",
        "nontest = data.skip(split)\n",
        "val_data, train_data = nontest.take(split).batch(config.batch_size), \\\n",
        "    nontest.skip(split).shuffle(config.buffer_size).batch(config.batch_size).prefetch(tf.data.experimental.AUTOTUNE)"
      ]
    },
    {
      "cell_type": "code",
      "source": [
        "list(train_data)[0]"
      ],
      "metadata": {
        "colab": {
          "base_uri": "https://localhost:8080/"
        },
        "id": "Hd1tZPVu9hWF",
        "outputId": "a9c86c07-b880-4a0e-cfdc-fb4bd358d7fa"
      },
      "execution_count": 112,
      "outputs": [
        {
          "output_type": "execute_result",
          "data": {
            "text/plain": [
              "(<tf.Tensor: shape=(16, 190), dtype=int64, numpy=\n",
              " array([[ 2,  2, 11, ...,  0,  0,  0],\n",
              "        [ 1, 11, 18, ...,  0,  0,  0],\n",
              "        [ 1, 15,  1, ...,  0,  0,  0],\n",
              "        ...,\n",
              "        [14, 14,  6, ...,  0,  0,  0],\n",
              "        [18, 14,  8, ...,  0,  0,  0],\n",
              "        [14, 14,  2, ...,  0,  0,  0]])>,\n",
              " <tf.Tensor: shape=(16, 1), dtype=int64, numpy=\n",
              " array([[0],\n",
              "        [0],\n",
              "        [0],\n",
              "        [0],\n",
              "        [0],\n",
              "        [0],\n",
              "        [0],\n",
              "        [0],\n",
              "        [1],\n",
              "        [0],\n",
              "        [0],\n",
              "        [0],\n",
              "        [1],\n",
              "        [0],\n",
              "        [0],\n",
              "        [0]])>)"
            ]
          },
          "metadata": {},
          "execution_count": 112
        }
      ]
    },
    {
      "cell_type": "code",
      "execution_count": 113,
      "metadata": {
        "id": "W8WI1JiDy9J2",
        "colab": {
          "base_uri": "https://localhost:8080/"
        },
        "outputId": "a9f1acf3-933b-42ad-e30b-91f4985947ef"
      },
      "outputs": [
        {
          "output_type": "stream",
          "name": "stdout",
          "text": [
            "KerasTensor(type_spec=TensorSpec(shape=(None, 32), dtype=tf.float32, name=None), name='global_average_pooling1d/truediv:0', description=\"created by layer 'global_average_pooling1d'\")\n"
          ]
        }
      ],
      "source": [
        "tf.keras.backend.clear_session()\n",
        "if use_tpu:\n",
        "  with strategy.scope():\n",
        "    model = build_model(L)\n",
        "else:\n",
        "  model = build_model(L)\n",
        "\n",
        "  decay_epochs = 50\n",
        "  decay_steps = N  // config.batch_size * decay_epochs\n",
        "  lr_decayed_fn = tf.keras.optimizers.schedules.CosineDecay(\n",
        "      config.lr, decay_steps, alpha=1e-3)\n",
        "  opt = tf.optimizers.Adam(lr_decayed_fn)\n",
        "  model.compile(\n",
        "      opt,\n",
        "      loss=tf.keras.losses.BinaryCrossentropy(from_logits=True),\n",
        "      steps_per_execution = 60 if use_tpu else None,\n",
        "      metrics=[tf.keras.metrics.AUC(from_logits=True), tf.keras.metrics.BinaryAccuracy(threshold=0)])"
      ]
    },
    {
      "cell_type": "code",
      "execution_count": 114,
      "metadata": {
        "colab": {
          "base_uri": "https://localhost:8080/"
        },
        "id": "_M60Z2MiCmw9",
        "outputId": "244e0676-2ccb-4bb9-f37a-75cffd5f5989"
      },
      "outputs": [
        {
          "output_type": "stream",
          "name": "stdout",
          "text": [
            "Model: \"sol-rnn\"\n",
            "_________________________________________________________________\n",
            " Layer (type)                Output Shape              Param #   \n",
            "=================================================================\n",
            " input_1 (InputLayer)        [(None, None)]            0         \n",
            "                                                                 \n",
            " embedding (Embedding)       (None, None, 32)          672       \n",
            "                                                                 \n",
            " bidirectional (Bidirectiona  (None, None, 128)        49664     \n",
            " l)                                                              \n",
            "                                                                 \n",
            " bidirectional_1 (Bidirectio  (None, 128)              98816     \n",
            " nal)                                                            \n",
            "                                                                 \n",
            " layer_normalization (LayerN  (None, 128)              256       \n",
            " ormalization)                                                   \n",
            "                                                                 \n",
            " dropout (Dropout)           (None, 128)               0         \n",
            "                                                                 \n",
            " dense (Dense)               (None, 64)                8256      \n",
            "                                                                 \n",
            " layer_normalization_1 (Laye  (None, 64)               128       \n",
            " rNormalization)                                                 \n",
            "                                                                 \n",
            " dropout_1 (Dropout)         (None, 64)                0         \n",
            "                                                                 \n",
            " dense_1 (Dense)             (None, 16)                1040      \n",
            "                                                                 \n",
            " layer_normalization_2 (Laye  (None, 16)               32        \n",
            " rNormalization)                                                 \n",
            "                                                                 \n",
            " dropout_2 (Dropout)         (None, 16)                0         \n",
            "                                                                 \n",
            " dense_2 (Dense)             (None, 1)                 17        \n",
            "                                                                 \n",
            "=================================================================\n",
            "Total params: 158,881\n",
            "Trainable params: 158,881\n",
            "Non-trainable params: 0\n",
            "_________________________________________________________________\n"
          ]
        }
      ],
      "source": [
        "model.summary()"
      ]
    },
    {
      "cell_type": "code",
      "execution_count": 115,
      "metadata": {
        "colab": {
          "base_uri": "https://localhost:8080/"
        },
        "id": "mVSlO4VizO-N",
        "outputId": "eff57e50-05a0-4649-c833-7b210bb4ba43"
      },
      "outputs": [
        {
          "output_type": "stream",
          "name": "stdout",
          "text": [
            "lr = 0.001\n",
            "Epoch 1/150\n",
            "466/466 [==============================] - 35s 43ms/step - loss: 0.4966 - auc: 0.5854 - binary_accuracy: 0.7998 - val_loss: 0.4309 - val_auc: 0.7049 - val_binary_accuracy: 0.8228\n",
            "lr = 0.000999368\n",
            "Epoch 2/150\n",
            "466/466 [==============================] - 13s 29ms/step - loss: 0.4690 - auc: 0.6687 - binary_accuracy: 0.8021 - val_loss: 0.4198 - val_auc: 0.7378 - val_binary_accuracy: 0.8228\n",
            "lr = 0.0009974737\n",
            "Epoch 3/150\n",
            "466/466 [==============================] - 14s 29ms/step - loss: 0.4575 - auc: 0.7022 - binary_accuracy: 0.8012 - val_loss: 0.4231 - val_auc: 0.7311 - val_binary_accuracy: 0.8228\n",
            "lr = 0.0009943218\n",
            "Epoch 4/150\n",
            "466/466 [==============================] - 14s 29ms/step - loss: 0.4491 - auc: 0.7198 - binary_accuracy: 0.8013 - val_loss: 0.4784 - val_auc: 0.7372 - val_binary_accuracy: 0.8195\n",
            "lr = 0.0009899203\n",
            "Epoch 5/150\n",
            "466/466 [==============================] - 14s 29ms/step - loss: 0.4414 - auc: 0.7330 - binary_accuracy: 0.8037 - val_loss: 0.4232 - val_auc: 0.7238 - val_binary_accuracy: 0.8110\n",
            "lr = 0.0009842805\n",
            "Epoch 6/150\n",
            "466/466 [==============================] - 14s 30ms/step - loss: 0.4353 - auc: 0.7453 - binary_accuracy: 0.8059 - val_loss: 0.4070 - val_auc: 0.7617 - val_binary_accuracy: 0.8185\n",
            "lr = 0.0009774164\n",
            "Epoch 7/150\n",
            "466/466 [==============================] - 14s 30ms/step - loss: 0.4276 - auc: 0.7584 - binary_accuracy: 0.8056 - val_loss: 0.4055 - val_auc: 0.7716 - val_binary_accuracy: 0.8131\n",
            "lr = 0.00096934556\n",
            "Epoch 8/150\n",
            "466/466 [==============================] - 14s 29ms/step - loss: 0.4229 - auc: 0.7678 - binary_accuracy: 0.8045 - val_loss: 0.4038 - val_auc: 0.7846 - val_binary_accuracy: 0.8281\n",
            "lr = 0.0009600883\n",
            "Epoch 9/150\n",
            "466/466 [==============================] - 14s 30ms/step - loss: 0.4133 - auc: 0.7823 - binary_accuracy: 0.8110 - val_loss: 0.3917 - val_auc: 0.7822 - val_binary_accuracy: 0.8260\n",
            "lr = 0.00094966806\n",
            "Epoch 10/150\n",
            "466/466 [==============================] - 14s 30ms/step - loss: 0.4115 - auc: 0.7848 - binary_accuracy: 0.8100 - val_loss: 0.3828 - val_auc: 0.7957 - val_binary_accuracy: 0.8281\n",
            "lr = 0.0009381113\n",
            "Epoch 11/150\n",
            "466/466 [==============================] - 14s 30ms/step - loss: 0.4065 - auc: 0.7922 - binary_accuracy: 0.8106 - val_loss: 0.3907 - val_auc: 0.7917 - val_binary_accuracy: 0.8421\n",
            "lr = 0.00092544715\n",
            "Epoch 12/150\n",
            "466/466 [==============================] - 14s 30ms/step - loss: 0.3967 - auc: 0.8052 - binary_accuracy: 0.8137 - val_loss: 0.3841 - val_auc: 0.7965 - val_binary_accuracy: 0.8260\n",
            "lr = 0.00091170776\n",
            "Epoch 13/150\n",
            "466/466 [==============================] - 14s 30ms/step - loss: 0.3944 - auc: 0.8083 - binary_accuracy: 0.8206 - val_loss: 0.3796 - val_auc: 0.8040 - val_binary_accuracy: 0.8271\n",
            "lr = 0.0008969277\n",
            "Epoch 14/150\n",
            "466/466 [==============================] - 14s 30ms/step - loss: 0.3910 - auc: 0.8127 - binary_accuracy: 0.8200 - val_loss: 0.3776 - val_auc: 0.8023 - val_binary_accuracy: 0.8335\n",
            "lr = 0.0008811446\n",
            "Epoch 15/150\n",
            "466/466 [==============================] - 14s 30ms/step - loss: 0.3822 - auc: 0.8230 - binary_accuracy: 0.8222 - val_loss: 0.3852 - val_auc: 0.7895 - val_binary_accuracy: 0.8303\n",
            "lr = 0.00086439826\n",
            "Epoch 16/150\n",
            "466/466 [==============================] - 14s 30ms/step - loss: 0.3720 - auc: 0.8354 - binary_accuracy: 0.8261 - val_loss: 0.3834 - val_auc: 0.8051 - val_binary_accuracy: 0.8238\n",
            "lr = 0.00084673124\n",
            "Epoch 17/150\n",
            "466/466 [==============================] - 14s 30ms/step - loss: 0.3798 - auc: 0.8250 - binary_accuracy: 0.8298 - val_loss: 0.4055 - val_auc: 0.7842 - val_binary_accuracy: 0.8281\n",
            "lr = 0.0008281879\n",
            "Epoch 18/150\n",
            "466/466 [==============================] - 14s 30ms/step - loss: 0.3623 - auc: 0.8451 - binary_accuracy: 0.8367 - val_loss: 0.3870 - val_auc: 0.8056 - val_binary_accuracy: 0.8217\n",
            "lr = 0.00080881553\n",
            "Epoch 19/150\n",
            "466/466 [==============================] - 14s 30ms/step - loss: 0.3536 - auc: 0.8551 - binary_accuracy: 0.8366 - val_loss: 0.3743 - val_auc: 0.8184 - val_binary_accuracy: 0.8346\n",
            "lr = 0.0007886629\n",
            "Epoch 20/150\n",
            "466/466 [==============================] - 14s 30ms/step - loss: 0.3503 - auc: 0.8570 - binary_accuracy: 0.8418 - val_loss: 0.3772 - val_auc: 0.8121 - val_binary_accuracy: 0.8271\n",
            "lr = 0.00076778117\n",
            "Epoch 21/150\n",
            "466/466 [==============================] - 14s 30ms/step - loss: 0.3445 - auc: 0.8634 - binary_accuracy: 0.8444 - val_loss: 0.4060 - val_auc: 0.7839 - val_binary_accuracy: 0.8217\n",
            "lr = 0.0007462231\n",
            "Epoch 22/150\n",
            "466/466 [==============================] - 14s 30ms/step - loss: 0.3404 - auc: 0.8665 - binary_accuracy: 0.8476 - val_loss: 0.3897 - val_auc: 0.8088 - val_binary_accuracy: 0.8271\n",
            "lr = 0.0007240432\n",
            "Epoch 23/150\n",
            "466/466 [==============================] - 14s 30ms/step - loss: 0.3280 - auc: 0.8780 - binary_accuracy: 0.8520 - val_loss: 0.3857 - val_auc: 0.8129 - val_binary_accuracy: 0.8195\n",
            "lr = 0.0007012976\n",
            "Epoch 24/150\n",
            "466/466 [==============================] - 14s 30ms/step - loss: 0.3216 - auc: 0.8829 - binary_accuracy: 0.8583 - val_loss: 0.3846 - val_auc: 0.8125 - val_binary_accuracy: 0.8357\n",
            "lr = 0.000678044\n",
            "Epoch 25/150\n",
            "466/466 [==============================] - 14s 30ms/step - loss: 0.3125 - auc: 0.8911 - binary_accuracy: 0.8565 - val_loss: 0.3884 - val_auc: 0.8092 - val_binary_accuracy: 0.8303\n",
            "lr = 0.000654341\n",
            "Epoch 26/150\n",
            "466/466 [==============================] - 14s 29ms/step - loss: 0.3045 - auc: 0.8971 - binary_accuracy: 0.8653 - val_loss: 0.3901 - val_auc: 0.8247 - val_binary_accuracy: 0.8206\n",
            "lr = 0.00063024886\n",
            "Epoch 27/150\n",
            "466/466 [==============================] - 14s 29ms/step - loss: 0.3014 - auc: 0.8991 - binary_accuracy: 0.8664 - val_loss: 0.3924 - val_auc: 0.8183 - val_binary_accuracy: 0.8303\n",
            "lr = 0.0006058283\n",
            "Epoch 28/150\n",
            "466/466 [==============================] - 14s 30ms/step - loss: 0.2920 - auc: 0.9061 - binary_accuracy: 0.8676 - val_loss: 0.4277 - val_auc: 0.8001 - val_binary_accuracy: 0.8346\n",
            "lr = 0.00058114127\n",
            "Epoch 29/150\n",
            "466/466 [==============================] - 14s 29ms/step - loss: 0.2867 - auc: 0.9094 - binary_accuracy: 0.8681 - val_loss: 0.4193 - val_auc: 0.8002 - val_binary_accuracy: 0.8249\n",
            "lr = 0.00055625016\n",
            "Epoch 30/150\n",
            "466/466 [==============================] - 14s 29ms/step - loss: 0.2795 - auc: 0.9141 - binary_accuracy: 0.8735 - val_loss: 0.4108 - val_auc: 0.8115 - val_binary_accuracy: 0.8195\n",
            "lr = 0.0005312181\n",
            "Epoch 31/150\n",
            "466/466 [==============================] - 14s 30ms/step - loss: 0.2685 - auc: 0.9224 - binary_accuracy: 0.8764 - val_loss: 0.4295 - val_auc: 0.8117 - val_binary_accuracy: 0.8206\n",
            "lr = 0.0005061081\n",
            "Epoch 32/150\n",
            "466/466 [==============================] - 14s 30ms/step - loss: 0.2685 - auc: 0.9216 - binary_accuracy: 0.8762 - val_loss: 0.4060 - val_auc: 0.8127 - val_binary_accuracy: 0.8206\n",
            "lr = 0.000480984\n",
            "Epoch 33/150\n",
            "466/466 [==============================] - 14s 30ms/step - loss: 0.2609 - auc: 0.9263 - binary_accuracy: 0.8822 - val_loss: 0.4202 - val_auc: 0.8213 - val_binary_accuracy: 0.8314\n",
            "lr = 0.00045590935\n",
            "Epoch 34/150\n",
            "466/466 [==============================] - 14s 30ms/step - loss: 0.2508 - auc: 0.9324 - binary_accuracy: 0.8857 - val_loss: 0.4289 - val_auc: 0.8191 - val_binary_accuracy: 0.8238\n",
            "lr = 0.00043094743\n",
            "Epoch 35/150\n",
            "466/466 [==============================] - 14s 30ms/step - loss: 0.2512 - auc: 0.9321 - binary_accuracy: 0.8881 - val_loss: 0.4469 - val_auc: 0.8127 - val_binary_accuracy: 0.8228\n",
            "lr = 0.00040616162\n",
            "Epoch 36/150\n",
            "466/466 [==============================] - 14s 29ms/step - loss: 0.2416 - auc: 0.9369 - binary_accuracy: 0.8858 - val_loss: 0.4574 - val_auc: 0.8099 - val_binary_accuracy: 0.8260\n"
          ]
        }
      ],
      "source": [
        "tf.keras.backend.clear_session()\n",
        "result = model.fit(\n",
        "    train_data, \n",
        "    validation_data=val_data, \n",
        "    callbacks=[tf.keras.callbacks.LambdaCallback(\n",
        "        on_epoch_begin=lambda epochs,logs: print('lr =',lr_decayed_fn(opt.iterations).numpy())\n",
        "        ),\n",
        "        tf.keras.callbacks.EarlyStopping(monitor='val_auc', mode='max', restore_best_weights=True, patience=10)],\n",
        "    epochs=150)\n",
        "\n"
      ]
    },
    {
      "cell_type": "code",
      "execution_count": 116,
      "metadata": {
        "colab": {
          "base_uri": "https://localhost:8080/",
          "height": 282
        },
        "id": "8p0C2kHV2vrW",
        "outputId": "c261f84f-6312-4591-c508-30051e7e1954"
      },
      "outputs": [
        {
          "output_type": "stream",
          "name": "stdout",
          "text": [
            "59/59 [==============================] - 1s 11ms/step - loss: 0.4486 - auc: 0.7955 - binary_accuracy: 0.8185\n"
          ]
        },
        {
          "output_type": "display_data",
          "data": {
            "text/plain": [
              "<Figure size 432x288 with 1 Axes>"
            ],
            "image/png": "[encoded data removed]"
          },
          "metadata": {
            "needs_background": "light"
          }
        }
      ],
      "source": [
        "plt.plot(result.history['val_binary_accuracy'])\n",
        "test_result = model.evaluate(test_data)\n",
        "plt.show()"
      ]
    },
    {
      "cell_type": "code",
      "execution_count": 117,
      "metadata": {
        "id": "rOfgoKtsU1K-"
      },
      "outputs": [],
      "source": [
        "inference_model = build_infer_model(L)\n",
        "\n",
        "inference_model.set_weights(model.get_weights())"
      ]
    },
    {
      "cell_type": "code",
      "execution_count": 118,
      "metadata": {
        "colab": {
          "base_uri": "https://localhost:8080/"
        },
        "id": "vm_yXNslzRGu",
        "outputId": "fe62343c-6d16-4a0a-ad26-2a272b38fda7"
      },
      "outputs": [
        {
          "output_type": "execute_result",
          "data": {
            "text/plain": [
              "<tf.Tensor: shape=(1, 1), dtype=float32, numpy=array([[0.68244636]], dtype=float32)>"
            ]
          },
          "metadata": {},
          "execution_count": 118
        }
      ],
      "source": [
        "inference_model(np.array([1,1,1,1]).reshape(1,-1))"
      ]
    },
    {
      "cell_type": "code",
      "source": [
        ""
      ],
      "metadata": {
        "id": "F_gU4z403uq2"
      },
      "execution_count": null,
      "outputs": []
    }
  ],
  "metadata": {
    "accelerator": "GPU",
    "colab": {
      "collapsed_sections": [],
      "name": "Hemo_RNN.ipynb",
      "provenance": []
    },
    "kernelspec": {
      "display_name": "Python 3",
      "language": "python",
      "name": "python3"
    },
    "language_info": {
      "codemirror_mode": {
        "name": "ipython",
        "version": 3
      },
      "file_extension": ".py",
      "mimetype": "text/x-python",
      "name": "python",
      "nbconvert_exporter": "python",
      "pygments_lexer": "ipython3",
      "version": "3.7.6"
    }
  },
  "nbformat": 4,
  "nbformat_minor": 0
}