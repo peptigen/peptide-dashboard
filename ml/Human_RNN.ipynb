{
  "nbformat": 4,
  "nbformat_minor": 0,
  "metadata": {
    "colab": {
      "name": "Human-RNN",
      "provenance": [],
      "collapsed_sections": []
    },
    "kernelspec": {
      "name": "python3",
      "display_name": "Python 3"
    },
    "language_info": {
      "name": "python"
    },
    "accelerator": "GPU"
  },
  "cells": [
    {
      "cell_type": "code",
      "metadata": {
        "colab": {
          "base_uri": "https://localhost:8080/"
        },
        "id": "FLdQgeg6ruk5",
        "outputId": "a252cd6c-080d-473e-b2cb-b68895623a31"
      },
      "source": [
        "!pip install -q tensorflowjs\n",
        "!nvidia-smi"
      ],
      "execution_count": 1,
      "outputs": [
        {
          "output_type": "stream",
          "name": "stdout",
          "text": [
            "Fri Jan 14 05:27:33 2022       \n",
            "+-----------------------------------------------------------------------------+\n",
            "| NVIDIA-SMI 495.46       Driver Version: 460.32.03    CUDA Version: 11.2     |\n",
            "|-------------------------------+----------------------+----------------------+\n",
            "| GPU  Name        Persistence-M| Bus-Id        Disp.A | Volatile Uncorr. ECC |\n",
            "| Fan  Temp  Perf  Pwr:Usage/Cap|         Memory-Usage | GPU-Util  Compute M. |\n",
            "|                               |                      |               MIG M. |\n",
            "|===============================+======================+======================|\n",
            "|   0  Tesla P100-PCIE...  Off  | 00000000:00:04.0 Off |                    0 |\n",
            "| N/A   35C    P0    27W / 250W |      0MiB / 16280MiB |      0%      Default |\n",
            "|                               |                      |                  N/A |\n",
            "+-------------------------------+----------------------+----------------------+\n",
            "                                                                               \n",
            "+-----------------------------------------------------------------------------+\n",
            "| Processes:                                                                  |\n",
            "|  GPU   GI   CI        PID   Type   Process name                  GPU Memory |\n",
            "|        ID   ID                                                   Usage      |\n",
            "|=============================================================================|\n",
            "|  No running processes found                                                 |\n",
            "+-----------------------------------------------------------------------------+\n"
          ]
        }
      ]
    },
    {
      "cell_type": "code",
      "metadata": {
        "id": "kN5GDHK6riEe"
      },
      "source": [
        "#@title Runtime\n",
        "use_tpu = False #@param\n"
      ],
      "execution_count": 2,
      "outputs": []
    },
    {
      "cell_type": "code",
      "metadata": {
        "id": "PW7wdIp7py9V"
      },
      "source": [
        "import matplotlib.pyplot as plt\n",
        "import matplotlib as mpl\n",
        "import numpy as np\n",
        "import os\n",
        "import tensorflow as tf\n",
        "import urllib\n",
        "from dataclasses import dataclass\n",
        "import tensorflowjs as tfjs\n",
        "import json\n",
        "np.random.seed(0)"
      ],
      "execution_count": 3,
      "outputs": []
    },
    {
      "cell_type": "code",
      "metadata": {
        "id": "-az13Rv1p6xr"
      },
      "source": [
        "urllib.request.urlretrieve(\n",
        "    \"https://github.com/ur-whitelab/peptide-dashboard/raw/master/ml/data/human-positive.npz\",\n",
        "    \"positive.npz\",\n",
        ")\n",
        "urllib.request.urlretrieve(\n",
        "    \"https://github.com/ur-whitelab/peptide-dashboard/raw/master/ml/data/human-negative.npz\",\n",
        "    \"negative.npz\",\n",
        ")\n",
        "with np.load(\"positive.npz\") as r:\n",
        "    pos_data = r['arr_0']\n",
        "with np.load(\"negative.npz\") as r:\n",
        "    neg_data = r['arr_0']\n",
        "\n",
        "# create labels and stich it all into one\n",
        "# tensor\n",
        "labels = np.concatenate(\n",
        "    (\n",
        "        np.ones((pos_data.shape[0], 1), dtype=pos_data.dtype),\n",
        "        np.zeros((neg_data.shape[0], 1), dtype=pos_data.dtype),\n",
        "    ),\n",
        "    axis=0,\n",
        ")\n",
        "features = np.concatenate((pos_data, neg_data), axis=0)"
      ],
      "execution_count": 4,
      "outputs": []
    },
    {
      "cell_type": "code",
      "source": [
        "print('Positive data', pos_data.shape[0])\n",
        "print('Negative data', neg_data.shape[0])"
      ],
      "metadata": {
        "colab": {
          "base_uri": "https://localhost:8080/"
        },
        "id": "i1e4uaGsuOmA",
        "outputId": "04383c0d-6384-4adc-f84b-edb0539c3ba1"
      },
      "execution_count": 5,
      "outputs": [
        {
          "output_type": "stream",
          "name": "stdout",
          "text": [
            "Positive data 3600\n",
            "Negative data 3600\n"
          ]
        }
      ]
    },
    {
      "cell_type": "code",
      "metadata": {
        "id": "4o1kwH0dy_xz"
      },
      "source": [
        "@dataclass\n",
        "class Config:\n",
        "    vocab_size: int\n",
        "    example_number: int\n",
        "    batch_size: int\n",
        "    buffer_size: int\n",
        "    rnn_units: int\n",
        "    hidden_dim: int\n",
        "    embedding_dim: int\n",
        "    reg_strength: float\n",
        "    lr: float\n",
        "    drop_rate: float\n",
        "        \n",
        "config = Config(vocab_size=21, # include gap\n",
        "                example_number=len(labels), \n",
        "                batch_size=16, \n",
        "                buffer_size=10000,\n",
        "                rnn_units=32,\n",
        "                hidden_dim=64,\n",
        "                embedding_dim=24,\n",
        "                reg_strength=0,\n",
        "                lr=1e-3,\n",
        "                drop_rate=0.1\n",
        "               )\n",
        "\n"
      ],
      "execution_count": 6,
      "outputs": []
    },
    {
      "cell_type": "code",
      "metadata": {
        "id": "pC9ee3SEqxqq"
      },
      "source": [
        "def build_model(L):\n",
        "    inputs = tf.keras.Input(shape=(L,))\n",
        "\n",
        "    # make embedding and indicate that 0 should be treated as padding mask\n",
        "    e = tf.keras.layers.Embedding(input_dim=config.vocab_size, \n",
        "                                        output_dim=config.embedding_dim,\n",
        "                                        mask_zero=True)(inputs)\n",
        "\n",
        "    counts = tf.keras.layers.GlobalAveragePooling1D()(e)\n",
        "\n",
        "\n",
        "    # RNN layer\n",
        "    x = tf.keras.layers.LSTM(config.rnn_units)(e)\n",
        "    x = tf.keras.layers.Concatenate()([x, counts])\n",
        "    x = tf.keras.layers.LayerNormalization()(x)\n",
        "    x = tf.keras.layers.Dropout(config.drop_rate)(x)\n",
        "    # a dense hidden layer\n",
        "    x = tf.keras.layers.Dense(\n",
        "        config.hidden_dim, \n",
        "        activation='relu', \n",
        "        kernel_regularizer=tf.keras.regularizers.l2(config.reg_strength))(x)\n",
        "    x = tf.keras.layers.LayerNormalization()(x)\n",
        "    x = tf.keras.layers.Dropout(config.drop_rate)(x)\n",
        "    x = tf.keras.layers.Dense(\n",
        "        config.hidden_dim // 4, \n",
        "        activation='relu', \n",
        "        kernel_regularizer=tf.keras.regularizers.l2(config.reg_strength))(x)\n",
        "    x = tf.keras.layers.LayerNormalization()(x)\n",
        "    x = tf.keras.layers.Dropout(config.drop_rate)(x)\n",
        "    # predicting prob, so no activation\n",
        "    yhat = tf.keras.layers.Dense(1)(x)\n",
        "\n",
        "    model = tf.keras.Model(inputs=inputs, outputs=yhat, name='sol-rnn')\n",
        "    return model\n",
        "\n",
        "def build_infer_model(L):\n",
        "    inputs = tf.keras.Input(shape=(L,))\n",
        "\n",
        "    # make embedding and indicate that 0 should be treated as padding mask\n",
        "    e = tf.keras.layers.Embedding(input_dim=config.vocab_size, \n",
        "                                        output_dim=config.embedding_dim,\n",
        "                                        mask_zero=True)(inputs)\n",
        "\n",
        "    counts = tf.keras.layers.GlobalAveragePooling1D()(e)\n",
        "\n",
        "\n",
        "    # RNN layer\n",
        "    x = tf.keras.layers.LSTM(config.rnn_units)(e)\n",
        "    x = tf.keras.layers.Concatenate()([x, counts])\n",
        "    x = tf.keras.layers.LayerNormalization()(x)\n",
        "    # a dense hidden layer\n",
        "    x = tf.keras.layers.Dense(\n",
        "        config.hidden_dim, \n",
        "        activation='relu')(x)\n",
        "    x = tf.keras.layers.LayerNormalization()(x)\n",
        "    x = tf.keras.layers.Dense(\n",
        "        config.hidden_dim // 4, \n",
        "        activation='relu')(x)\n",
        "    x = tf.keras.layers.LayerNormalization()(x)\n",
        "    # predicting prob, so no activation\n",
        "    yhat = tf.keras.layers.Dense(1, activation='sigmoid')(x)\n",
        "\n",
        "    model = tf.keras.Model(inputs=inputs, outputs=yhat, name='sol-rnn-infer')\n",
        "    return model"
      ],
      "execution_count": 7,
      "outputs": []
    },
    {
      "cell_type": "code",
      "metadata": {
        "id": "rg4sBeamoCOO"
      },
      "source": [
        "if use_tpu:\n",
        "  tf.keras.backend.clear_session()\n",
        "\n",
        "  resolver = tf.distribute.cluster_resolver.TPUClusterResolver('grpc://' + os.environ['COLAB_TPU_ADDR'])\n",
        "  tf.config.experimental_connect_to_cluster(resolver)\n",
        "\n",
        "  # This is the TPU initialization code that has to be at the beginning.\n",
        "  tf.tpu.experimental.initialize_tpu_system(resolver)\n",
        "  print(\"All devices: \", tf.config.list_logical_devices('TPU'))\n",
        "\n",
        "  strategy = tf.distribute.experimental.TPUStrategy(resolver)\n"
      ],
      "execution_count": 8,
      "outputs": []
    },
    {
      "cell_type": "code",
      "metadata": {
        "id": "dXB1MlmMqAHT"
      },
      "source": [
        "# we now need to shuffle before creating TF dataset\n",
        "# so that our train/test/val splits are random\n",
        "i = np.arange(len(labels))\n",
        "np.random.shuffle(i)\n",
        "labels = labels[i]\n",
        "features = features[i]\n",
        "data = tf.data.Dataset.from_tensor_slices((features, labels))\n",
        "# now split into val, test, train and batch\n",
        "N = len(data)  \n",
        "L = None#features[0].shape[-1]\n",
        "split = int(0.1 * N)\n",
        "test_data = data.take(split).batch(config.batch_size)\n",
        "nontest = data.skip(split)\n",
        "val_data, train_data = nontest.take(split).batch(config.batch_size), \\\n",
        "    nontest.skip(split).shuffle(config.buffer_size).batch(config.batch_size).prefetch(tf.data.experimental.AUTOTUNE)"
      ],
      "execution_count": 9,
      "outputs": []
    },
    {
      "cell_type": "code",
      "metadata": {
        "id": "W8WI1JiDy9J2"
      },
      "source": [
        "if use_tpu:\n",
        "  with strategy.scope():\n",
        "    model = build_model(L)\n",
        "else:\n",
        "  model = build_model(L)\n",
        "\n",
        "  decay_epochs = 50\n",
        "  decay_steps = N  // config.batch_size * decay_epochs\n",
        "  lr_decayed_fn = tf.keras.optimizers.schedules.CosineDecay(\n",
        "      config.lr, decay_steps, alpha=1e-3)\n",
        "  opt = tf.optimizers.Adam(lr_decayed_fn)\n",
        "  model.compile(\n",
        "      opt,\n",
        "      loss=tf.keras.losses.BinaryCrossentropy(from_logits=True),\n",
        "      steps_per_execution = 60 if use_tpu else None,\n",
        "      metrics=[tf.keras.metrics.AUC(from_logits=True), tf.keras.metrics.BinaryAccuracy(threshold=0)])"
      ],
      "execution_count": 10,
      "outputs": []
    },
    {
      "cell_type": "code",
      "source": [
        "model.summary()"
      ],
      "metadata": {
        "colab": {
          "base_uri": "https://localhost:8080/"
        },
        "id": "_M60Z2MiCmw9",
        "outputId": "7f1377ac-1a23-41c5-ff9f-f2e2e608c3bb"
      },
      "execution_count": 11,
      "outputs": [
        {
          "output_type": "stream",
          "name": "stdout",
          "text": [
            "Model: \"sol-rnn\"\n",
            "__________________________________________________________________________________________________\n",
            " Layer (type)                   Output Shape         Param #     Connected to                     \n",
            "==================================================================================================\n",
            " input_1 (InputLayer)           [(None, None)]       0           []                               \n",
            "                                                                                                  \n",
            " embedding (Embedding)          (None, None, 24)     504         ['input_1[0][0]']                \n",
            "                                                                                                  \n",
            " lstm (LSTM)                    (None, 32)           7296        ['embedding[0][0]']              \n",
            "                                                                                                  \n",
            " global_average_pooling1d (Glob  (None, 24)          0           ['embedding[0][0]']              \n",
            " alAveragePooling1D)                                                                              \n",
            "                                                                                                  \n",
            " concatenate (Concatenate)      (None, 56)           0           ['lstm[0][0]',                   \n",
            "                                                                  'global_average_pooling1d[0][0]'\n",
            "                                                                 ]                                \n",
            "                                                                                                  \n",
            " layer_normalization (LayerNorm  (None, 56)          112         ['concatenate[0][0]']            \n",
            " alization)                                                                                       \n",
            "                                                                                                  \n",
            " dropout (Dropout)              (None, 56)           0           ['layer_normalization[0][0]']    \n",
            "                                                                                                  \n",
            " dense (Dense)                  (None, 64)           3648        ['dropout[0][0]']                \n",
            "                                                                                                  \n",
            " layer_normalization_1 (LayerNo  (None, 64)          128         ['dense[0][0]']                  \n",
            " rmalization)                                                                                     \n",
            "                                                                                                  \n",
            " dropout_1 (Dropout)            (None, 64)           0           ['layer_normalization_1[0][0]']  \n",
            "                                                                                                  \n",
            " dense_1 (Dense)                (None, 16)           1040        ['dropout_1[0][0]']              \n",
            "                                                                                                  \n",
            " layer_normalization_2 (LayerNo  (None, 16)          32          ['dense_1[0][0]']                \n",
            " rmalization)                                                                                     \n",
            "                                                                                                  \n",
            " dropout_2 (Dropout)            (None, 16)           0           ['layer_normalization_2[0][0]']  \n",
            "                                                                                                  \n",
            " dense_2 (Dense)                (None, 1)            17          ['dropout_2[0][0]']              \n",
            "                                                                                                  \n",
            "==================================================================================================\n",
            "Total params: 12,777\n",
            "Trainable params: 12,777\n",
            "Non-trainable params: 0\n",
            "__________________________________________________________________________________________________\n"
          ]
        }
      ]
    },
    {
      "cell_type": "code",
      "metadata": {
        "colab": {
          "base_uri": "https://localhost:8080/"
        },
        "id": "mVSlO4VizO-N",
        "outputId": "5f6e99a0-eefe-4233-a6a8-7a50025b81ca"
      },
      "source": [
        "result = model.fit(\n",
        "    train_data, \n",
        "    validation_data=val_data, \n",
        "    callbacks=[tf.keras.callbacks.LambdaCallback(\n",
        "        on_epoch_begin=lambda epochs,logs: print('lr =',lr_decayed_fn(opt.iterations).numpy())\n",
        "        ),\n",
        "        tf.keras.callbacks.EarlyStopping(monitor='val_auc', mode='max', restore_best_weights=True, patience=25)],\n",
        "    epochs=150)\n",
        "\n"
      ],
      "execution_count": 12,
      "outputs": [
        {
          "output_type": "stream",
          "name": "stdout",
          "text": [
            "lr = 0.001\n",
            "Epoch 1/150\n",
            "360/360 [==============================] - 10s 13ms/step - loss: 0.6332 - auc: 0.7003 - binary_accuracy: 0.6453 - val_loss: 0.6025 - val_auc: 0.7379 - val_binary_accuracy: 0.6778\n",
            "lr = 0.0009993692\n",
            "Epoch 2/150\n",
            "360/360 [==============================] - 3s 9ms/step - loss: 0.6033 - auc: 0.7364 - binary_accuracy: 0.6752 - val_loss: 0.5995 - val_auc: 0.7394 - val_binary_accuracy: 0.6750\n",
            "lr = 0.000997478\n",
            "Epoch 3/150\n",
            "360/360 [==============================] - 3s 9ms/step - loss: 0.6028 - auc: 0.7374 - binary_accuracy: 0.6792 - val_loss: 0.6005 - val_auc: 0.7404 - val_binary_accuracy: 0.6681\n",
            "lr = 0.0009943316\n",
            "Epoch 4/150\n",
            "360/360 [==============================] - 3s 9ms/step - loss: 0.5979 - auc: 0.7422 - binary_accuracy: 0.6788 - val_loss: 0.6017 - val_auc: 0.7377 - val_binary_accuracy: 0.6722\n",
            "lr = 0.0009899377\n",
            "Epoch 5/150\n",
            "360/360 [==============================] - 3s 9ms/step - loss: 0.5954 - auc: 0.7455 - binary_accuracy: 0.6861 - val_loss: 0.5977 - val_auc: 0.7419 - val_binary_accuracy: 0.6694\n",
            "lr = 0.0009843074\n",
            "Epoch 6/150\n",
            "360/360 [==============================] - 3s 9ms/step - loss: 0.5873 - auc: 0.7539 - binary_accuracy: 0.6868 - val_loss: 0.5990 - val_auc: 0.7388 - val_binary_accuracy: 0.6847\n",
            "lr = 0.0009774549\n",
            "Epoch 7/150\n",
            "360/360 [==============================] - 3s 9ms/step - loss: 0.5883 - auc: 0.7527 - binary_accuracy: 0.6866 - val_loss: 0.6036 - val_auc: 0.7401 - val_binary_accuracy: 0.6764\n",
            "lr = 0.0009693976\n",
            "Epoch 8/150\n",
            "360/360 [==============================] - 3s 9ms/step - loss: 0.5842 - auc: 0.7558 - binary_accuracy: 0.6905 - val_loss: 0.6082 - val_auc: 0.7358 - val_binary_accuracy: 0.6708\n",
            "lr = 0.00096015586\n",
            "Epoch 9/150\n",
            "360/360 [==============================] - 3s 9ms/step - loss: 0.5811 - auc: 0.7591 - binary_accuracy: 0.6905 - val_loss: 0.6039 - val_auc: 0.7336 - val_binary_accuracy: 0.6792\n",
            "lr = 0.000949753\n",
            "Epoch 10/150\n",
            "360/360 [==============================] - 3s 9ms/step - loss: 0.5803 - auc: 0.7608 - binary_accuracy: 0.6911 - val_loss: 0.6067 - val_auc: 0.7331 - val_binary_accuracy: 0.6639\n",
            "lr = 0.0009382153\n",
            "Epoch 11/150\n",
            "360/360 [==============================] - 3s 9ms/step - loss: 0.5756 - auc: 0.7649 - binary_accuracy: 0.6965 - val_loss: 0.6118 - val_auc: 0.7369 - val_binary_accuracy: 0.6681\n",
            "lr = 0.0009255718\n",
            "Epoch 12/150\n",
            "360/360 [==============================] - 3s 9ms/step - loss: 0.5796 - auc: 0.7616 - binary_accuracy: 0.6922 - val_loss: 0.6031 - val_auc: 0.7421 - val_binary_accuracy: 0.6722\n",
            "lr = 0.00091185456\n",
            "Epoch 13/150\n",
            "360/360 [==============================] - 3s 9ms/step - loss: 0.5719 - auc: 0.7693 - binary_accuracy: 0.6998 - val_loss: 0.6084 - val_auc: 0.7342 - val_binary_accuracy: 0.6708\n",
            "lr = 0.0008970982\n",
            "Epoch 14/150\n",
            "360/360 [==============================] - 3s 9ms/step - loss: 0.5753 - auc: 0.7663 - binary_accuracy: 0.6948 - val_loss: 0.6078 - val_auc: 0.7341 - val_binary_accuracy: 0.6736\n",
            "lr = 0.00088134006\n",
            "Epoch 15/150\n",
            "360/360 [==============================] - 3s 9ms/step - loss: 0.5686 - auc: 0.7719 - binary_accuracy: 0.7030 - val_loss: 0.6026 - val_auc: 0.7409 - val_binary_accuracy: 0.6778\n",
            "lr = 0.0008646199\n",
            "Epoch 16/150\n",
            "360/360 [==============================] - 3s 9ms/step - loss: 0.5706 - auc: 0.7704 - binary_accuracy: 0.7017 - val_loss: 0.6051 - val_auc: 0.7366 - val_binary_accuracy: 0.6667\n",
            "lr = 0.00084697985\n",
            "Epoch 17/150\n",
            "360/360 [==============================] - 3s 9ms/step - loss: 0.5667 - auc: 0.7737 - binary_accuracy: 0.6976 - val_loss: 0.6099 - val_auc: 0.7347 - val_binary_accuracy: 0.6722\n",
            "lr = 0.00082846463\n",
            "Epoch 18/150\n",
            "360/360 [==============================] - 3s 9ms/step - loss: 0.5628 - auc: 0.7774 - binary_accuracy: 0.7012 - val_loss: 0.6023 - val_auc: 0.7369 - val_binary_accuracy: 0.6764\n",
            "lr = 0.00080912095\n",
            "Epoch 19/150\n",
            "360/360 [==============================] - 3s 9ms/step - loss: 0.5591 - auc: 0.7808 - binary_accuracy: 0.7014 - val_loss: 0.6124 - val_auc: 0.7309 - val_binary_accuracy: 0.6722\n",
            "lr = 0.0007889976\n",
            "Epoch 20/150\n",
            "360/360 [==============================] - 3s 9ms/step - loss: 0.5598 - auc: 0.7807 - binary_accuracy: 0.7066 - val_loss: 0.6079 - val_auc: 0.7354 - val_binary_accuracy: 0.6750\n",
            "lr = 0.0007681455\n",
            "Epoch 21/150\n",
            "360/360 [==============================] - 3s 9ms/step - loss: 0.5621 - auc: 0.7786 - binary_accuracy: 0.7054 - val_loss: 0.6157 - val_auc: 0.7323 - val_binary_accuracy: 0.6681\n",
            "lr = 0.00074661727\n",
            "Epoch 22/150\n",
            "360/360 [==============================] - 3s 9ms/step - loss: 0.5541 - auc: 0.7868 - binary_accuracy: 0.7128 - val_loss: 0.6174 - val_auc: 0.7338 - val_binary_accuracy: 0.6681\n",
            "lr = 0.0007244674\n",
            "Epoch 23/150\n",
            "360/360 [==============================] - 3s 9ms/step - loss: 0.5502 - auc: 0.7906 - binary_accuracy: 0.7132 - val_loss: 0.6295 - val_auc: 0.7242 - val_binary_accuracy: 0.6625\n",
            "lr = 0.0007017518\n",
            "Epoch 24/150\n",
            "360/360 [==============================] - 3s 9ms/step - loss: 0.5540 - auc: 0.7885 - binary_accuracy: 0.7146 - val_loss: 0.6225 - val_auc: 0.7231 - val_binary_accuracy: 0.6583\n",
            "lr = 0.00067852775\n",
            "Epoch 25/150\n",
            "360/360 [==============================] - 3s 9ms/step - loss: 0.5481 - auc: 0.7920 - binary_accuracy: 0.7139 - val_loss: 0.6242 - val_auc: 0.7319 - val_binary_accuracy: 0.6639\n",
            "lr = 0.000654854\n",
            "Epoch 26/150\n",
            "360/360 [==============================] - 3s 9ms/step - loss: 0.5443 - auc: 0.7962 - binary_accuracy: 0.7231 - val_loss: 0.6197 - val_auc: 0.7259 - val_binary_accuracy: 0.6583\n",
            "lr = 0.00063079025\n",
            "Epoch 27/150\n",
            "360/360 [==============================] - 3s 9ms/step - loss: 0.5430 - auc: 0.7964 - binary_accuracy: 0.7161 - val_loss: 0.6247 - val_auc: 0.7309 - val_binary_accuracy: 0.6611\n",
            "lr = 0.0006063975\n",
            "Epoch 28/150\n",
            "360/360 [==============================] - 3s 9ms/step - loss: 0.5409 - auc: 0.7974 - binary_accuracy: 0.7137 - val_loss: 0.6219 - val_auc: 0.7281 - val_binary_accuracy: 0.6625\n",
            "lr = 0.0005817372\n",
            "Epoch 29/150\n",
            "360/360 [==============================] - 3s 9ms/step - loss: 0.5406 - auc: 0.7975 - binary_accuracy: 0.7160 - val_loss: 0.6235 - val_auc: 0.7295 - val_binary_accuracy: 0.6569\n",
            "lr = 0.0005568718\n",
            "Epoch 30/150\n",
            "360/360 [==============================] - 3s 9ms/step - loss: 0.5364 - auc: 0.8036 - binary_accuracy: 0.7243 - val_loss: 0.6300 - val_auc: 0.7166 - val_binary_accuracy: 0.6639\n",
            "lr = 0.0005318639\n",
            "Epoch 31/150\n",
            "360/360 [==============================] - 3s 9ms/step - loss: 0.5420 - auc: 0.7976 - binary_accuracy: 0.7200 - val_loss: 0.6217 - val_auc: 0.7242 - val_binary_accuracy: 0.6611\n",
            "lr = 0.0005067768\n",
            "Epoch 32/150\n",
            "360/360 [==============================] - 3s 9ms/step - loss: 0.5321 - auc: 0.8063 - binary_accuracy: 0.7252 - val_loss: 0.6287 - val_auc: 0.7220 - val_binary_accuracy: 0.6500\n",
            "lr = 0.0004816737\n",
            "Epoch 33/150\n",
            "360/360 [==============================] - 3s 9ms/step - loss: 0.5297 - auc: 0.8084 - binary_accuracy: 0.7260 - val_loss: 0.6375 - val_auc: 0.7226 - val_binary_accuracy: 0.6611\n",
            "lr = 0.00045661835\n",
            "Epoch 34/150\n",
            "360/360 [==============================] - 3s 9ms/step - loss: 0.5307 - auc: 0.8071 - binary_accuracy: 0.7288 - val_loss: 0.6274 - val_auc: 0.7230 - val_binary_accuracy: 0.6472\n",
            "lr = 0.0004316737\n",
            "Epoch 35/150\n",
            "360/360 [==============================] - 3s 9ms/step - loss: 0.5254 - auc: 0.8122 - binary_accuracy: 0.7281 - val_loss: 0.6295 - val_auc: 0.7237 - val_binary_accuracy: 0.6556\n",
            "lr = 0.00040690304\n",
            "Epoch 36/150\n",
            "360/360 [==============================] - 3s 9ms/step - loss: 0.5238 - auc: 0.8140 - binary_accuracy: 0.7323 - val_loss: 0.6367 - val_auc: 0.7183 - val_binary_accuracy: 0.6389\n",
            "lr = 0.0003823688\n",
            "Epoch 37/150\n",
            "360/360 [==============================] - 3s 9ms/step - loss: 0.5212 - auc: 0.8161 - binary_accuracy: 0.7319 - val_loss: 0.6399 - val_auc: 0.7233 - val_binary_accuracy: 0.6528\n"
          ]
        }
      ]
    },
    {
      "cell_type": "code",
      "metadata": {
        "colab": {
          "base_uri": "https://localhost:8080/",
          "height": 284
        },
        "id": "8p0C2kHV2vrW",
        "outputId": "fc2d8f7e-aa19-40d0-98c7-92fea42b221b"
      },
      "source": [
        "plt.plot(result.history['val_binary_accuracy'])\n",
        "test_result = model.evaluate(test_data)\n",
        "plt.show()"
      ],
      "execution_count": 15,
      "outputs": [
        {
          "output_type": "stream",
          "name": "stdout",
          "text": [
            "45/45 [==============================] - 0s 4ms/step - loss: 0.5941 - auc: 0.7507 - binary_accuracy: 0.6847\n"
          ]
        },
        {
          "output_type": "display_data",
          "data": {
            "image/png": "[encoded data removed]",
            "text/plain": [
              "<Figure size 432x288 with 1 Axes>"
            ]
          },
          "metadata": {
            "needs_background": "light"
          }
        }
      ]
    },
    {
      "cell_type": "code",
      "source": [
        "inference_model = build_infer_model(L)\n",
        "\n",
        "inference_model.set_weights(model.get_weights())"
      ],
      "metadata": {
        "id": "rOfgoKtsU1K-"
      },
      "execution_count": 16,
      "outputs": []
    },
    {
      "cell_type": "code",
      "metadata": {
        "id": "vm_yXNslzRGu",
        "colab": {
          "base_uri": "https://localhost:8080/"
        },
        "outputId": "aff6d773-c777-43db-a9bd-4158f3bf5d14"
      },
      "source": [
        "inference_model(np.array([1,1,1,1]).reshape(1,-1))"
      ],
      "execution_count": 17,
      "outputs": [
        {
          "output_type": "execute_result",
          "data": {
            "text/plain": [
              "<tf.Tensor: shape=(1, 1), dtype=float32, numpy=array([[0.19998024]], dtype=float32)>"
            ]
          },
          "metadata": {},
          "execution_count": 17
        }
      ]
    },
    {
      "cell_type": "code",
      "metadata": {
        "id": "aDvdjpMmz7UA",
        "colab": {
          "base_uri": "https://localhost:8080/"
        },
        "outputId": "fe130499-6657-4f74-81a4-132c73798c85"
      },
      "source": [
        "tfjs.converters.save_keras_model(inference_model, \"tfjs_model\")"
      ],
      "execution_count": 18,
      "outputs": [
        {
          "output_type": "stream",
          "name": "stdout",
          "text": [
            "WARNING:tensorflow:Compiled the loaded model, but the compiled metrics have yet to be built. `model.compile_metrics` will be empty until you train or evaluate the model.\n"
          ]
        }
      ]
    },
    {
      "cell_type": "markdown",
      "source": [
        "# Model Card"
      ],
      "metadata": {
        "id": "bCdM_rbZfmDQ"
      }
    },
    {
      "cell_type": "code",
      "source": [
        "model_card = {\n",
        "    'title': 'Nonfouling Prediction',\n",
        "    'details': 'Recurrent (GRU) neural network for predicting resistance to non-specific interactions (nonfouling). Developed by Andrew White using data from Barrett 2018.',\n",
        "    'use': 'Short peptides between 2 and 20 residues',\n",
        "    'factors': 'The dataset was gathered based on mechanism proposed in White 2012',\n",
        "    'metrics': f'Test accuracy {np.mean(test_result):.2f}',\n",
        "    'evaluation': 'Withheld positive and negative examples',\n",
        "    'training': f'{len(pos_data) + len(neg_data)} positive and negative sequences',\n",
        "    'caveats': 'This data is mostly short sequences. The mechanism is indirect.',\n",
        "    'ethics': 'None noted'\n",
        "}\n",
        "with open('card.json', 'w') as f:\n",
        "  json.dump(model_card, f)"
      ],
      "metadata": {
        "id": "8x0RLsUSfmdR"
      },
      "execution_count": 19,
      "outputs": []
    }
  ]
}