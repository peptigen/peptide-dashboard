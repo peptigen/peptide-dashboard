{
  "nbformat": 4,
  "nbformat_minor": 0,
  "metadata": {
    "colab": {
      "name": "Hemo_unirep+logistic_regression.ipynb",
      "provenance": [],
      "collapsed_sections": []
    },
    "kernelspec": {
      "name": "python3",
      "display_name": "Python 3"
    },
    "language_info": {
      "name": "python"
    }
  },
  "cells": [
    {
      "cell_type": "code",
      "execution_count": 1,
      "metadata": {
        "colab": {
          "base_uri": "https://localhost:8080/"
        },
        "id": "lFh6S6oFVs8u",
        "outputId": "dbdbe1cb-518d-4dcf-a61a-dd63dff9c242"
      },
      "outputs": [
        {
          "output_type": "stream",
          "name": "stdout",
          "text": [
            "\u001b[K     |████████████████████████████████| 77 kB 1.4 MB/s \n",
            "\u001b[K     |████████████████████████████████| 462 kB 10.9 MB/s \n",
            "\u001b[?25hCollecting jax-unirep\n",
            "  Downloading jax_unirep-2.1.0-py3-none-any.whl (77.0 MB)\n",
            "\u001b[K     |████████████████████████████████| 77.0 MB 64 kB/s \n",
            "\u001b[?25hRequirement already satisfied: scikit-learn in /usr/local/lib/python3.7/dist-packages (from jax-unirep) (1.0.2)\n",
            "Requirement already satisfied: numpy in /usr/local/lib/python3.7/dist-packages (from jax-unirep) (1.21.5)\n",
            "Requirement already satisfied: jaxlib in /usr/local/lib/python3.7/dist-packages (from jax-unirep) (0.1.71+cuda111)\n",
            "Requirement already satisfied: jax in /usr/local/lib/python3.7/dist-packages (from jax-unirep) (0.2.25)\n",
            "Requirement already satisfied: tqdm in /usr/local/lib/python3.7/dist-packages (from jax-unirep) (4.62.3)\n",
            "Collecting multipledispatch\n",
            "  Downloading multipledispatch-0.6.0-py3-none-any.whl (11 kB)\n",
            "Collecting optuna\n",
            "  Downloading optuna-2.10.0-py3-none-any.whl (308 kB)\n",
            "\u001b[K     |████████████████████████████████| 308 kB 57.0 MB/s \n",
            "\u001b[?25hRequirement already satisfied: opt-einsum in /usr/local/lib/python3.7/dist-packages (from jax->jax-unirep) (3.3.0)\n",
            "Requirement already satisfied: absl-py in /usr/local/lib/python3.7/dist-packages (from jax->jax-unirep) (1.0.0)\n",
            "Requirement already satisfied: typing-extensions in /usr/local/lib/python3.7/dist-packages (from jax->jax-unirep) (3.10.0.2)\n",
            "Requirement already satisfied: scipy>=1.2.1 in /usr/local/lib/python3.7/dist-packages (from jax->jax-unirep) (1.4.1)\n",
            "Requirement already satisfied: six in /usr/local/lib/python3.7/dist-packages (from absl-py->jax->jax-unirep) (1.15.0)\n",
            "Requirement already satisfied: flatbuffers<3.0,>=1.12 in /usr/local/lib/python3.7/dist-packages (from jaxlib->jax-unirep) (2.0)\n",
            "Collecting cmaes>=0.8.2\n",
            "  Downloading cmaes-0.8.2-py3-none-any.whl (15 kB)\n",
            "Collecting alembic\n",
            "  Downloading alembic-1.7.6-py3-none-any.whl (210 kB)\n",
            "\u001b[K     |████████████████████████████████| 210 kB 66.1 MB/s \n",
            "\u001b[?25hRequirement already satisfied: packaging>=20.0 in /usr/local/lib/python3.7/dist-packages (from optuna->jax-unirep) (21.3)\n",
            "Collecting cliff\n",
            "  Downloading cliff-3.10.1-py3-none-any.whl (81 kB)\n",
            "\u001b[K     |████████████████████████████████| 81 kB 7.8 MB/s \n",
            "\u001b[?25hRequirement already satisfied: PyYAML in /usr/local/lib/python3.7/dist-packages (from optuna->jax-unirep) (3.13)\n",
            "Requirement already satisfied: sqlalchemy>=1.1.0 in /usr/local/lib/python3.7/dist-packages (from optuna->jax-unirep) (1.4.31)\n",
            "Collecting colorlog\n",
            "  Downloading colorlog-6.6.0-py2.py3-none-any.whl (11 kB)\n",
            "Requirement already satisfied: pyparsing!=3.0.5,>=2.0.2 in /usr/local/lib/python3.7/dist-packages (from packaging>=20.0->optuna->jax-unirep) (3.0.7)\n",
            "Requirement already satisfied: greenlet!=0.4.17 in /usr/local/lib/python3.7/dist-packages (from sqlalchemy>=1.1.0->optuna->jax-unirep) (1.1.2)\n",
            "Requirement already satisfied: importlib-metadata in /usr/local/lib/python3.7/dist-packages (from sqlalchemy>=1.1.0->optuna->jax-unirep) (4.11.1)\n",
            "Collecting Mako\n",
            "  Downloading Mako-1.1.6-py2.py3-none-any.whl (75 kB)\n",
            "\u001b[K     |████████████████████████████████| 75 kB 3.7 MB/s \n",
            "\u001b[?25hRequirement already satisfied: importlib-resources in /usr/local/lib/python3.7/dist-packages (from alembic->optuna->jax-unirep) (5.4.0)\n",
            "Collecting cmd2>=1.0.0\n",
            "  Downloading cmd2-2.4.0-py3-none-any.whl (150 kB)\n",
            "\u001b[K     |████████████████████████████████| 150 kB 48.6 MB/s \n",
            "\u001b[?25hCollecting stevedore>=2.0.1\n",
            "  Downloading stevedore-3.5.0-py3-none-any.whl (49 kB)\n",
            "\u001b[K     |████████████████████████████████| 49 kB 5.0 MB/s \n",
            "\u001b[?25hCollecting autopage>=0.4.0\n",
            "  Downloading autopage-0.5.0-py3-none-any.whl (29 kB)\n",
            "Collecting pbr!=2.1.0,>=2.0.0\n",
            "  Downloading pbr-5.8.1-py2.py3-none-any.whl (113 kB)\n",
            "\u001b[K     |████████████████████████████████| 113 kB 44.7 MB/s \n",
            "\u001b[?25hRequirement already satisfied: PrettyTable>=0.7.2 in /usr/local/lib/python3.7/dist-packages (from cliff->optuna->jax-unirep) (3.1.1)\n",
            "Requirement already satisfied: wcwidth>=0.1.7 in /usr/local/lib/python3.7/dist-packages (from cmd2>=1.0.0->cliff->optuna->jax-unirep) (0.2.5)\n",
            "Collecting pyperclip>=1.6\n",
            "  Downloading pyperclip-1.8.2.tar.gz (20 kB)\n",
            "Requirement already satisfied: attrs>=16.3.0 in /usr/local/lib/python3.7/dist-packages (from cmd2>=1.0.0->cliff->optuna->jax-unirep) (21.4.0)\n",
            "Requirement already satisfied: zipp>=0.5 in /usr/local/lib/python3.7/dist-packages (from importlib-metadata->sqlalchemy>=1.1.0->optuna->jax-unirep) (3.7.0)\n",
            "Requirement already satisfied: MarkupSafe>=0.9.2 in /usr/local/lib/python3.7/dist-packages (from Mako->alembic->optuna->jax-unirep) (2.0.1)\n",
            "Requirement already satisfied: threadpoolctl>=2.0.0 in /usr/local/lib/python3.7/dist-packages (from scikit-learn->jax-unirep) (3.1.0)\n",
            "Requirement already satisfied: joblib>=0.11 in /usr/local/lib/python3.7/dist-packages (from scikit-learn->jax-unirep) (1.1.0)\n",
            "Building wheels for collected packages: pyperclip\n",
            "  Building wheel for pyperclip (setup.py) ... \u001b[?25l\u001b[?25hdone\n",
            "  Created wheel for pyperclip: filename=pyperclip-1.8.2-py3-none-any.whl size=11137 sha256=a543bceb198852921bddf4df74a7424c631ef3d24826f311a3f1eda1f343a497\n",
            "  Stored in directory: /root/.cache/pip/wheels/9f/18/84/8f69f8b08169c7bae2dde6bd7daf0c19fca8c8e500ee620a28\n",
            "Successfully built pyperclip\n",
            "Installing collected packages: pyperclip, pbr, stevedore, Mako, cmd2, autopage, colorlog, cmaes, cliff, alembic, optuna, multipledispatch, jax-unirep\n",
            "Successfully installed Mako-1.1.6 alembic-1.7.6 autopage-0.5.0 cliff-3.10.1 cmaes-0.8.2 cmd2-2.4.0 colorlog-6.6.0 jax-unirep-2.1.0 multipledispatch-0.6.0 optuna-2.10.0 pbr-5.8.1 pyperclip-1.8.2 stevedore-3.5.0\n",
            "NVIDIA-SMI has failed because it couldn't communicate with the NVIDIA driver. Make sure that the latest NVIDIA driver is installed and running.\n",
            "\n"
          ]
        }
      ],
      "source": [
        "!pip install -q tensorflowjs\n",
        "!pip install jax-unirep\n",
        "!nvidia-smi"
      ]
    },
    {
      "cell_type": "code",
      "source": [
        "#@title Runtime\n",
        "use_tpu = False #@param"
      ],
      "metadata": {
        "id": "ga7cEinOWF_V"
      },
      "execution_count": 2,
      "outputs": []
    },
    {
      "cell_type": "code",
      "source": [
        "import matplotlib.pyplot as plt\n",
        "import matplotlib as mpl\n",
        "import numpy as np\n",
        "import os\n",
        "import tensorflow as tf\n",
        "import urllib\n",
        "from dataclasses import dataclass\n",
        "import tensorflowjs as tfjs\n",
        "import json\n",
        "np.random.seed(0)"
      ],
      "metadata": {
        "id": "PGuu-EODWUdT"
      },
      "execution_count": 3,
      "outputs": []
    },
    {
      "cell_type": "code",
      "source": [
        "urllib.request.urlretrieve(\n",
        "    \"https://github.com/ur-whitelab/peptide-dashboard/raw/master/ml/data/hemo-positive.npz\",\n",
        "    \"positive.npz\",\n",
        ")\n",
        "urllib.request.urlretrieve(\n",
        "    \"https://github.com/ur-whitelab/peptide-dashboard/raw/master/ml/data/hemo-negative.npz\",\n",
        "    \"negative.npz\",\n",
        ")\n",
        "with np.load(\"positive.npz\") as r:\n",
        "    pos_data = r[list(r.keys())[0]]\n",
        "with np.load(\"negative.npz\") as r:\n",
        "    neg_data = r[list(r.keys())[0]]\n",
        "\n",
        "# create labels and stich it all into one\n",
        "# tensor\n",
        "labels = np.concatenate(\n",
        "    (\n",
        "        np.ones((pos_data.shape[0], 1), dtype=pos_data.dtype),\n",
        "        np.zeros((neg_data.shape[0], 1), dtype=pos_data.dtype),\n",
        "    ),\n",
        "    axis=0,\n",
        ")\n",
        "\n",
        "features = np.concatenate((pos_data, neg_data), axis=0)"
      ],
      "metadata": {
        "id": "38RNgGFYWWfl"
      },
      "execution_count": 4,
      "outputs": []
    },
    {
      "cell_type": "code",
      "source": [
        "print('Positive data', pos_data.shape[0])\n",
        "print('Negative data', neg_data.shape[0])"
      ],
      "metadata": {
        "colab": {
          "base_uri": "https://localhost:8080/"
        },
        "id": "i_kMyH1bWZZk",
        "outputId": "880c6bcc-fe61-4958-aeff-32699a1a539c"
      },
      "execution_count": 5,
      "outputs": [
        {
          "output_type": "stream",
          "name": "stdout",
          "text": [
            "Positive data 1826\n",
            "Negative data 7490\n"
          ]
        }
      ]
    },
    {
      "cell_type": "code",
      "source": [
        "def decoder(seq_vector):\n",
        "  alphabet = ['A','R','N','D','C','Q','E','G','H','I', 'L','K','M','F','P','S','T','W','Y','V']\n",
        "  seq = []\n",
        "  for i, index in enumerate(seq_vector):\n",
        "    if index == 0:\n",
        "      break\n",
        "    seq.append(alphabet[index-1])\n",
        "  seq = ''.join(seq)\n",
        "  return seq\n",
        "\n",
        "decoded_features = []\n",
        "for f in features:\n",
        "  decoded_features.append(decoder(f))"
      ],
      "metadata": {
        "id": "W8sLJCVrWjsC"
      },
      "execution_count": 38,
      "outputs": []
    },
    {
      "cell_type": "code",
      "source": [
        "# Generating UniRep representations\n",
        "from jax_unirep import get_reps\n",
        "h_avg, h_final, c_final = get_reps(decoded_features)\n",
        "unirep_features = h_avg"
      ],
      "metadata": {
        "id": "u5lGaswWYRu8"
      },
      "execution_count": 39,
      "outputs": []
    },
    {
      "cell_type": "code",
      "source": [
        "@dataclass\n",
        "class Config:\n",
        "    batch_size: int\n",
        "    buffer_size: int\n",
        "    reg_strength: float\n",
        "    lr: float\n",
        "    drop_rate: float\n",
        "        \n",
        "config = Config(\n",
        "                batch_size=32, \n",
        "                buffer_size=10000,\n",
        "                reg_strength=0,\n",
        "                lr=1e-2,\n",
        "                drop_rate=0.1\n",
        "               )"
      ],
      "metadata": {
        "id": "oBESK35NYtcw"
      },
      "execution_count": 167,
      "outputs": []
    },
    {
      "cell_type": "code",
      "source": [
        "def build_model(L):\n",
        "    inputs = tf.keras.Input(shape=(L,))\n",
        "\n",
        "    yhat = tf.keras.layers.Dense(1, activation='sigmoid')(inputs)\n",
        "\n",
        "    model = tf.keras.Model(inputs=inputs, outputs=yhat, name='hemo-unirep-logistic')\n",
        "    return model"
      ],
      "metadata": {
        "id": "aGkLXYndZ9H-"
      },
      "execution_count": 168,
      "outputs": []
    },
    {
      "cell_type": "code",
      "source": [
        "# we now need to shuffle before creating TF dataset\n",
        "# so that our train/test/val splits are random\n",
        "i = np.arange(len(labels))\n",
        "np.random.shuffle(i)\n",
        "labels = labels[i]\n",
        "unirep_features = unirep_features[i]\n",
        "data = tf.data.Dataset.from_tensor_slices((unirep_features, labels))\n",
        "# now split into val, test, train and batch\n",
        "N = len(data)  \n",
        "L = unirep_features.shape[-1]\n",
        "split = int(0.1 * N)\n",
        "test_data = data.take(split).batch(config.batch_size)\n",
        "nontest = data.skip(split)\n",
        "val_data, train_data = nontest.take(split).batch(config.batch_size), \\\n",
        "    nontest.skip(split).shuffle(config.buffer_size).batch(config.batch_size).prefetch(tf.data.experimental.AUTOTUNE)"
      ],
      "metadata": {
        "id": "ssuOvkDAaFz5"
      },
      "execution_count": 169,
      "outputs": []
    },
    {
      "cell_type": "code",
      "source": [
        "tf.keras.backend.clear_session()\n",
        "model = build_model(L)\n",
        "decay_epochs = 50\n",
        "decay_steps = N  // config.batch_size * decay_epochs\n",
        "lr_decayed_fn = tf.keras.optimizers.schedules.CosineDecay(\n",
        "    config.lr, decay_steps, alpha=1e-3)\n",
        "opt = tf.optimizers.Adam(lr_decayed_fn)\n",
        "# opt = tf.optimizers.Adam(1e-3)\n",
        "model.compile(\n",
        "    opt,\n",
        "    loss=tf.keras.losses.BinaryCrossentropy(from_logits=False),\n",
        "    steps_per_execution = 60 if use_tpu else None,\n",
        "    metrics=[tf.keras.metrics.AUC(from_logits=False), tf.keras.metrics.BinaryAccuracy(threshold=0.5)])"
      ],
      "metadata": {
        "id": "oc9L8meDa9sv"
      },
      "execution_count": 170,
      "outputs": []
    },
    {
      "cell_type": "code",
      "source": [
        "model.summary()"
      ],
      "metadata": {
        "colab": {
          "base_uri": "https://localhost:8080/"
        },
        "id": "19MEn3eQbDEn",
        "outputId": "34d32a5f-09ca-46e1-b16e-0875954b7322"
      },
      "execution_count": 171,
      "outputs": [
        {
          "output_type": "stream",
          "name": "stdout",
          "text": [
            "Model: \"hemo-unirep-logistic\"\n",
            "_________________________________________________________________\n",
            " Layer (type)                Output Shape              Param #   \n",
            "=================================================================\n",
            " input_1 (InputLayer)        [(None, 1900)]            0         \n",
            "                                                                 \n",
            " dense (Dense)               (None, 1)                 1901      \n",
            "                                                                 \n",
            "=================================================================\n",
            "Total params: 1,901\n",
            "Trainable params: 1,901\n",
            "Non-trainable params: 0\n",
            "_________________________________________________________________\n"
          ]
        }
      ]
    },
    {
      "cell_type": "code",
      "source": [
        "result = model.fit(\n",
        "    train_data, \n",
        "    validation_data=val_data, \n",
        "    callbacks=[tf.keras.callbacks.EarlyStopping(monitor='val_auc', mode='max', restore_best_weights=True, patience=10)],\n",
        "    epochs=150, batch_size=config.batch_size)"
      ],
      "metadata": {
        "colab": {
          "base_uri": "https://localhost:8080/"
        },
        "id": "uXX3Y0FGbELF",
        "outputId": "ae2151d3-9259-4b45-f03e-7b6956772b6b"
      },
      "execution_count": 172,
      "outputs": [
        {
          "output_type": "stream",
          "name": "stdout",
          "text": [
            "Epoch 1/150\n",
            "233/233 [==============================] - 2s 5ms/step - loss: 0.4738 - auc: 0.6676 - binary_accuracy: 0.8009 - val_loss: 0.4557 - val_auc: 0.7273 - val_binary_accuracy: 0.7981\n",
            "Epoch 2/150\n",
            "233/233 [==============================] - 1s 4ms/step - loss: 0.4435 - auc: 0.7239 - binary_accuracy: 0.8091 - val_loss: 0.4453 - val_auc: 0.7487 - val_binary_accuracy: 0.8034\n",
            "Epoch 3/150\n",
            "233/233 [==============================] - 1s 4ms/step - loss: 0.4298 - auc: 0.7524 - binary_accuracy: 0.8138 - val_loss: 0.4341 - val_auc: 0.7602 - val_binary_accuracy: 0.8163\n",
            "Epoch 4/150\n",
            "233/233 [==============================] - 1s 4ms/step - loss: 0.4195 - auc: 0.7683 - binary_accuracy: 0.8204 - val_loss: 0.4642 - val_auc: 0.7490 - val_binary_accuracy: 0.8077\n",
            "Epoch 5/150\n",
            "233/233 [==============================] - 1s 4ms/step - loss: 0.4236 - auc: 0.7631 - binary_accuracy: 0.8122 - val_loss: 0.4594 - val_auc: 0.7624 - val_binary_accuracy: 0.8056\n",
            "Epoch 6/150\n",
            "233/233 [==============================] - 1s 3ms/step - loss: 0.4065 - auc: 0.7883 - binary_accuracy: 0.8198 - val_loss: 0.4212 - val_auc: 0.7627 - val_binary_accuracy: 0.8271\n",
            "Epoch 7/150\n",
            "233/233 [==============================] - 1s 3ms/step - loss: 0.4135 - auc: 0.7789 - binary_accuracy: 0.8213 - val_loss: 0.4253 - val_auc: 0.7739 - val_binary_accuracy: 0.8110\n",
            "Epoch 8/150\n",
            "233/233 [==============================] - 1s 4ms/step - loss: 0.4038 - auc: 0.7942 - binary_accuracy: 0.8243 - val_loss: 0.4922 - val_auc: 0.7531 - val_binary_accuracy: 0.8088\n",
            "Epoch 9/150\n",
            "233/233 [==============================] - 1s 3ms/step - loss: 0.4023 - auc: 0.7942 - binary_accuracy: 0.8230 - val_loss: 0.4333 - val_auc: 0.7647 - val_binary_accuracy: 0.8281\n",
            "Epoch 10/150\n",
            "233/233 [==============================] - 1s 3ms/step - loss: 0.3971 - auc: 0.8017 - binary_accuracy: 0.8241 - val_loss: 0.4287 - val_auc: 0.7752 - val_binary_accuracy: 0.8281\n",
            "Epoch 11/150\n",
            "233/233 [==============================] - 1s 4ms/step - loss: 0.3987 - auc: 0.8012 - binary_accuracy: 0.8236 - val_loss: 0.4959 - val_auc: 0.7859 - val_binary_accuracy: 0.8034\n",
            "Epoch 12/150\n",
            "233/233 [==============================] - 1s 3ms/step - loss: 0.3884 - auc: 0.8114 - binary_accuracy: 0.8275 - val_loss: 0.4074 - val_auc: 0.7869 - val_binary_accuracy: 0.8367\n",
            "Epoch 13/150\n",
            "233/233 [==============================] - 1s 3ms/step - loss: 0.3858 - auc: 0.8169 - binary_accuracy: 0.8292 - val_loss: 0.4220 - val_auc: 0.7869 - val_binary_accuracy: 0.8281\n",
            "Epoch 14/150\n",
            "233/233 [==============================] - 1s 3ms/step - loss: 0.3881 - auc: 0.8119 - binary_accuracy: 0.8283 - val_loss: 0.4185 - val_auc: 0.7790 - val_binary_accuracy: 0.8217\n",
            "Epoch 15/150\n",
            "233/233 [==============================] - 1s 3ms/step - loss: 0.3926 - auc: 0.8075 - binary_accuracy: 0.8290 - val_loss: 0.4683 - val_auc: 0.7915 - val_binary_accuracy: 0.7970\n",
            "Epoch 16/150\n",
            "233/233 [==============================] - 1s 3ms/step - loss: 0.3874 - auc: 0.8121 - binary_accuracy: 0.8339 - val_loss: 0.4039 - val_auc: 0.7934 - val_binary_accuracy: 0.8346\n",
            "Epoch 17/150\n",
            "233/233 [==============================] - 1s 3ms/step - loss: 0.3813 - auc: 0.8224 - binary_accuracy: 0.8300 - val_loss: 0.4116 - val_auc: 0.7836 - val_binary_accuracy: 0.8292\n",
            "Epoch 18/150\n",
            "233/233 [==============================] - 1s 4ms/step - loss: 0.3859 - auc: 0.8142 - binary_accuracy: 0.8335 - val_loss: 0.4333 - val_auc: 0.7850 - val_binary_accuracy: 0.8303\n",
            "Epoch 19/150\n",
            "233/233 [==============================] - 1s 4ms/step - loss: 0.3889 - auc: 0.8144 - binary_accuracy: 0.8285 - val_loss: 0.4161 - val_auc: 0.7884 - val_binary_accuracy: 0.8324\n",
            "Epoch 20/150\n",
            "233/233 [==============================] - 1s 4ms/step - loss: 0.3729 - auc: 0.8329 - binary_accuracy: 0.8334 - val_loss: 0.4257 - val_auc: 0.7899 - val_binary_accuracy: 0.8314\n",
            "Epoch 21/150\n",
            "233/233 [==============================] - 1s 3ms/step - loss: 0.3769 - auc: 0.8276 - binary_accuracy: 0.8340 - val_loss: 0.4060 - val_auc: 0.7921 - val_binary_accuracy: 0.8367\n",
            "Epoch 22/150\n",
            "233/233 [==============================] - 1s 4ms/step - loss: 0.3694 - auc: 0.8351 - binary_accuracy: 0.8366 - val_loss: 0.4028 - val_auc: 0.7954 - val_binary_accuracy: 0.8260\n",
            "Epoch 23/150\n",
            "233/233 [==============================] - 1s 3ms/step - loss: 0.3709 - auc: 0.8348 - binary_accuracy: 0.8365 - val_loss: 0.4031 - val_auc: 0.7927 - val_binary_accuracy: 0.8453\n",
            "Epoch 24/150\n",
            "233/233 [==============================] - 1s 4ms/step - loss: 0.3669 - auc: 0.8386 - binary_accuracy: 0.8389 - val_loss: 0.4139 - val_auc: 0.7919 - val_binary_accuracy: 0.8271\n",
            "Epoch 25/150\n",
            "233/233 [==============================] - 1s 4ms/step - loss: 0.3661 - auc: 0.8402 - binary_accuracy: 0.8353 - val_loss: 0.4058 - val_auc: 0.7972 - val_binary_accuracy: 0.8378\n",
            "Epoch 26/150\n",
            "233/233 [==============================] - 1s 4ms/step - loss: 0.3697 - auc: 0.8338 - binary_accuracy: 0.8335 - val_loss: 0.4087 - val_auc: 0.7934 - val_binary_accuracy: 0.8314\n",
            "Epoch 27/150\n",
            "233/233 [==============================] - 1s 4ms/step - loss: 0.3639 - auc: 0.8437 - binary_accuracy: 0.8375 - val_loss: 0.3990 - val_auc: 0.7981 - val_binary_accuracy: 0.8400\n",
            "Epoch 28/150\n",
            "233/233 [==============================] - 1s 4ms/step - loss: 0.3625 - auc: 0.8433 - binary_accuracy: 0.8362 - val_loss: 0.4163 - val_auc: 0.7998 - val_binary_accuracy: 0.8271\n",
            "Epoch 29/150\n",
            "233/233 [==============================] - 1s 3ms/step - loss: 0.3671 - auc: 0.8380 - binary_accuracy: 0.8378 - val_loss: 0.3966 - val_auc: 0.8025 - val_binary_accuracy: 0.8410\n",
            "Epoch 30/150\n",
            "233/233 [==============================] - 1s 3ms/step - loss: 0.3605 - auc: 0.8467 - binary_accuracy: 0.8381 - val_loss: 0.4038 - val_auc: 0.7974 - val_binary_accuracy: 0.8400\n",
            "Epoch 31/150\n",
            "233/233 [==============================] - 1s 4ms/step - loss: 0.3595 - auc: 0.8461 - binary_accuracy: 0.8410 - val_loss: 0.3974 - val_auc: 0.8010 - val_binary_accuracy: 0.8346\n",
            "Epoch 32/150\n",
            "233/233 [==============================] - 1s 3ms/step - loss: 0.3563 - auc: 0.8503 - binary_accuracy: 0.8421 - val_loss: 0.4562 - val_auc: 0.7859 - val_binary_accuracy: 0.8281\n",
            "Epoch 33/150\n",
            "233/233 [==============================] - 1s 4ms/step - loss: 0.3561 - auc: 0.8509 - binary_accuracy: 0.8410 - val_loss: 0.4063 - val_auc: 0.7990 - val_binary_accuracy: 0.8335\n",
            "Epoch 34/150\n",
            "233/233 [==============================] - 1s 4ms/step - loss: 0.3608 - auc: 0.8447 - binary_accuracy: 0.8432 - val_loss: 0.4374 - val_auc: 0.8002 - val_binary_accuracy: 0.8206\n",
            "Epoch 35/150\n",
            "233/233 [==============================] - 1s 4ms/step - loss: 0.3586 - auc: 0.8465 - binary_accuracy: 0.8412 - val_loss: 0.4037 - val_auc: 0.7979 - val_binary_accuracy: 0.8389\n",
            "Epoch 36/150\n",
            "233/233 [==============================] - 1s 3ms/step - loss: 0.3559 - auc: 0.8517 - binary_accuracy: 0.8402 - val_loss: 0.3938 - val_auc: 0.8025 - val_binary_accuracy: 0.8378\n",
            "Epoch 37/150\n",
            "233/233 [==============================] - 1s 4ms/step - loss: 0.3517 - auc: 0.8547 - binary_accuracy: 0.8441 - val_loss: 0.3936 - val_auc: 0.8025 - val_binary_accuracy: 0.8389\n",
            "Epoch 38/150\n",
            "233/233 [==============================] - 1s 3ms/step - loss: 0.3527 - auc: 0.8550 - binary_accuracy: 0.8417 - val_loss: 0.3936 - val_auc: 0.8028 - val_binary_accuracy: 0.8367\n",
            "Epoch 39/150\n",
            "233/233 [==============================] - 1s 4ms/step - loss: 0.3505 - auc: 0.8569 - binary_accuracy: 0.8401 - val_loss: 0.4148 - val_auc: 0.7992 - val_binary_accuracy: 0.8303\n",
            "Epoch 40/150\n",
            "233/233 [==============================] - 1s 3ms/step - loss: 0.3499 - auc: 0.8569 - binary_accuracy: 0.8430 - val_loss: 0.4030 - val_auc: 0.8022 - val_binary_accuracy: 0.8292\n",
            "Epoch 41/150\n",
            "233/233 [==============================] - 1s 3ms/step - loss: 0.3502 - auc: 0.8576 - binary_accuracy: 0.8422 - val_loss: 0.3970 - val_auc: 0.8010 - val_binary_accuracy: 0.8335\n",
            "Epoch 42/150\n",
            "233/233 [==============================] - 1s 4ms/step - loss: 0.3485 - auc: 0.8593 - binary_accuracy: 0.8436 - val_loss: 0.3931 - val_auc: 0.8029 - val_binary_accuracy: 0.8400\n",
            "Epoch 43/150\n",
            "233/233 [==============================] - 1s 4ms/step - loss: 0.3472 - auc: 0.8608 - binary_accuracy: 0.8436 - val_loss: 0.3947 - val_auc: 0.8033 - val_binary_accuracy: 0.8335\n",
            "Epoch 44/150\n",
            "233/233 [==============================] - 1s 4ms/step - loss: 0.3459 - auc: 0.8619 - binary_accuracy: 0.8461 - val_loss: 0.3955 - val_auc: 0.8043 - val_binary_accuracy: 0.8335\n",
            "Epoch 45/150\n",
            "233/233 [==============================] - 1s 4ms/step - loss: 0.3447 - auc: 0.8646 - binary_accuracy: 0.8473 - val_loss: 0.3968 - val_auc: 0.8020 - val_binary_accuracy: 0.8367\n",
            "Epoch 46/150\n",
            "233/233 [==============================] - 1s 3ms/step - loss: 0.3453 - auc: 0.8623 - binary_accuracy: 0.8471 - val_loss: 0.3922 - val_auc: 0.8049 - val_binary_accuracy: 0.8389\n",
            "Epoch 47/150\n",
            "233/233 [==============================] - 1s 3ms/step - loss: 0.3450 - auc: 0.8638 - binary_accuracy: 0.8459 - val_loss: 0.3927 - val_auc: 0.8037 - val_binary_accuracy: 0.8421\n",
            "Epoch 48/150\n",
            "233/233 [==============================] - 1s 4ms/step - loss: 0.3435 - auc: 0.8656 - binary_accuracy: 0.8476 - val_loss: 0.3931 - val_auc: 0.8034 - val_binary_accuracy: 0.8400\n",
            "Epoch 49/150\n",
            "233/233 [==============================] - 1s 4ms/step - loss: 0.3425 - auc: 0.8660 - binary_accuracy: 0.8457 - val_loss: 0.3917 - val_auc: 0.8040 - val_binary_accuracy: 0.8410\n",
            "Epoch 50/150\n",
            "233/233 [==============================] - 1s 4ms/step - loss: 0.3433 - auc: 0.8658 - binary_accuracy: 0.8471 - val_loss: 0.3916 - val_auc: 0.8048 - val_binary_accuracy: 0.8378\n",
            "Epoch 51/150\n",
            "233/233 [==============================] - 1s 4ms/step - loss: 0.3433 - auc: 0.8650 - binary_accuracy: 0.8467 - val_loss: 0.3946 - val_auc: 0.8031 - val_binary_accuracy: 0.8432\n",
            "Epoch 52/150\n",
            "233/233 [==============================] - 1s 4ms/step - loss: 0.3413 - auc: 0.8681 - binary_accuracy: 0.8477 - val_loss: 0.3915 - val_auc: 0.8047 - val_binary_accuracy: 0.8389\n",
            "Epoch 53/150\n",
            "233/233 [==============================] - 1s 4ms/step - loss: 0.3409 - auc: 0.8683 - binary_accuracy: 0.8469 - val_loss: 0.3916 - val_auc: 0.8041 - val_binary_accuracy: 0.8378\n",
            "Epoch 54/150\n",
            "233/233 [==============================] - 1s 4ms/step - loss: 0.3408 - auc: 0.8687 - binary_accuracy: 0.8469 - val_loss: 0.3919 - val_auc: 0.8040 - val_binary_accuracy: 0.8410\n",
            "Epoch 55/150\n",
            "233/233 [==============================] - 1s 4ms/step - loss: 0.3406 - auc: 0.8687 - binary_accuracy: 0.8487 - val_loss: 0.3914 - val_auc: 0.8049 - val_binary_accuracy: 0.8421\n",
            "Epoch 56/150\n",
            "233/233 [==============================] - 1s 4ms/step - loss: 0.3398 - auc: 0.8695 - binary_accuracy: 0.8484 - val_loss: 0.3919 - val_auc: 0.8040 - val_binary_accuracy: 0.8389\n"
          ]
        }
      ]
    },
    {
      "cell_type": "code",
      "source": [
        "plt.plot(result.history['val_binary_accuracy'])\n",
        "test_result = model.evaluate(test_data)\n",
        "plt.show()"
      ],
      "metadata": {
        "colab": {
          "base_uri": "https://localhost:8080/",
          "height": 282
        },
        "id": "o7ikAyGQbM3U",
        "outputId": "fb671aa2-0105-475c-8da4-b84d5cc7f9a9"
      },
      "execution_count": 173,
      "outputs": [
        {
          "output_type": "stream",
          "name": "stdout",
          "text": [
            "30/30 [==============================] - 0s 3ms/step - loss: 0.3949 - auc: 0.8074 - binary_accuracy: 0.8195\n"
          ]
        },
        {
          "output_type": "display_data",
          "data": {
            "image/png": "[encoded data removed]",
            "text/plain": [
              "<Figure size 432x288 with 1 Axes>"
            ]
          },
          "metadata": {
            "needs_background": "light"
          }
        }
      ]
    },
    {
      "cell_type": "code",
      "source": [
        "plt.plot(result.history['loss'], label='Train')\n",
        "plt.plot(result.history['val_loss'], label='Validation')\n",
        "plt.legend()"
      ],
      "metadata": {
        "colab": {
          "base_uri": "https://localhost:8080/",
          "height": 282
        },
        "id": "XpfXuQVtjj1S",
        "outputId": "e4bdc7be-7192-4246-dac6-1211c2b7b8fe"
      },
      "execution_count": 174,
      "outputs": [
        {
          "output_type": "execute_result",
          "data": {
            "text/plain": [
              "<matplotlib.legend.Legend at 0x7f9108d99c90>"
            ]
          },
          "metadata": {},
          "execution_count": 174
        },
        {
          "output_type": "display_data",
          "data": {
            "image/png": "[encoded data removed]",
            "text/plain": [
              "<Figure size 432x288 with 1 Axes>"
            ]
          },
          "metadata": {
            "needs_background": "light"
          }
        }
      ]
    },
    {
      "cell_type": "code",
      "source": [
        "print(f'Test accuracy {test_result[2]:.2f}. Test AUC {test_result[1]:.2f}')"
      ],
      "metadata": {
        "colab": {
          "base_uri": "https://localhost:8080/"
        },
        "id": "7fFn-YKyfy79",
        "outputId": "e2fe44d6-987b-45da-ee99-77e1236a04f5"
      },
      "execution_count": 175,
      "outputs": [
        {
          "output_type": "stream",
          "name": "stdout",
          "text": [
            "Test accuracy 0.82. Test AUC 0.81\n"
          ]
        }
      ]
    },
    {
      "cell_type": "code",
      "source": [
        ""
      ],
      "metadata": {
        "id": "Bl0nNXMynJvP"
      },
      "execution_count": 157,
      "outputs": []
    }
  ]
}